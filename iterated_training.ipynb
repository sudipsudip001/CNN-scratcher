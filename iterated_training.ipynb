{
 "cells": [
  {
   "cell_type": "markdown",
   "id": "770a6156-13fa-48aa-8735-3b24b356aba8",
   "metadata": {},
   "source": [
    "# So this is the second notebook of the project. I'll be training the for multiple iterations and getting rid of any errors that would have caused my model to underperform."
   ]
  },
  {
   "cell_type": "code",
   "execution_count": 1,
   "id": "a5e97b03-8d8c-4012-867e-0a5b4eae40dd",
   "metadata": {},
   "outputs": [],
   "source": [
    "import pickle\n",
    "import numpy as np\n",
    "import os\n",
    "\n",
    "import matplotlib.pyplot as plt"
   ]
  },
  {
   "cell_type": "code",
   "execution_count": 2,
   "id": "5a7e36e4-0796-46be-ab0c-c20d8605aea7",
   "metadata": {},
   "outputs": [],
   "source": [
    "def unpickle(file):\n",
    "    with open(file, 'rb') as fo:\n",
    "        dict = pickle.load(fo, encoding='bytes')\n",
    "    return dict"
   ]
  },
  {
   "cell_type": "code",
   "execution_count": 3,
   "id": "afa272fa-ed8d-4540-ae49-9693e342bf50",
   "metadata": {},
   "outputs": [],
   "source": [
    "images = []\n",
    "labels = []"
   ]
  },
  {
   "cell_type": "code",
   "execution_count": 4,
   "id": "da4832b9-14d7-4498-9e60-b0996de7dc73",
   "metadata": {},
   "outputs": [],
   "source": [
    "data_path = \".\\\\dataset\\\\cifar-10-batches-py\\\\\""
   ]
  },
  {
   "cell_type": "code",
   "execution_count": 5,
   "id": "e5b3303b-6f1e-4709-8956-ff0a892dea60",
   "metadata": {},
   "outputs": [],
   "source": [
    "for i in range(1, 6):\n",
    "    batch = unpickle(os.path.join(data_path, f\"data_batch_{i}\"))\n",
    "    images.append(batch[b'data'])\n",
    "    labels.append(batch[b'labels'])"
   ]
  },
  {
   "cell_type": "code",
   "execution_count": 6,
   "id": "6e294b19-cb9c-48c1-8f49-2e2d89e455b4",
   "metadata": {},
   "outputs": [
    {
     "name": "stdout",
     "output_type": "stream",
     "text": [
      "(50000, 32, 32, 3)\n",
      "10000\n"
     ]
    }
   ],
   "source": [
    "train_images = np.vstack(images).reshape(-1, 3, 32, 32).transpose(0, 2, 3, 1)\n",
    "print(train_images.shape)\n",
    "print(len(labels[1]))"
   ]
  },
  {
   "cell_type": "code",
   "execution_count": 7,
   "id": "0865f371-d36e-4f3e-86ba-23511dd0f118",
   "metadata": {},
   "outputs": [
    {
     "name": "stdout",
     "output_type": "stream",
     "text": [
      "(50000, 1)\n"
     ]
    }
   ],
   "source": [
    "the_label = np.hstack(labels).reshape(50000, 1)\n",
    "print(the_label.shape)"
   ]
  },
  {
   "cell_type": "code",
   "execution_count": 8,
   "id": "90414ad9-8961-4d2f-9cd1-de6e47df007d",
   "metadata": {},
   "outputs": [],
   "source": [
    "test_batch = unpickle(os.path.join(data_path, f\"test_batch\"))\n",
    "test_image = test_batch[b'data']\n",
    "test_label = test_batch[b'labels']\n",
    "test = test_image.reshape(-1, 3, 32, 32).transpose(0, 2, 3, 1)"
   ]
  },
  {
   "cell_type": "code",
   "execution_count": null,
   "id": "f8f9fd46-9b7b-4839-8d66-295763e718a3",
   "metadata": {},
   "outputs": [],
   "source": []
  },
  {
   "cell_type": "code",
   "execution_count": 9,
   "id": "2c712348-9251-411a-8bfa-49e566fb91ef",
   "metadata": {},
   "outputs": [],
   "source": [
    "image_indice = 55"
   ]
  },
  {
   "cell_type": "code",
   "execution_count": null,
   "id": "8f17be0e-d0dd-40fa-a8fc-f82dc2bac555",
   "metadata": {},
   "outputs": [],
   "source": []
  },
  {
   "cell_type": "code",
   "execution_count": 10,
   "id": "bebba837-ba6d-493b-968f-ee9e9d3fe978",
   "metadata": {},
   "outputs": [
    {
     "data": {
      "text/plain": [
       "(32, 32)"
      ]
     },
     "execution_count": 10,
     "metadata": {},
     "output_type": "execute_result"
    }
   ],
   "source": [
    "the_image = train_images[image_indice]\n",
    "the_image = the_image / 255. #trying with normalization\n",
    "the_image = the_image[:, :, 0]\n",
    "the_image.shape"
   ]
  },
  {
   "cell_type": "code",
   "execution_count": null,
   "id": "bedff0c7-717b-49c9-a4b2-7868aaabda67",
   "metadata": {},
   "outputs": [],
   "source": []
  },
  {
   "cell_type": "code",
   "execution_count": 11,
   "id": "aece5d40-f8f0-4afa-954d-b17f777a0b8f",
   "metadata": {},
   "outputs": [
    {
     "data": {
      "image/png": "[encoded data removed]",
      "text/plain": [
       "<Figure size 640x480 with 1 Axes>"
      ]
     },
     "metadata": {},
     "output_type": "display_data"
    }
   ],
   "source": [
    "plt.imshow(the_image)\n",
    "plt.show()"
   ]
  },
  {
   "cell_type": "code",
   "execution_count": 12,
   "id": "f658fb75-fcce-4d8d-960b-a7b95980c74d",
   "metadata": {},
   "outputs": [
    {
     "name": "stdout",
     "output_type": "stream",
     "text": [
      "(2, 1, 3, 3)\n",
      "(4, 2, 3, 3)\n"
     ]
    }
   ],
   "source": [
    "convs1 = np.array(\n",
    "    [\n",
    "        [\n",
    "            [[0.00328364, 0.00046651, 0.00239101],\n",
    "             [0.0031846,  0.00522945, 0.00504424],\n",
    "             [0.00656692, 0.00797387, 0.00094572]]\n",
    "        ],\n",
    "        [\n",
    "            [[0.00797592, 0.00631291, 0.0033623],\n",
    "             [0.00250088, 0.00891176, 0.00581687],\n",
    "             [0.00331829, 0.00605359, 0.00339134]]\n",
    "        ],\n",
    "    ])\n",
    "\n",
    "convs2 = np.array(\n",
    "    [\n",
    "        [\n",
    "            [[0.00895433, 0.00077189, 0.00134878],\n",
    "             [0.0024303,  0.00128332, 0.00385131],\n",
    "             [0.00030218, 0.00822385, 0.0041281 ]],\n",
    "            [[0.00330197, 0.00191346, 0.00780884],\n",
    "             [0.00504102, 0.00311831, 0.00084845],\n",
    "             [0.0042936,  0.0004314,  0.00322003]]\n",
    "        ],\n",
    "        [\n",
    "            [[0.00611116, 0.00969479, 0.00433376],\n",
    "             [0.00497096, 0.00378853, 0.00957198],\n",
    "             [0.00069666, 0.00522063, 0.00165166]],\n",
    "            [[0.00820643, 0.00017181, 0.00121214],\n",
    "             [0.00166301, 0.00039936, 0.00269654],\n",
    "             [0.00391191, 0.00306065, 0.00771255]]\n",
    "        ],\n",
    "        [\n",
    "            [[0.00045499, 0.00068764, 0.00229433],\n",
    "             [0.00027335, 0.00095961, 0.00598458],\n",
    "             [0.00600151, 0.00034938, 0.00494806]],\n",
    "            [[0.00858401, 0.0092831, 0.00198257],\n",
    "             [0.00936511, 0.00155508, 0.00791489],\n",
    "             [0.00046979, 0.00483815, 0.0068774 ]]\n",
    "        ],\n",
    "        [\n",
    "            [[0.00338009, 0.00940353, 0.00900636],\n",
    "             [0.00713607, 0.00445887, 0.00500987],\n",
    "             [0.00164991, 0.00979389, 0.00952612]],\n",
    "            [[0.00379532, 0.00633353, 0.00105769],\n",
    "             [0.00736161, 0.00213996, 0.0033809],\n",
    "             [0.00740902, 0.00608547, 0.00291607]]\n",
    "        ]\n",
    "    ]\n",
    ")\n",
    "print(convs1.shape)\n",
    "print(convs2.shape)"
   ]
  },
  {
   "cell_type": "code",
   "execution_count": 13,
   "id": "cf7a75d5-1bca-4466-bbf5-9acbc4bdf060",
   "metadata": {},
   "outputs": [
    {
     "name": "stdout",
     "output_type": "stream",
     "text": [
      "(2,)\n",
      "(4,)\n"
     ]
    }
   ],
   "source": [
    "bias1 = np.array([0., 0.])\n",
    "bias2 = np.array([0., 0., 0., 0.])\n",
    "\n",
    "print(bias1.shape)\n",
    "print(bias2.shape)"
   ]
  },
  {
   "cell_type": "code",
   "execution_count": 14,
   "id": "91c09fbf-13fa-4eea-80d1-3cadc3ed871d",
   "metadata": {},
   "outputs": [
    {
     "name": "stdout",
     "output_type": "stream",
     "text": [
      "(1, 32, 32)\n"
     ]
    }
   ],
   "source": [
    "the_image = the_image.reshape(1, 32, 32)\n",
    "print(the_image.shape)"
   ]
  },
  {
   "cell_type": "code",
   "execution_count": 15,
   "id": "34c40bc2-ba48-4235-8a57-6e0efb62f5a3",
   "metadata": {},
   "outputs": [],
   "source": [
    "feature_map = np.zeros((2, 30, 30))\n",
    "# the shape is 30,30 because the new feature map's shape will be 30,30"
   ]
  },
  {
   "cell_type": "code",
   "execution_count": 16,
   "id": "4a531527-e9f1-42fb-a31c-a545f168072c",
   "metadata": {},
   "outputs": [],
   "source": [
    "def relu(z):\n",
    "    return np.maximum(0, z)"
   ]
  },
  {
   "cell_type": "code",
   "execution_count": 17,
   "id": "1766ebae-b5f7-4dcb-a5ea-225cc25d2b41",
   "metadata": {},
   "outputs": [],
   "source": [
    "max_pool = np.ones((2, 15, 15))"
   ]
  },
  {
   "cell_type": "code",
   "execution_count": 18,
   "id": "5ebff9f0-9588-45d7-81e7-c3d115cc9ff5",
   "metadata": {},
   "outputs": [],
   "source": [
    "feature_map_ii = np.zeros((4, 12, 12))"
   ]
  },
  {
   "cell_type": "code",
   "execution_count": null,
   "id": "807e15b4-110c-4d0e-827a-c9841c71f89e",
   "metadata": {},
   "outputs": [],
   "source": []
  },
  {
   "cell_type": "code",
   "execution_count": 19,
   "id": "992fa296-2e81-4f18-adde-c63d28a6f90c",
   "metadata": {},
   "outputs": [],
   "source": [
    "def relu_again(z):\n",
    "    return np.maximum(0, z)"
   ]
  },
  {
   "cell_type": "code",
   "execution_count": 20,
   "id": "51647204-bcc2-4b7b-88f6-ba3683021d60",
   "metadata": {},
   "outputs": [],
   "source": [
    "max_pool_ii = np.ones((4, 6, 6))"
   ]
  },
  {
   "cell_type": "code",
   "execution_count": 21,
   "id": "c971cacf-b145-4993-9a31-86afebad006a",
   "metadata": {},
   "outputs": [],
   "source": [
    "def diff_relu(z):\n",
    "    return z > 0"
   ]
  },
  {
   "cell_type": "code",
   "execution_count": 22,
   "id": "1eedef0b-df0f-446f-9b9a-a34dd1130280",
   "metadata": {},
   "outputs": [],
   "source": [
    "# w1 = np.random.rand(50, 144)*0.01\n",
    "# b1 = np.zeros((50, 1))\n",
    "# w2 = np.random.rand(50, 10)*0.01\n",
    "# b2 = np.zeros((10, 1))\n",
    "\n",
    "\n",
    "#trying different initialization method\n",
    "w1 = np.random.rand(50, 144)*np.sqrt(2/(144 + 50))\n",
    "b1 = np.zeros((50, 1))\n",
    "w2 = np.random.rand(50, 10)*np.sqrt(2/(50 + 10))\n",
    "b2 = np.zeros((10, 1))"
   ]
  },
  {
   "cell_type": "code",
   "execution_count": null,
   "id": "52a74f3f-5d62-49a7-ab6a-9a7e0a9169a6",
   "metadata": {},
   "outputs": [],
   "source": []
  },
  {
   "cell_type": "code",
   "execution_count": 23,
   "id": "f510e660-74ae-455b-97e1-b4576e94c8cd",
   "metadata": {},
   "outputs": [],
   "source": [
    "# def softmax(z):\n",
    "#     probs = np.exp(z) / sum(np.exp(z))\n",
    "#     return probs\n",
    "\n",
    "\n",
    "# stable version of the softmax function\n",
    "\n",
    "def softmax(x):\n",
    "    shifted = x - np.max(x, axis=0, keepdims=True)\n",
    "    exp_x = np.exp(shifted)\n",
    "    return exp_x / np.sum(exp_x, axis=0, keepdims=True)"
   ]
  },
  {
   "cell_type": "code",
   "execution_count": null,
   "id": "ece3d58f-3825-48d0-abc2-e0ea0bf78fba",
   "metadata": {},
   "outputs": [],
   "source": []
  },
  {
   "cell_type": "code",
   "execution_count": null,
   "id": "8db9e0d1-3eab-4069-8953-00469951874e",
   "metadata": {},
   "outputs": [],
   "source": []
  },
  {
   "cell_type": "code",
   "execution_count": 24,
   "id": "452a712a-6273-4de3-ac21-fad70e522144",
   "metadata": {},
   "outputs": [],
   "source": [
    "def forward(w1, b1, w2, b2, data):\n",
    "    z1 = np.dot(w1, data) + b1\n",
    "    a1 = relu(z1)\n",
    "    z2 = np.dot(w2.T, a1) + b2\n",
    "    a2 = softmax(z2)\n",
    "    return a2, z1, a1, z2"
   ]
  },
  {
   "cell_type": "code",
   "execution_count": 25,
   "id": "32d9e697-97cc-4e74-b022-9379463c9562",
   "metadata": {},
   "outputs": [],
   "source": [
    "def the_value(label):\n",
    "    labels = ['airplane', 'automobile', 'bird', 'cat', 'deer', 'dog', 'frog', 'horse', 'ship', 'truck']\n",
    "    return labels[label]"
   ]
  },
  {
   "cell_type": "code",
   "execution_count": null,
   "id": "287a7b9c-9989-488e-8e70-78447f721cb3",
   "metadata": {},
   "outputs": [],
   "source": []
  },
  {
   "cell_type": "code",
   "execution_count": null,
   "id": "190e16d4-81bc-44f6-832e-d1ce2bb8fec1",
   "metadata": {},
   "outputs": [],
   "source": []
  },
  {
   "cell_type": "code",
   "execution_count": 26,
   "id": "87bd517a-e155-47a7-9520-2c77f0154b73",
   "metadata": {},
   "outputs": [],
   "source": [
    "total_classes = 10\n",
    "\n",
    "hot_encoded_arr = np.zeros((total_classes, 1))\n",
    "hot_encoded_arr[the_label[image_indice][0]] = 1  # put the corresponding value in the hot_encoded_arr as 1"
   ]
  },
  {
   "cell_type": "code",
   "execution_count": null,
   "id": "8b1e7672-025a-4768-930f-f55c81ec26b6",
   "metadata": {},
   "outputs": [],
   "source": []
  },
  {
   "cell_type": "code",
   "execution_count": 27,
   "id": "005d78d9-811d-47cf-8241-4cc12e7de31d",
   "metadata": {},
   "outputs": [
    {
     "name": "stdout",
     "output_type": "stream",
     "text": [
      "[[0.]\n",
      " [0.]\n",
      " [1.]\n",
      " [0.]\n",
      " [0.]\n",
      " [0.]\n",
      " [0.]\n",
      " [0.]\n",
      " [0.]\n",
      " [0.]]\n"
     ]
    }
   ],
   "source": [
    "print(hot_encoded_arr)"
   ]
  },
  {
   "cell_type": "code",
   "execution_count": null,
   "id": "c96322cd-af16-408a-9fbe-4560559bde75",
   "metadata": {},
   "outputs": [],
   "source": []
  },
  {
   "cell_type": "code",
   "execution_count": null,
   "id": "d0a5ffd5-508c-41bb-9d46-27a545bc4a3f",
   "metadata": {},
   "outputs": [],
   "source": []
  },
  {
   "cell_type": "code",
   "execution_count": null,
   "id": "bc9edb1b-b22c-4c77-bfcb-1bf1c442d3f3",
   "metadata": {},
   "outputs": [],
   "source": []
  },
  {
   "cell_type": "code",
   "execution_count": 28,
   "id": "8605b2a3-75b4-4bfb-8ffd-383c829ea07b",
   "metadata": {},
   "outputs": [],
   "source": [
    "def max_pool_backward(dp2, relued_again):\n",
    "    d_relued_again = np.zeros_like(relued_again)\n",
    "    #for each maximum number, find its position and assign the particular gradient to it!\n",
    "    for k in range(4):\n",
    "        a = 0\n",
    "        for i in range(0, 12, 2):\n",
    "            b = 0\n",
    "            for j in range(0, 12, 2):\n",
    "                #now we get the indice of the maximum element from the given filter inspection\n",
    "                the_max = max(relued_again[k][i][j], relued_again[k][i][j+1], relued_again[k][i+1][j], relued_again[k][i+1][j+1])\n",
    "                #fuck it. I just can't find the function to find the index of the maximum array or my brain isn't working rn, so m gonna use if here\n",
    "                if the_max == relued_again[k][i][j]:\n",
    "                    i_is = i\n",
    "                    j_is = j\n",
    "                elif the_max == relued_again[k][i][j+1]:\n",
    "                    i_is = i\n",
    "                    j_is = j+1\n",
    "                elif the_max == relued_again[k][i+1][j]:\n",
    "                    i_is = i+1\n",
    "                    j_is = j\n",
    "                else:\n",
    "                    i_is = i+1\n",
    "                    j_is = j+1\n",
    "                d_relued_again[k][i_is][j_is] = dp2[k][a][b] #put gradient in the position at the exact position of the maximum element\n",
    "                b += 1\n",
    "            a += 1\n",
    "    return d_relued_again"
   ]
  },
  {
   "cell_type": "code",
   "execution_count": 29,
   "id": "a912213d-418c-4f6a-99f2-bdbe0fed5e1b",
   "metadata": {},
   "outputs": [],
   "source": [
    "def max_pool_backward1(dp, relued):\n",
    "    d_relued = np.zeros_like(relued)\n",
    "    #for each maximum number, find its position and assign the particular gradient to it!\n",
    "    for k in range(2):\n",
    "        a = 0\n",
    "        for i in range(0, 15, 2):\n",
    "            b = 0\n",
    "            for j in range(0, 15, 2):\n",
    "                #now we get the indice of the maximum element from the given filter inspection\n",
    "                the_max = max(relued[k][i][j], relued[k][i][j+1], relued[k][i+1][j], relued[k][i+1][j+1])\n",
    "                if the_max == relued[k][i][j]:\n",
    "                    i_is = i\n",
    "                    j_is = j\n",
    "                elif the_max == relued[k][i][j+1]:\n",
    "                    i_is = i\n",
    "                    j_is = j+1\n",
    "                elif the_max == relued[k][i+1][j]:\n",
    "                    i_is = i+1\n",
    "                    j_is = j\n",
    "                else:\n",
    "                    i_is = i+1\n",
    "                    j_is = j+1\n",
    "                d_relued[k][i_is][j_is] = dp[k][a][b] #put gradient in the position at the exact position of the maximum element\n",
    "                b += 1\n",
    "            a += 1\n",
    "    return d_relued"
   ]
  },
  {
   "cell_type": "code",
   "execution_count": null,
   "id": "3e68feaa-7742-456e-9161-97991bf51fb5",
   "metadata": {},
   "outputs": [],
   "source": []
  },
  {
   "cell_type": "code",
   "execution_count": null,
   "id": "1e88d228-4065-4726-a469-e7c468ea34f6",
   "metadata": {},
   "outputs": [],
   "source": []
  },
  {
   "cell_type": "code",
   "execution_count": 30,
   "id": "5d8e39da-1180-4b23-8e47-a66645915f39",
   "metadata": {},
   "outputs": [],
   "source": [
    "#for layer 1\n",
    "def ahead(w1, b1, w2, b2, convs1, bias1, convs2, bias2):\n",
    "    for k in range(2):\n",
    "        for l in range(1):\n",
    "            for i in range(30):\n",
    "                for j in range(30):\n",
    "                    feature_map[k][i][j] = (the_image[l][i][j]*convs1[k][l][0][0] + the_image[l][i][j+1]*convs1[k][l][0][1] + the_image[l][i][j+2]*convs1[k][l][0][2]) + (the_image[l][i+1][j]*convs1[k][l][1][0] + the_image[l][i+1][j+1]*convs1[k][l][1][1] + the_image[l][i+1][j+2]*convs1[k][l][1][2]) + (the_image[l][i+2][j]*convs1[k][l][2][0] + the_image[l][i+2][j+1]*convs1[k][l][2][1] + the_image[l][i+2][j+2]*convs1[k][l][2][2]) + bias1[k]\n",
    "    \n",
    "    relued = relu(feature_map)\n",
    "    \n",
    "    \n",
    "    for k in range(2):\n",
    "        a = 0\n",
    "        for i in range(0, 30, 2):\n",
    "            b = 0\n",
    "            for j in range(0, 30, 2):\n",
    "                max_pool[k][a][b] = max(relued[k][i][j], relued[k][i][j+1], relued[k][i+1][j], relued[k][i+1][j+1])\n",
    "                b += 1\n",
    "            a += 1\n",
    "    \n",
    "    #for layer 2        \n",
    "    for k in range(4):\n",
    "        for l in range(1):\n",
    "            for i in range(12):\n",
    "                for j in range(12):\n",
    "                    feature_map_ii[k][i][j] = (max_pool[l][i][j]*convs2[k][l][0][0] + max_pool[l][i][j+1]*convs2[k][l][0][1] + max_pool[l][i][j+2]*convs2[k][l][0][2] + max_pool[l][i+1][j]*convs2[k][l][1][0] + max_pool[l][i+1][j+1]*convs2[k][l][1][1] + max_pool[l][i+1][j+2]*convs2[k][l][1][2] + max_pool[l][i+2][j]*convs2[k][l][2][0] + max_pool[l][i+2][j+1]*convs2[k][l][2][1] + max_pool[l][i+2][j+2]*convs2[k][l][2][2]) + (max_pool[l+1][i][j]*convs2[k][l+1][0][0] + max_pool[l+1][i][j+1]*convs2[k][l+1][0][1] +  max_pool[l+1][i][j+2]*convs2[k][l+1][0][2] + max_pool[l+1][i+1][j]*convs2[k][l+1][1][0] + max_pool[l+1][i+1][j+1]*convs2[k][l+1][1][1] + max_pool[l+1][i+1][j+2]*convs2[k][l+1][1][2] + max_pool[l+1][i+2][j]*convs2[k][l+1][2][0] + max_pool[l+1][i+2][j+1]*convs2[k][l+1][2][1] + max_pool[l+1][i+2][j+2]*convs2[k][l+1][2][2]) + bias2[k]\n",
    "    \n",
    "    relued_again = relu(feature_map_ii)\n",
    "    \n",
    "    for k in range(4):\n",
    "        a = 0\n",
    "        for i in range(0, 12, 2):\n",
    "            b = 0\n",
    "            for j in range(0, 12, 2):\n",
    "                max_pool_ii[k][a][b] = max(relued_again[k][i][j], relued_again[k][i][j+1], relued_again[k][i+1][j], relued_again[k][i+1][j+1])\n",
    "                b += 1\n",
    "            a += 1\n",
    "    \n",
    "    \n",
    "    #NN layer\n",
    "    flattened = max_pool_ii.flatten()\n",
    "    flattened = flattened.reshape(144, 1)\n",
    "    \n",
    "    the_val, z1, a1, z2 = forward(w1, b1, w2, b2, flattened)\n",
    "\n",
    "    prediction_num = np.argmax(the_val, 0)\n",
    "    a = prediction_num[0]\n",
    "\n",
    "    predicted_num = np.argmax(the_val, 0)\n",
    "    predicted_int = predicted_num[0]\n",
    "    prediction = the_value(predicted_int)\n",
    "\n",
    "    dz2 = hot_encoded_arr - the_val\n",
    "    num_data = 1 #this might be causing an issue in our model!!!!!!!!!!!!!!!!!!!!!!!!!!!!!!!!!!!!!!!!!!!!!!!!!!!!!!!!!!\n",
    "\n",
    "    dw2 = 1/num_data * dz2.dot(a1.T)\n",
    "    db2 = 1/num_data * np.sum(dz2)\n",
    "\n",
    "    dz1 = w2.dot(dz2)*diff_relu(z1)\n",
    "\n",
    "    dw1 = 1/num_data * dz1.dot(flattened.T)\n",
    "    db1 = 1/num_data * np.sum(dz1)\n",
    "\n",
    "    #CNN layer\n",
    "    df = dw1.T.dot(dz1)\n",
    "\n",
    "    dp2 = df.reshape((4, 6, 6))\n",
    "\n",
    "    d_relued_again = max_pool_backward(dp2, relued_again)\n",
    "\n",
    "    diff_relu(d_relued_again)\n",
    "\n",
    "    new_d_relued_again = np.pad(d_relued_again, ((0, 0), (0, 1), (0, 1)), mode='constant', constant_values=0)\n",
    "\n",
    "    d_filter = np.zeros((4, 2, 3, 3))\n",
    "\n",
    "    for i in range(4): #denotes the number of filters\n",
    "        for j in range(2): #denotes the depth of image that we're convolving over\n",
    "            for k in range(3): #the number of times the strides are taken along the vertical direction\n",
    "                for l in range(3): #the number of times the strides are taken along the horizontal direction\n",
    "                    addition = 0 #the gradient to be added to the image\n",
    "                    for m in range(13):\n",
    "                        for n in range(13):\n",
    "                            addition += max_pool[j][m+k][n+l] * new_d_relued_again[i][m][n]\n",
    "                    d_filter[i][j][k][l] = addition\n",
    "\n",
    "    d_bias2 = np.sum(d_relued_again)\n",
    "\n",
    "    padded_d_relued_again = np.pad(new_d_relued_again, pad_width=((0, 0), (2, 2), (2, 2)), mode='constant', constant_values=0)\n",
    "\n",
    "    rotated_convs2 = np.zeros((4, 2, 3, 3))\n",
    "\n",
    "    for i in range(4):\n",
    "        for j in range(2):\n",
    "            k = np.flip(convs2[i][j], axis=1)\n",
    "            l = np.flip(k, axis=0)\n",
    "            rotated_convs2[i][j] = l\n",
    "\n",
    "    d_layer1 = np.zeros((2, 15, 15)) # the gradient to get propagated back to the first layer.\n",
    "\n",
    "    for i in range(4): # denotes the current iteration number of filter number and gradient number\n",
    "        for j in range(2): # denotes the depth of filter used\n",
    "            for k in range(15):\n",
    "                for l in range(15):\n",
    "                    # d_layer1[j][k][l] += rotated_convs2[i][j][0][0]*padded_d_relued_again[i][k][l] + rotated_convs2[i][j][0][1]*padded_d_relued_again[i][k][l+1] + rotated_convs2[i][j][0][2]*padded_d_relued_again[i][k][l+2] + rotated_convs2[i][j][1][0]*padded_d_relued_again[i][k+1][l] + rotated_convs2[i][j][1][1]*padded_d_relued_again[i][k+1][l+1] + rotated_convs2[i][j][1][2]*padded_d_relued_again[i][k+1][l+2] + rotated_convs2[i][j][2][0]*padded_d_relued_again[i][k+2][l] + rotated_convs2[i][j][2][1]*padded_d_relued_again[i][k+2][l+1] + rotated_convs2[i][j][2][2]*padded_d_relued_again[i][k+2][l+2]\n",
    "                    for m in range(3):\n",
    "                        for n in range(3):\n",
    "                            d_layer1[j][k][l] += (rotated_convs2[i][j][m][n] * padded_d_relued_again[i][k+m][l+n])\n",
    "\n",
    "    d_relued = max_pool_backward1(d_layer1, relued)\n",
    "\n",
    "    diff_relu(d_relued)\n",
    "\n",
    "    d_bias1 = np.sum(d_relued)\n",
    "\n",
    "    d_convs1 = np.zeros((2, 1, 3, 3))\n",
    "\n",
    "    for i in range(2): #denotes the number of filters\n",
    "        for j in range(1): #denotes the depth of image that we're convolving over\n",
    "            for k in range(3): #the number of times the strides are taken along the vertical direction\n",
    "                for l in range(3): #the number of times the strides are taken along the horizontal direction\n",
    "                    addition = 0 #the gradient to be added to the image\n",
    "                    for m in range(30):\n",
    "                        for n in range(30):\n",
    "                            addition += the_image[j][m+k][n+l] * d_relued[i][m][n]\n",
    "                    d_convs1[i][j][k][l] = addition\n",
    "\n",
    "    # return all the gradients for subtraction\n",
    "    # I should probably return the gradients serially from the backwards layer to the front layer in order to not miss any\n",
    "    return dw1, db1, dw2, db2, d_convs1, d_bias1, d_filter, d_bias2"
   ]
  },
  {
   "cell_type": "code",
   "execution_count": null,
   "id": "238ce3c7-a5d8-48c3-bb24-bfbbe6abd40a",
   "metadata": {},
   "outputs": [],
   "source": []
  },
  {
   "cell_type": "code",
   "execution_count": null,
   "id": "7d724e48-6d6e-4a15-a8ae-333a073cf5db",
   "metadata": {},
   "outputs": [],
   "source": []
  },
  {
   "cell_type": "code",
   "execution_count": null,
   "id": "1cc045cc-f493-49ef-86ec-cc6739e7beea",
   "metadata": {},
   "outputs": [],
   "source": []
  },
  {
   "cell_type": "code",
   "execution_count": 31,
   "id": "6c5d9188-0292-4b0c-ab4f-aaddb1fa2c99",
   "metadata": {},
   "outputs": [],
   "source": [
    "#to see if the weights and biases are actually changing\n",
    "w1_prev = w1\n",
    "w2_prev = w2\n",
    "b1_prev = b1\n",
    "b2_prev = b2\n",
    "convs1_prev = convs1\n",
    "bias1_prev = bias1\n",
    "convs2_prev = convs2\n",
    "bias2_prev = bias2"
   ]
  },
  {
   "cell_type": "code",
   "execution_count": null,
   "id": "709656f0-aa0d-4a0b-8d80-9ecf2e2be6f0",
   "metadata": {},
   "outputs": [],
   "source": []
  },
  {
   "cell_type": "code",
   "execution_count": null,
   "id": "7821320c-5fbe-41a7-b93f-656bf4daa2f7",
   "metadata": {},
   "outputs": [],
   "source": []
  },
  {
   "cell_type": "code",
   "execution_count": 32,
   "id": "c3c02ba5-75d1-48bb-a8dd-6a6447f0e4ed",
   "metadata": {
    "scrolled": true
   },
   "outputs": [],
   "source": [
    "# print(w1_prev)\n",
    "# print(w2_prev)\n",
    "# print(b1_prev)\n",
    "# print(b2_prev)\n",
    "# print(convs1_prev)\n",
    "# print(bias1_prev)\n",
    "# print(convs2_prev)\n",
    "# print(bias2_prev)"
   ]
  },
  {
   "cell_type": "code",
   "execution_count": null,
   "id": "7a3c2692-4460-49ad-911f-3adc929afa78",
   "metadata": {},
   "outputs": [],
   "source": []
  },
  {
   "cell_type": "code",
   "execution_count": null,
   "id": "25fe6b71-375e-4d61-8efe-d3660cb02c31",
   "metadata": {},
   "outputs": [],
   "source": []
  },
  {
   "cell_type": "code",
   "execution_count": null,
   "id": "40e58fa6-c90c-4cef-b2b3-b0d8cbece962",
   "metadata": {},
   "outputs": [],
   "source": []
  },
  {
   "cell_type": "code",
   "execution_count": null,
   "id": "bc010056-9047-483a-9fb1-e5653e162fd2",
   "metadata": {},
   "outputs": [],
   "source": []
  },
  {
   "cell_type": "code",
   "execution_count": 33,
   "id": "da2fd13d-add5-4eb2-b917-bb2c37df101b",
   "metadata": {},
   "outputs": [
    {
     "name": "stderr",
     "output_type": "stream",
     "text": [
      "C:\\Users\\SUDIP 001\\AppData\\Local\\Temp\\ipykernel_8996\\21624154.py:9: RuntimeWarning: overflow encountered in subtract\n",
      "  shifted = x - np.max(x, axis=0, keepdims=True)\n",
      "C:\\Users\\SUDIP 001\\AppData\\Local\\Temp\\ipykernel_8996\\21624154.py:9: RuntimeWarning: invalid value encountered in subtract\n",
      "  shifted = x - np.max(x, axis=0, keepdims=True)\n"
     ]
    }
   ],
   "source": [
    "RATE = 0.1\n",
    "for i in range(1500):\n",
    "    dw1, db1, dw2, db2, d_convs1, d_bias1, d_convs2, d_bias2 =  ahead(w1, b1, w2, b2, convs1, bias1, convs2, bias2) #pass the parameters to the function\n",
    "    #perform the update\n",
    "    w1 = w1 - RATE*dw1\n",
    "    w2 = w2 - RATE*dw2.T\n",
    "    b1 = b1 - RATE*db1\n",
    "    b2 = b2 - RATE*db2\n",
    "    convs1 = convs1 - RATE*d_convs1\n",
    "    bias1 = bias1 - RATE*d_bias1\n",
    "    convs2 = convs2 - RATE*d_convs2\n",
    "    bias2 = bias2 - RATE*d_bias2"
   ]
  },
  {
   "cell_type": "code",
   "execution_count": null,
   "id": "493d650a-22fa-415e-95ac-a381ac9e3bf9",
   "metadata": {},
   "outputs": [],
   "source": []
  },
  {
   "cell_type": "code",
   "execution_count": null,
   "id": "664c6d63-aaa5-4f1f-83fe-58f65c084a8e",
   "metadata": {},
   "outputs": [],
   "source": []
  },
  {
   "cell_type": "code",
   "execution_count": 34,
   "id": "05fbd9d6-9d30-44d2-b3fa-8d0856fdbea6",
   "metadata": {},
   "outputs": [],
   "source": [
    "#weights and biases after update\n",
    "w1_after = w1\n",
    "w2_after = w2\n",
    "b1_after = b1\n",
    "b2_after = b2\n",
    "convs1_after = convs1\n",
    "bias1_after = bias1\n",
    "convs2_after = convs2\n",
    "bias2_after = bias2"
   ]
  },
  {
   "cell_type": "code",
   "execution_count": null,
   "id": "234038a9-aaeb-4372-99ac-7ecfa88d4054",
   "metadata": {},
   "outputs": [],
   "source": []
  },
  {
   "cell_type": "code",
   "execution_count": 35,
   "id": "8628b88b-dada-42ba-a4cd-b78a76e869ce",
   "metadata": {
    "scrolled": true
   },
   "outputs": [],
   "source": [
    "# print(w1_prev == w1_after)\n",
    "# print(w2_prev == w2_after)\n",
    "# print(b1_prev == b1_after)\n",
    "# print(b2_prev == b2_after)\n",
    "# print(convs1_prev == convs1_after)\n",
    "# print(bias1_prev == bias1_after)\n",
    "# print(convs2_prev == convs2_after)\n",
    "# print(bias2_prev == bias2_after)"
   ]
  },
  {
   "cell_type": "code",
   "execution_count": null,
   "id": "0d85e76e-e6ea-41bf-a69d-af38529ef601",
   "metadata": {},
   "outputs": [],
   "source": []
  },
  {
   "cell_type": "code",
   "execution_count": null,
   "id": "7c0e189a-7366-4c56-b9f3-c31b7769f932",
   "metadata": {},
   "outputs": [],
   "source": []
  },
  {
   "cell_type": "code",
   "execution_count": null,
   "id": "62b91ffb-2227-416f-be06-2a4f37d9be5e",
   "metadata": {},
   "outputs": [],
   "source": []
  },
  {
   "cell_type": "code",
   "execution_count": 36,
   "id": "5d67040b-f4d5-4834-9c8e-8a843cc9811d",
   "metadata": {
    "scrolled": true
   },
   "outputs": [
    {
     "name": "stdout",
     "output_type": "stream",
     "text": [
      "[[nan nan nan ... nan nan nan]\n",
      " [nan nan nan ... nan nan nan]\n",
      " [nan nan nan ... nan nan nan]\n",
      " ...\n",
      " [nan nan nan ... nan nan nan]\n",
      " [nan nan nan ... nan nan nan]\n",
      " [nan nan nan ... nan nan nan]]\n",
      "[[nan nan nan nan nan nan nan nan nan nan]\n",
      " [nan nan nan nan nan nan nan nan nan nan]\n",
      " [nan nan nan nan nan nan nan nan nan nan]\n",
      " [nan nan nan nan nan nan nan nan nan nan]\n",
      " [nan nan nan nan nan nan nan nan nan nan]\n",
      " [nan nan nan nan nan nan nan nan nan nan]\n",
      " [nan nan nan nan nan nan nan nan nan nan]\n",
      " [nan nan nan nan nan nan nan nan nan nan]\n",
      " [nan nan nan nan nan nan nan nan nan nan]\n",
      " [nan nan nan nan nan nan nan nan nan nan]\n",
      " [nan nan nan nan nan nan nan nan nan nan]\n",
      " [nan nan nan nan nan nan nan nan nan nan]\n",
      " [nan nan nan nan nan nan nan nan nan nan]\n",
      " [nan nan nan nan nan nan nan nan nan nan]\n",
      " [nan nan nan nan nan nan nan nan nan nan]\n",
      " [nan nan nan nan nan nan nan nan nan nan]\n",
      " [nan nan nan nan nan nan nan nan nan nan]\n",
      " [nan nan nan nan nan nan nan nan nan nan]\n",
      " [nan nan nan nan nan nan nan nan nan nan]\n",
      " [nan nan nan nan nan nan nan nan nan nan]\n",
      " [nan nan nan nan nan nan nan nan nan nan]\n",
      " [nan nan nan nan nan nan nan nan nan nan]\n",
      " [nan nan nan nan nan nan nan nan nan nan]\n",
      " [nan nan nan nan nan nan nan nan nan nan]\n",
      " [nan nan nan nan nan nan nan nan nan nan]\n",
      " [nan nan nan nan nan nan nan nan nan nan]\n",
      " [nan nan nan nan nan nan nan nan nan nan]\n",
      " [nan nan nan nan nan nan nan nan nan nan]\n",
      " [nan nan nan nan nan nan nan nan nan nan]\n",
      " [nan nan nan nan nan nan nan nan nan nan]\n",
      " [nan nan nan nan nan nan nan nan nan nan]\n",
      " [nan nan nan nan nan nan nan nan nan nan]\n",
      " [nan nan nan nan nan nan nan nan nan nan]\n",
      " [nan nan nan nan nan nan nan nan nan nan]\n",
      " [nan nan nan nan nan nan nan nan nan nan]\n",
      " [nan nan nan nan nan nan nan nan nan nan]\n",
      " [nan nan nan nan nan nan nan nan nan nan]\n",
      " [nan nan nan nan nan nan nan nan nan nan]\n",
      " [nan nan nan nan nan nan nan nan nan nan]\n",
      " [nan nan nan nan nan nan nan nan nan nan]\n",
      " [nan nan nan nan nan nan nan nan nan nan]\n",
      " [nan nan nan nan nan nan nan nan nan nan]\n",
      " [nan nan nan nan nan nan nan nan nan nan]\n",
      " [nan nan nan nan nan nan nan nan nan nan]\n",
      " [nan nan nan nan nan nan nan nan nan nan]\n",
      " [nan nan nan nan nan nan nan nan nan nan]\n",
      " [nan nan nan nan nan nan nan nan nan nan]\n",
      " [nan nan nan nan nan nan nan nan nan nan]\n",
      " [nan nan nan nan nan nan nan nan nan nan]\n",
      " [nan nan nan nan nan nan nan nan nan nan]]\n",
      "[[nan]\n",
      " [nan]\n",
      " [nan]\n",
      " [nan]\n",
      " [nan]\n",
      " [nan]\n",
      " [nan]\n",
      " [nan]\n",
      " [nan]\n",
      " [nan]\n",
      " [nan]\n",
      " [nan]\n",
      " [nan]\n",
      " [nan]\n",
      " [nan]\n",
      " [nan]\n",
      " [nan]\n",
      " [nan]\n",
      " [nan]\n",
      " [nan]\n",
      " [nan]\n",
      " [nan]\n",
      " [nan]\n",
      " [nan]\n",
      " [nan]\n",
      " [nan]\n",
      " [nan]\n",
      " [nan]\n",
      " [nan]\n",
      " [nan]\n",
      " [nan]\n",
      " [nan]\n",
      " [nan]\n",
      " [nan]\n",
      " [nan]\n",
      " [nan]\n",
      " [nan]\n",
      " [nan]\n",
      " [nan]\n",
      " [nan]\n",
      " [nan]\n",
      " [nan]\n",
      " [nan]\n",
      " [nan]\n",
      " [nan]\n",
      " [nan]\n",
      " [nan]\n",
      " [nan]\n",
      " [nan]\n",
      " [nan]]\n",
      "[[nan]\n",
      " [nan]\n",
      " [nan]\n",
      " [nan]\n",
      " [nan]\n",
      " [nan]\n",
      " [nan]\n",
      " [nan]\n",
      " [nan]\n",
      " [nan]]\n",
      "[[[[nan nan nan]\n",
      "   [nan nan nan]\n",
      "   [nan nan nan]]]\n",
      "\n",
      "\n",
      " [[[nan nan nan]\n",
      "   [nan nan nan]\n",
      "   [nan nan nan]]]]\n",
      "[nan nan]\n",
      "[[[[nan nan nan]\n",
      "   [nan nan nan]\n",
      "   [nan nan nan]]\n",
      "\n",
      "  [[nan nan nan]\n",
      "   [nan nan nan]\n",
      "   [nan nan nan]]]\n",
      "\n",
      "\n",
      " [[[nan nan nan]\n",
      "   [nan nan nan]\n",
      "   [nan nan nan]]\n",
      "\n",
      "  [[nan nan nan]\n",
      "   [nan nan nan]\n",
      "   [nan nan nan]]]\n",
      "\n",
      "\n",
      " [[[nan nan nan]\n",
      "   [nan nan nan]\n",
      "   [nan nan nan]]\n",
      "\n",
      "  [[nan nan nan]\n",
      "   [nan nan nan]\n",
      "   [nan nan nan]]]\n",
      "\n",
      "\n",
      " [[[nan nan nan]\n",
      "   [nan nan nan]\n",
      "   [nan nan nan]]\n",
      "\n",
      "  [[nan nan nan]\n",
      "   [nan nan nan]\n",
      "   [nan nan nan]]]]\n",
      "[nan nan nan nan]\n"
     ]
    }
   ],
   "source": [
    "print(w1_after)\n",
    "print(w2_after)\n",
    "print(b1_after)\n",
    "print(b2_after)\n",
    "print(convs1_after)\n",
    "print(bias1_after)\n",
    "print(convs2_after)\n",
    "print(bias2_after)"
   ]
  },
  {
   "cell_type": "code",
   "execution_count": null,
   "id": "060d531a-41e0-436d-9f10-f3f3874ecae4",
   "metadata": {},
   "outputs": [],
   "source": []
  },
  {
   "cell_type": "code",
   "execution_count": null,
   "id": "bf2ad547-3924-4f3a-a830-d361acae1729",
   "metadata": {},
   "outputs": [],
   "source": []
  },
  {
   "cell_type": "code",
   "execution_count": null,
   "id": "f57c2729-62e7-4f27-9699-41a5a7f90feb",
   "metadata": {},
   "outputs": [],
   "source": []
  },
  {
   "cell_type": "code",
   "execution_count": null,
   "id": "2acbe317-7204-4141-8b53-aa9a0aac55e3",
   "metadata": {},
   "outputs": [],
   "source": []
  },
  {
   "cell_type": "code",
   "execution_count": null,
   "id": "9ccbcd19-5626-4b7e-be88-a267e2df68b6",
   "metadata": {},
   "outputs": [],
   "source": []
  },
  {
   "cell_type": "code",
   "execution_count": 37,
   "id": "fff08fda-3c02-4056-801f-e8465ca7f02b",
   "metadata": {},
   "outputs": [],
   "source": [
    "def test(w1, b1, w2, b2, convs1, bias1, convs2, bias2):\n",
    "    for k in range(2):\n",
    "        for l in range(1):\n",
    "            for i in range(30):\n",
    "                for j in range(30):\n",
    "                    feature_map[k][i][j] = (the_image[l][i][j]*convs1[k][l][0][0] + the_image[l][i][j+1]*convs1[k][l][0][1] + the_image[l][i][j+2]*convs1[k][l][0][2]) + (the_image[l][i+1][j]*convs1[k][l][1][0] + the_image[l][i+1][j+1]*convs1[k][l][1][1] + the_image[l][i+1][j+2]*convs1[k][l][1][2]) + (the_image[l][i+2][j]*convs1[k][l][2][0] + the_image[l][i+2][j+1]*convs1[k][l][2][1] + the_image[l][i+2][j+2]*convs1[k][l][2][2]) + bias1[k]\n",
    "    \n",
    "    relued = relu(feature_map)\n",
    "    \n",
    "    \n",
    "    for k in range(2):\n",
    "        a = 0\n",
    "        for i in range(0, 30, 2):\n",
    "            b = 0\n",
    "            for j in range(0, 30, 2):\n",
    "                max_pool[k][a][b] = max(relued[k][i][j], relued[k][i][j+1], relued[k][i+1][j], relued[k][i+1][j+1])\n",
    "                b += 1\n",
    "            a += 1\n",
    "    \n",
    "    #for layer 2        \n",
    "    for k in range(4):\n",
    "        for l in range(1):\n",
    "            for i in range(12):\n",
    "                for j in range(12):\n",
    "                    feature_map_ii[k][i][j] = (max_pool[l][i][j]*convs2[k][l][0][0] + max_pool[l][i][j+1]*convs2[k][l][0][1] + max_pool[l][i][j+2]*convs2[k][l][0][2] + max_pool[l][i+1][j]*convs2[k][l][1][0] + max_pool[l][i+1][j+1]*convs2[k][l][1][1] + max_pool[l][i+1][j+2]*convs2[k][l][1][2] + max_pool[l][i+2][j]*convs2[k][l][2][0] + max_pool[l][i+2][j+1]*convs2[k][l][2][1] + max_pool[l][i+2][j+2]*convs2[k][l][2][2]) + (max_pool[l+1][i][j]*convs2[k][l+1][0][0] + max_pool[l+1][i][j+1]*convs2[k][l+1][0][1] +  max_pool[l+1][i][j+2]*convs2[k][l+1][0][2] + max_pool[l+1][i+1][j]*convs2[k][l+1][1][0] + max_pool[l+1][i+1][j+1]*convs2[k][l+1][1][1] + max_pool[l+1][i+1][j+2]*convs2[k][l+1][1][2] + max_pool[l+1][i+2][j]*convs2[k][l+1][2][0] + max_pool[l+1][i+2][j+1]*convs2[k][l+1][2][1] + max_pool[l+1][i+2][j+2]*convs2[k][l+1][2][2]) + bias2[k]\n",
    "    \n",
    "    relued_again = relu(feature_map_ii)\n",
    "    \n",
    "    for k in range(4):\n",
    "        a = 0\n",
    "        for i in range(0, 12, 2):\n",
    "            b = 0\n",
    "            for j in range(0, 12, 2):\n",
    "                max_pool_ii[k][a][b] = max(relued_again[k][i][j], relued_again[k][i][j+1], relued_again[k][i+1][j], relued_again[k][i+1][j+1])\n",
    "                b += 1\n",
    "            a += 1\n",
    "    \n",
    "    \n",
    "    #NN layer\n",
    "    flattened = max_pool_ii.flatten()\n",
    "    flattened = flattened.reshape(144, 1)\n",
    "    \n",
    "    the_val, z1, a1, z2 = forward(w1, b1, w2, b2, flattened)\n",
    "\n",
    "    prediction_num = np.argmax(the_val, 0)\n",
    "    a = prediction_num[0]\n",
    "\n",
    "    predicted_num = np.argmax(the_val, 0)\n",
    "    predicted_int = predicted_num[0]\n",
    "    prediction = the_value(predicted_int)\n",
    "\n",
    "    return prediction"
   ]
  },
  {
   "cell_type": "code",
   "execution_count": 38,
   "id": "5ac51930-3a78-4870-b93f-feb4ff55e3ad",
   "metadata": {},
   "outputs": [
    {
     "name": "stdout",
     "output_type": "stream",
     "text": [
      "airplane\n"
     ]
    }
   ],
   "source": [
    "val = test(w1_after, b1_after, w2_after, b2_after, convs1, bias1, convs2, bias2)\n",
    "print(val)"
   ]
  },
  {
   "cell_type": "code",
   "execution_count": null,
   "id": "034e3fcc-ecd3-4ec4-aae9-a0289b441144",
   "metadata": {},
   "outputs": [],
   "source": []
  }
 ],
 "metadata": {
  "kernelspec": {
   "display_name": "Python 3 (ipykernel)",
   "language": "python",
   "name": "python3"
  },
  "language_info": {
   "codemirror_mode": {
    "name": "ipython",
    "version": 3
   },
   "file_extension": ".py",
   "mimetype": "text/x-python",
   "name": "python",
   "nbconvert_exporter": "python",
   "pygments_lexer": "ipython3",
   "version": "3.12.3"
  }
 },
 "nbformat": 4,
 "nbformat_minor": 5
}

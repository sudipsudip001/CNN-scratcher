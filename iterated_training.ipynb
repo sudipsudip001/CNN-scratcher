{
 "cells": [
  {
   "cell_type": "markdown",
   "id": "770a6156-13fa-48aa-8735-3b24b356aba8",
   "metadata": {},
   "source": [
    "# So this is the second notebook of the project. I'll be training the model for multiple iterations and getting rid of any errors that would have caused my model to underperform."
   ]
  },
  {
   "cell_type": "code",
   "execution_count": 1,
   "id": "a5e97b03-8d8c-4012-867e-0a5b4eae40dd",
   "metadata": {},
   "outputs": [],
   "source": [
    "import pickle\n",
    "import numpy as np\n",
    "import os\n",
    "\n",
    "import matplotlib.pyplot as plt"
   ]
  },
  {
   "cell_type": "code",
   "execution_count": 2,
   "id": "5a7e36e4-0796-46be-ab0c-c20d8605aea7",
   "metadata": {},
   "outputs": [],
   "source": [
    "def unpickle(file):\n",
    "    with open(file, 'rb') as fo:\n",
    "        dict = pickle.load(fo, encoding='bytes')\n",
    "    return dict"
   ]
  },
  {
   "cell_type": "code",
   "execution_count": 3,
   "id": "afa272fa-ed8d-4540-ae49-9693e342bf50",
   "metadata": {},
   "outputs": [],
   "source": [
    "images = []\n",
    "labels = []"
   ]
  },
  {
   "cell_type": "code",
   "execution_count": 4,
   "id": "da4832b9-14d7-4498-9e60-b0996de7dc73",
   "metadata": {},
   "outputs": [],
   "source": [
    "data_path = \".\\\\dataset\\\\cifar-10-batches-py\\\\\""
   ]
  },
  {
   "cell_type": "code",
   "execution_count": 5,
   "id": "e5b3303b-6f1e-4709-8956-ff0a892dea60",
   "metadata": {},
   "outputs": [],
   "source": [
    "for i in range(1, 6):\n",
    "    batch = unpickle(os.path.join(data_path, f\"data_batch_{i}\"))\n",
    "    images.append(batch[b'data'])\n",
    "    labels.append(batch[b'labels'])"
   ]
  },
  {
   "cell_type": "code",
   "execution_count": 6,
   "id": "6e294b19-cb9c-48c1-8f49-2e2d89e455b4",
   "metadata": {},
   "outputs": [
    {
     "name": "stdout",
     "output_type": "stream",
     "text": [
      "(50000, 32, 32, 3)\n",
      "10000\n"
     ]
    }
   ],
   "source": [
    "train_images = np.vstack(images).reshape(-1, 3, 32, 32).transpose(0, 2, 3, 1)\n",
    "print(train_images.shape)\n",
    "print(len(labels[1]))"
   ]
  },
  {
   "cell_type": "code",
   "execution_count": 7,
   "id": "0865f371-d36e-4f3e-86ba-23511dd0f118",
   "metadata": {},
   "outputs": [
    {
     "name": "stdout",
     "output_type": "stream",
     "text": [
      "(50000, 1)\n"
     ]
    }
   ],
   "source": [
    "the_label = np.hstack(labels).reshape(50000, 1)\n",
    "print(the_label.shape)"
   ]
  },
  {
   "cell_type": "code",
   "execution_count": 8,
   "id": "90414ad9-8961-4d2f-9cd1-de6e47df007d",
   "metadata": {},
   "outputs": [],
   "source": [
    "test_batch = unpickle(os.path.join(data_path, f\"test_batch\"))\n",
    "test_image = test_batch[b'data']\n",
    "test_label = test_batch[b'labels']\n",
    "test = test_image.reshape(-1, 3, 32, 32).transpose(0, 2, 3, 1)"
   ]
  },
  {
   "cell_type": "code",
   "execution_count": null,
   "id": "f8f9fd46-9b7b-4839-8d66-295763e718a3",
   "metadata": {},
   "outputs": [],
   "source": []
  },
  {
   "cell_type": "code",
   "execution_count": 9,
   "id": "2c712348-9251-411a-8bfa-49e566fb91ef",
   "metadata": {},
   "outputs": [],
   "source": [
    "image_indice = 1111"
   ]
  },
  {
   "cell_type": "code",
   "execution_count": null,
   "id": "12dd7712-2e8c-46a0-a1f6-37e92ad598a5",
   "metadata": {},
   "outputs": [],
   "source": []
  },
  {
   "cell_type": "code",
   "execution_count": null,
   "id": "ddcd6c7f-2f73-4c23-81ef-49e612d3ce2a",
   "metadata": {},
   "outputs": [],
   "source": []
  },
  {
   "cell_type": "code",
   "execution_count": null,
   "id": "4e2672e7-b739-46a7-801c-5ff5711b118f",
   "metadata": {},
   "outputs": [],
   "source": []
  },
  {
   "cell_type": "code",
   "execution_count": null,
   "id": "d1124d10-ee02-426b-b817-1d884747dec2",
   "metadata": {},
   "outputs": [],
   "source": []
  },
  {
   "cell_type": "markdown",
   "id": "ccf97bfa-4eb6-4977-86de-c549cd51338f",
   "metadata": {},
   "source": [
    "### Let's work a bit more with image processing part"
   ]
  },
  {
   "cell_type": "code",
   "execution_count": 10,
   "id": "137778ca-aff2-4379-99bc-23e739652633",
   "metadata": {
    "scrolled": true
   },
   "outputs": [
    {
     "name": "stdout",
     "output_type": "stream",
     "text": [
      "[[[104  99  87]\n",
      "  [ 67  66  56]\n",
      "  [ 36  37  27]\n",
      "  ...\n",
      "  [117 105  80]\n",
      "  [ 44  35  24]\n",
      "  [ 90  81  61]]\n",
      "\n",
      " [[106 102  90]\n",
      "  [ 70  69  57]\n",
      "  [ 32  33  20]\n",
      "  ...\n",
      "  [123 109  81]\n",
      "  [ 68  55  40]\n",
      "  [112  98  74]]\n",
      "\n",
      " [[107 104  89]\n",
      "  [ 73  71  58]\n",
      "  [ 34  36  24]\n",
      "  ...\n",
      "  [124 109  80]\n",
      "  [ 89  74  55]\n",
      "  [107  91  70]]\n",
      "\n",
      " ...\n",
      "\n",
      " [[154 127  95]\n",
      "  [163 138 106]\n",
      "  [168 146 119]\n",
      "  ...\n",
      "  [174 139  73]\n",
      "  [173 135  67]\n",
      "  [172 134  63]]\n",
      "\n",
      " [[166 141 105]\n",
      "  [175 148 111]\n",
      "  [170 148 119]\n",
      "  ...\n",
      "  [176 140  81]\n",
      "  [176 140  80]\n",
      "  [168 135  74]]\n",
      "\n",
      " [[164 136  95]\n",
      "  [168 140 101]\n",
      "  [164 138 104]\n",
      "  ...\n",
      "  [181 145  90]\n",
      "  [176 145  94]\n",
      "  [172 141  88]]]\n"
     ]
    }
   ],
   "source": [
    "the_image = train_images[image_indice]\n",
    "print(the_image)"
   ]
  },
  {
   "cell_type": "code",
   "execution_count": null,
   "id": "8f17be0e-d0dd-40fa-a8fc-f82dc2bac555",
   "metadata": {},
   "outputs": [],
   "source": []
  },
  {
   "cell_type": "code",
   "execution_count": null,
   "id": "f5257b90-4e52-40be-a643-d4ad65e0810d",
   "metadata": {},
   "outputs": [],
   "source": []
  },
  {
   "cell_type": "markdown",
   "id": "25936500-2596-4d84-b661-c6b298f0d26c",
   "metadata": {},
   "source": [
    "### Normalizing with respect to mean and standard deviation"
   ]
  },
  {
   "cell_type": "code",
   "execution_count": 11,
   "id": "e1f74f98-6db1-4914-b68c-0227f1797232",
   "metadata": {
    "scrolled": true
   },
   "outputs": [],
   "source": [
    "# # finding the mean and standard deviation along a particular axis\n",
    "# mean = np.mean(the_image, axis=(0, 1))\n",
    "# std = np.std(the_image, axis=(0, 1))\n",
    "\n",
    "# print(mean)\n",
    "# print(std)\n",
    "\n",
    "# normalized_image = (the_image - mean) / std\n",
    "# print(normalized_image)\n",
    "\n",
    "# grey = np.dot(normalized_image, [0.2989, 0.5870, 0.1140])\n",
    "# again_mean = np.mean(grey)\n",
    "# again_std = np.std(grey)\n",
    "\n",
    "# norm = (grey - again_mean) / again_std\n",
    "# print(norm)\n",
    "# print(norm.shape)\n",
    "# the_image = norm"
   ]
  },
  {
   "cell_type": "code",
   "execution_count": null,
   "id": "de080270-14c7-42ee-828f-824808b7d9b0",
   "metadata": {},
   "outputs": [],
   "source": []
  },
  {
   "cell_type": "code",
   "execution_count": null,
   "id": "c6f3bd20-8e0f-4325-8394-1bbab1da5e44",
   "metadata": {},
   "outputs": [],
   "source": []
  },
  {
   "cell_type": "markdown",
   "id": "0d893f76-eef0-4362-90ae-52b1586e1afd",
   "metadata": {},
   "source": [
    "### Normalizing in the range of [-1, 1]"
   ]
  },
  {
   "cell_type": "code",
   "execution_count": 12,
   "id": "9c6f1ef4-788a-4d67-9204-d0732b0bfaaf",
   "metadata": {
    "scrolled": true
   },
   "outputs": [],
   "source": [
    "# normalized = (the_image / 127.5) - 1\n",
    "# print(normalized)\n",
    "# print(normalized.shape)\n",
    "\n",
    "# grey = np.dot(normalized, [0.2989, 0.5870, 0.1140])\n",
    "# mean = np.mean(grey)\n",
    "# std = np.std(grey)\n",
    "\n",
    "# norm = (grey - mean) / std\n",
    "# print(norm)\n",
    "# print(norm.shape)\n",
    "# the_image = norm"
   ]
  },
  {
   "cell_type": "code",
   "execution_count": null,
   "id": "9ca42b8c-459b-458e-9374-b67d65b56873",
   "metadata": {},
   "outputs": [],
   "source": []
  },
  {
   "cell_type": "code",
   "execution_count": null,
   "id": "13d44956-0a88-4dce-8b50-95f590d65e41",
   "metadata": {},
   "outputs": [],
   "source": []
  },
  {
   "cell_type": "markdown",
   "id": "6c66ef02-7aec-48a4-b537-86bc74b36750",
   "metadata": {},
   "source": [
    "### Normalizing in the range of [0, 1]"
   ]
  },
  {
   "cell_type": "code",
   "execution_count": 13,
   "id": "bebba837-ba6d-493b-968f-ee9e9d3fe978",
   "metadata": {},
   "outputs": [
    {
     "data": {
      "text/plain": [
       "(32, 32)"
      ]
     },
     "execution_count": 13,
     "metadata": {},
     "output_type": "execute_result"
    }
   ],
   "source": [
    "the_image = train_images[image_indice]\n",
    "the_image = the_image / 255. #trying with normalization\n",
    "the_image = the_image[:, :, 0]\n",
    "the_image.shape"
   ]
  },
  {
   "cell_type": "code",
   "execution_count": null,
   "id": "320d419b-d3f1-47c8-807c-45ed629022fd",
   "metadata": {},
   "outputs": [],
   "source": []
  },
  {
   "cell_type": "code",
   "execution_count": null,
   "id": "5baad379-d99b-4d65-8317-20eaac0b86f0",
   "metadata": {},
   "outputs": [],
   "source": []
  },
  {
   "cell_type": "code",
   "execution_count": null,
   "id": "d1a156e3-645d-41e2-b6a1-4846a885f198",
   "metadata": {},
   "outputs": [],
   "source": []
  },
  {
   "cell_type": "code",
   "execution_count": null,
   "id": "f92517c4-11dd-4913-8bb7-44545769ecfb",
   "metadata": {},
   "outputs": [],
   "source": []
  },
  {
   "cell_type": "code",
   "execution_count": null,
   "id": "f0896ffd-6295-44ec-bf21-470f1fa1feb6",
   "metadata": {},
   "outputs": [],
   "source": []
  },
  {
   "cell_type": "code",
   "execution_count": null,
   "id": "5bba7377-1632-4390-a4ae-599f8b57550a",
   "metadata": {},
   "outputs": [],
   "source": []
  },
  {
   "cell_type": "code",
   "execution_count": null,
   "id": "bedff0c7-717b-49c9-a4b2-7868aaabda67",
   "metadata": {},
   "outputs": [],
   "source": []
  },
  {
   "cell_type": "code",
   "execution_count": 14,
   "id": "aece5d40-f8f0-4afa-954d-b17f777a0b8f",
   "metadata": {},
   "outputs": [
    {
     "data": {
      "image/png": "[encoded data removed]",
      "text/plain": [
       "<Figure size 640x480 with 1 Axes>"
      ]
     },
     "metadata": {},
     "output_type": "display_data"
    }
   ],
   "source": [
    "plt.imshow(the_image)\n",
    "plt.show()"
   ]
  },
  {
   "cell_type": "code",
   "execution_count": null,
   "id": "6e1b9ba2-1eab-4da2-88f0-d7e30b4eb769",
   "metadata": {},
   "outputs": [],
   "source": []
  },
  {
   "cell_type": "code",
   "execution_count": null,
   "id": "e90fb2d8-aa52-4f67-ba60-25133301aff6",
   "metadata": {},
   "outputs": [],
   "source": []
  },
  {
   "cell_type": "code",
   "execution_count": 15,
   "id": "eb58131c-8dff-4940-a1cb-97935ef28f20",
   "metadata": {},
   "outputs": [],
   "source": [
    "# n = 1 * 3 * 3  # For convs1\n",
    "# convs1 = np.random.randn(2, 1, 3, 3) * np.sqrt(2 / n)\n",
    "# convs1"
   ]
  },
  {
   "cell_type": "code",
   "execution_count": null,
   "id": "0cc905bb-3d22-4100-9363-578eb5f44e17",
   "metadata": {},
   "outputs": [],
   "source": []
  },
  {
   "cell_type": "code",
   "execution_count": 16,
   "id": "5eeffd0c-bc76-4288-88d9-459be2f86371",
   "metadata": {},
   "outputs": [],
   "source": [
    "# n = 2 * 3 * 3  # For convs2\n",
    "# convs2 = np.random.randn(4, 2, 3, 3) * np.sqrt(2 / n)\n",
    "# convs2"
   ]
  },
  {
   "cell_type": "code",
   "execution_count": null,
   "id": "ddf492e5-0d9d-41ff-a70c-a9ed22ae8303",
   "metadata": {},
   "outputs": [],
   "source": []
  },
  {
   "cell_type": "code",
   "execution_count": null,
   "id": "b7f33962-43c8-430c-892c-b8d23ac8e4c2",
   "metadata": {},
   "outputs": [],
   "source": []
  },
  {
   "cell_type": "code",
   "execution_count": 17,
   "id": "f658fb75-fcce-4d8d-960b-a7b95980c74d",
   "metadata": {},
   "outputs": [
    {
     "name": "stdout",
     "output_type": "stream",
     "text": [
      "(2, 1, 3, 3)\n",
      "(4, 2, 3, 3)\n"
     ]
    }
   ],
   "source": [
    "convs1 = np.array(\n",
    "    [\n",
    "        [\n",
    "            [\n",
    "                [ 0.13946585, -0.21471022,  0.93753301],\n",
    "                [ 0.4994047 ,  0.26616005,  0.48099313],\n",
    "                [ 0.1483146 ,  0.42223968, -0.64469044]]],\n",
    "\n",
    "       [\n",
    "           [\n",
    "               [-0.05734518, -0.71556418,  0.31234046],\n",
    "               [-0.0394651 , -0.55097721,  0.23660937],\n",
    "               [-0.64564189, -1.03205081, -0.76989072]\n",
    "           ]\n",
    "       ]\n",
    "    ])\n",
    "\n",
    "convs2 = np.array(\n",
    "    [\n",
    "        [\n",
    "            [\n",
    "                [-0.25814897,  0.01838183, -0.15120541],\n",
    "                [-0.2365235 , -0.56304619,  0.13380695],\n",
    "                [-0.33414971,  0.94886685, -0.08960969]],\n",
    "\n",
    "            [\n",
    "                [-0.25372391,  0.14511064,  0.39024253],\n",
    "                [ 0.35404207, -0.2659075 ,  0.04602082],\n",
    "                [-0.44046035,  0.20010614,  0.29268264]\n",
    "            ]\n",
    "        ],\n",
    "        [\n",
    "            [\n",
    "               [-0.12676292,  0.08519918,  0.15238209],\n",
    "               [ 0.2278734 ,  0.24589808,  0.21179249],\n",
    "               [ 0.04261437,  0.34631843,  0.00952802]\n",
    "            ],\n",
    "            [\n",
    "               [-0.28677842,  0.36630284,  0.15388597],\n",
    "               [-0.12923126, -0.12401664, -0.23906797],\n",
    "               [ 0.29470837,  0.22153372, -0.45090181]\n",
    "            ]\n",
    "        ],\n",
    "        [\n",
    "            [\n",
    "                [-0.09455403,  0.09516843,  0.60725986],\n",
    "                [ 0.54091227, -0.64003007,  0.60246204],\n",
    "                [ 0.08020973,  0.34449927, -0.70016596]\n",
    "            ],\n",
    "            [\n",
    "                [-0.33702602, -0.63168092, -0.29209125],\n",
    "                [ 0.53846971, -0.5397904 , -0.2510981 ],\n",
    "                [-0.60180674, -0.41365405,  0.06211353]\n",
    "            ]\n",
    "        ],\n",
    "        [\n",
    "           [\n",
    "               [-0.61133665,  0.08813806, -0.81126952],\n",
    "               [ 0.13471821,  0.47912855,  0.23711187],\n",
    "               [ 0.52882139,  0.13791104,  0.31937779]\n",
    "           ],\n",
    "           [\n",
    "               [ 0.01403245, -0.38845595, -0.11938587],\n",
    "               [-0.17921749, -0.04845909, -0.18635919],\n",
    "               [ 0.30616391,  0.23832606, -0.22556262]\n",
    "           ]\n",
    "        ]\n",
    "    ])\n",
    "print(convs1.shape)\n",
    "print(convs2.shape)"
   ]
  },
  {
   "cell_type": "code",
   "execution_count": 18,
   "id": "cf7a75d5-1bca-4466-bbf5-9acbc4bdf060",
   "metadata": {},
   "outputs": [
    {
     "name": "stdout",
     "output_type": "stream",
     "text": [
      "(2,)\n",
      "(4,)\n"
     ]
    }
   ],
   "source": [
    "bias1 = np.array([0., 0.])\n",
    "bias2 = np.array([0., 0., 0., 0.])\n",
    "\n",
    "print(bias1.shape)\n",
    "print(bias2.shape)"
   ]
  },
  {
   "cell_type": "code",
   "execution_count": null,
   "id": "e23b974f-b8ae-4042-a51b-1e068cb905ec",
   "metadata": {},
   "outputs": [],
   "source": []
  },
  {
   "cell_type": "code",
   "execution_count": 19,
   "id": "91c09fbf-13fa-4eea-80d1-3cadc3ed871d",
   "metadata": {},
   "outputs": [
    {
     "name": "stdout",
     "output_type": "stream",
     "text": [
      "(1, 32, 32)\n"
     ]
    }
   ],
   "source": [
    "the_image = the_image.reshape(1, 32, 32)\n",
    "print(the_image.shape)"
   ]
  },
  {
   "cell_type": "code",
   "execution_count": null,
   "id": "cdabb847-5997-4968-a437-7296d00988fe",
   "metadata": {},
   "outputs": [],
   "source": []
  },
  {
   "cell_type": "code",
   "execution_count": 20,
   "id": "34c40bc2-ba48-4235-8a57-6e0efb62f5a3",
   "metadata": {},
   "outputs": [],
   "source": [
    "feature_map = np.zeros((2, 30, 30))\n",
    "# the shape is 30,30 because the new feature map's shape will be 30,30"
   ]
  },
  {
   "cell_type": "code",
   "execution_count": 21,
   "id": "4a531527-e9f1-42fb-a31c-a545f168072c",
   "metadata": {},
   "outputs": [],
   "source": [
    "# def relu(z):\n",
    "#     return np.maximum(0, z)\n",
    "\n",
    "#relu but its leaky again\n",
    "def relu(z, alpha=0.01):\n",
    "    return np.maximum(alpha*z, z)"
   ]
  },
  {
   "cell_type": "code",
   "execution_count": 22,
   "id": "1766ebae-b5f7-4dcb-a5ea-225cc25d2b41",
   "metadata": {},
   "outputs": [],
   "source": [
    "max_pool = np.ones((2, 15, 15))"
   ]
  },
  {
   "cell_type": "code",
   "execution_count": 23,
   "id": "5ebff9f0-9588-45d7-81e7-c3d115cc9ff5",
   "metadata": {},
   "outputs": [],
   "source": [
    "feature_map_ii = np.zeros((4, 12, 12))"
   ]
  },
  {
   "cell_type": "code",
   "execution_count": null,
   "id": "807e15b4-110c-4d0e-827a-c9841c71f89e",
   "metadata": {},
   "outputs": [],
   "source": []
  },
  {
   "cell_type": "code",
   "execution_count": 24,
   "id": "51647204-bcc2-4b7b-88f6-ba3683021d60",
   "metadata": {},
   "outputs": [],
   "source": [
    "max_pool_ii = np.ones((4, 6, 6))"
   ]
  },
  {
   "cell_type": "code",
   "execution_count": 25,
   "id": "c971cacf-b145-4993-9a31-86afebad006a",
   "metadata": {},
   "outputs": [],
   "source": [
    "# def diff_relu(z):\n",
    "#     return z > 0\n",
    "def diff_relu(z, alpha=0.01):\n",
    "    return np.where(z > 0, 1, alpha)"
   ]
  },
  {
   "cell_type": "code",
   "execution_count": 26,
   "id": "1eedef0b-df0f-446f-9b9a-a34dd1130280",
   "metadata": {},
   "outputs": [],
   "source": [
    "# w1 = np.random.rand(50, 144)*0.01\n",
    "# b1 = np.zeros((50, 1))\n",
    "# w2 = np.random.rand(50, 10)*0.01\n",
    "# b2 = np.zeros((10, 1))\n",
    "\n",
    "\n",
    "#trying different initialization method\n",
    "w1 = np.random.randn(50, 144)*np.sqrt(2/144)\n",
    "b1 = np.zeros((50, 1))\n",
    "# w2 = np.random.randn(50, 10)*np.sqrt(2/50)\n",
    "# weights seem to blow up when we're using he initialization so we're going to use xavier initialization in this layer\n",
    "w2 = np.random.randn(50, 10) * np.sqrt(1 / (50 + 10))\n",
    "b2 = np.zeros((10, 1))"
   ]
  },
  {
   "cell_type": "code",
   "execution_count": null,
   "id": "52a74f3f-5d62-49a7-ab6a-9a7e0a9169a6",
   "metadata": {},
   "outputs": [],
   "source": []
  },
  {
   "cell_type": "code",
   "execution_count": 27,
   "id": "f510e660-74ae-455b-97e1-b4576e94c8cd",
   "metadata": {},
   "outputs": [],
   "source": [
    "# def softmax(z):\n",
    "#     probs = np.exp(z) / sum(np.exp(z))\n",
    "#     return probs\n",
    "\n",
    "\n",
    "# # stable version of the softmax function\n",
    "\n",
    "# # def softmax(x):\n",
    "# #     shifted = x - np.max(x, axis=0, keepdims=True)\n",
    "# #     exp_x = np.exp(shifted)\n",
    "# #     return exp_x / np.sum(exp_x, axis=0, keepdims=True)\n",
    "\n",
    "\n",
    "\n",
    "#27th march, 2025. Stabalizing the softmax\n",
    "def softmax(z):\n",
    "    z_max = np.max(z, axis=0, keepdims=True)  # Find max along each column\n",
    "    exp_z = np.exp(z - z_max)  # Subtract max before exp\n",
    "    return exp_z / np.sum(exp_z, axis=0, keepdims=True)  # Normalize"
   ]
  },
  {
   "cell_type": "code",
   "execution_count": null,
   "id": "ece3d58f-3825-48d0-abc2-e0ea0bf78fba",
   "metadata": {},
   "outputs": [],
   "source": []
  },
  {
   "cell_type": "code",
   "execution_count": null,
   "id": "8db9e0d1-3eab-4069-8953-00469951874e",
   "metadata": {},
   "outputs": [],
   "source": []
  },
  {
   "cell_type": "code",
   "execution_count": 28,
   "id": "452a712a-6273-4de3-ac21-fad70e522144",
   "metadata": {},
   "outputs": [],
   "source": [
    "def forward(w1, b1, w2, b2, data):\n",
    "    z1 = np.dot(w1, data) + b1\n",
    "    a1 = relu(z1)\n",
    "    z2 = np.dot(w2.T, a1) + b2\n",
    "    a2 = softmax(z2)\n",
    "    return a2, z1, a1, z2"
   ]
  },
  {
   "cell_type": "code",
   "execution_count": 29,
   "id": "32d9e697-97cc-4e74-b022-9379463c9562",
   "metadata": {},
   "outputs": [],
   "source": [
    "def the_value(label):\n",
    "    labels = ['airplane', 'automobile', 'bird', 'cat', 'deer', 'dog', 'frog', 'horse', 'ship', 'truck']\n",
    "    return labels[label]"
   ]
  },
  {
   "cell_type": "code",
   "execution_count": null,
   "id": "287a7b9c-9989-488e-8e70-78447f721cb3",
   "metadata": {},
   "outputs": [],
   "source": []
  },
  {
   "cell_type": "code",
   "execution_count": null,
   "id": "190e16d4-81bc-44f6-832e-d1ce2bb8fec1",
   "metadata": {},
   "outputs": [],
   "source": []
  },
  {
   "cell_type": "code",
   "execution_count": 30,
   "id": "87bd517a-e155-47a7-9520-2c77f0154b73",
   "metadata": {},
   "outputs": [],
   "source": [
    "total_classes = 10\n",
    "\n",
    "hot_encoded_arr = np.zeros((total_classes, 1))\n",
    "hot_encoded_arr[the_label[image_indice][0]] = 1  # put the corresponding value in the hot_encoded_arr as 1"
   ]
  },
  {
   "cell_type": "code",
   "execution_count": null,
   "id": "8b1e7672-025a-4768-930f-f55c81ec26b6",
   "metadata": {},
   "outputs": [],
   "source": []
  },
  {
   "cell_type": "code",
   "execution_count": 31,
   "id": "005d78d9-811d-47cf-8241-4cc12e7de31d",
   "metadata": {},
   "outputs": [
    {
     "name": "stdout",
     "output_type": "stream",
     "text": [
      "[[0.]\n",
      " [0.]\n",
      " [0.]\n",
      " [0.]\n",
      " [0.]\n",
      " [1.]\n",
      " [0.]\n",
      " [0.]\n",
      " [0.]\n",
      " [0.]]\n"
     ]
    }
   ],
   "source": [
    "print(hot_encoded_arr)"
   ]
  },
  {
   "cell_type": "code",
   "execution_count": null,
   "id": "c96322cd-af16-408a-9fbe-4560559bde75",
   "metadata": {},
   "outputs": [],
   "source": []
  },
  {
   "cell_type": "code",
   "execution_count": null,
   "id": "d0a5ffd5-508c-41bb-9d46-27a545bc4a3f",
   "metadata": {},
   "outputs": [],
   "source": []
  },
  {
   "cell_type": "code",
   "execution_count": null,
   "id": "bc9edb1b-b22c-4c77-bfcb-1bf1c442d3f3",
   "metadata": {},
   "outputs": [],
   "source": []
  },
  {
   "cell_type": "code",
   "execution_count": 32,
   "id": "8605b2a3-75b4-4bfb-8ffd-383c829ea07b",
   "metadata": {},
   "outputs": [],
   "source": [
    "def max_pool_backward(dp2, relued_again):\n",
    "    d_relued_again = np.zeros_like(relued_again)\n",
    "    #for each maximum number, find its position and assign the particular gradient to it!\n",
    "    for k in range(4):\n",
    "        a = 0\n",
    "        for i in range(0, 12, 2):\n",
    "            b = 0\n",
    "            for j in range(0, 12, 2):\n",
    "                #now we get the indice of the maximum element from the given filter inspection\n",
    "                the_max = max(relued_again[k][i][j], relued_again[k][i][j+1], relued_again[k][i+1][j], relued_again[k][i+1][j+1])\n",
    "                #fuck it. I just can't find the function to find the index of the maximum array or my brain isn't working rn, so m gonna use if here\n",
    "                if the_max == relued_again[k][i][j]:\n",
    "                    i_is = i\n",
    "                    j_is = j\n",
    "                elif the_max == relued_again[k][i][j+1]:\n",
    "                    i_is = i\n",
    "                    j_is = j+1\n",
    "                elif the_max == relued_again[k][i+1][j]:\n",
    "                    i_is = i+1\n",
    "                    j_is = j\n",
    "                else:\n",
    "                    i_is = i+1\n",
    "                    j_is = j+1\n",
    "                d_relued_again[k][i_is][j_is] = dp2[k][a][b] #put gradient in the position at the exact position of the maximum element\n",
    "                b += 1\n",
    "            a += 1\n",
    "    return d_relued_again"
   ]
  },
  {
   "cell_type": "code",
   "execution_count": 33,
   "id": "a912213d-418c-4f6a-99f2-bdbe0fed5e1b",
   "metadata": {},
   "outputs": [],
   "source": [
    "def max_pool_backward1(dp, relued):\n",
    "    d_relued = np.zeros_like(relued)\n",
    "    #for each maximum number, find its position and assign the particular gradient to it!\n",
    "    for k in range(2):\n",
    "        a = 0\n",
    "        for i in range(0, 15, 2):\n",
    "            b = 0\n",
    "            for j in range(0, 15, 2):\n",
    "                #now we get the indice of the maximum element from the given filter inspection\n",
    "                the_max = max(relued[k][i][j], relued[k][i][j+1], relued[k][i+1][j], relued[k][i+1][j+1])\n",
    "                if the_max == relued[k][i][j]:\n",
    "                    i_is = i\n",
    "                    j_is = j\n",
    "                elif the_max == relued[k][i][j+1]:\n",
    "                    i_is = i\n",
    "                    j_is = j+1\n",
    "                elif the_max == relued[k][i+1][j]:\n",
    "                    i_is = i+1\n",
    "                    j_is = j\n",
    "                else:\n",
    "                    i_is = i+1\n",
    "                    j_is = j+1\n",
    "                d_relued[k][i_is][j_is] = dp[k][a][b] #put gradient in the position at the exact position of the maximum element\n",
    "                b += 1\n",
    "            a += 1\n",
    "    return d_relued"
   ]
  },
  {
   "cell_type": "code",
   "execution_count": null,
   "id": "3e68feaa-7742-456e-9161-97991bf51fb5",
   "metadata": {},
   "outputs": [],
   "source": []
  },
  {
   "cell_type": "code",
   "execution_count": null,
   "id": "1e88d228-4065-4726-a469-e7c468ea34f6",
   "metadata": {},
   "outputs": [],
   "source": []
  },
  {
   "cell_type": "code",
   "execution_count": 34,
   "id": "5d8e39da-1180-4b23-8e47-a66645915f39",
   "metadata": {},
   "outputs": [],
   "source": [
    "#for layer 1\n",
    "def ahead(w1, b1, w2, b2, convs1, bias1, convs2, bias2):\n",
    "    for k in range(2):\n",
    "        for l in range(1):\n",
    "            for i in range(30):\n",
    "                for j in range(30):\n",
    "                    feature_map[k][i][j] = (the_image[l][i][j]*convs1[k][l][0][0] + the_image[l][i][j+1]*convs1[k][l][0][1] + the_image[l][i][j+2]*convs1[k][l][0][2]) + (the_image[l][i+1][j]*convs1[k][l][1][0] + the_image[l][i+1][j+1]*convs1[k][l][1][1] + the_image[l][i+1][j+2]*convs1[k][l][1][2]) + (the_image[l][i+2][j]*convs1[k][l][2][0] + the_image[l][i+2][j+1]*convs1[k][l][2][1] + the_image[l][i+2][j+2]*convs1[k][l][2][2]) + bias1[k]\n",
    "    \n",
    "    relued = relu(feature_map)\n",
    "    \n",
    "    \n",
    "    for k in range(2):\n",
    "        a = 0\n",
    "        for i in range(0, 30, 2):\n",
    "            b = 0\n",
    "            for j in range(0, 30, 2):\n",
    "                max_pool[k][a][b] = max(relued[k][i][j], relued[k][i][j+1], relued[k][i+1][j], relued[k][i+1][j+1])\n",
    "                b += 1\n",
    "            a += 1\n",
    "    \n",
    "    #for layer 2        \n",
    "    for k in range(4):\n",
    "        for l in range(1):\n",
    "            for i in range(12):\n",
    "                for j in range(12):\n",
    "                    feature_map_ii[k][i][j] = (max_pool[l][i][j]*convs2[k][l][0][0] + max_pool[l][i][j+1]*convs2[k][l][0][1] + max_pool[l][i][j+2]*convs2[k][l][0][2] + max_pool[l][i+1][j]*convs2[k][l][1][0] + max_pool[l][i+1][j+1]*convs2[k][l][1][1] + max_pool[l][i+1][j+2]*convs2[k][l][1][2] + max_pool[l][i+2][j]*convs2[k][l][2][0] + max_pool[l][i+2][j+1]*convs2[k][l][2][1] + max_pool[l][i+2][j+2]*convs2[k][l][2][2]) + (max_pool[l+1][i][j]*convs2[k][l+1][0][0] + max_pool[l+1][i][j+1]*convs2[k][l+1][0][1] +  max_pool[l+1][i][j+2]*convs2[k][l+1][0][2] + max_pool[l+1][i+1][j]*convs2[k][l+1][1][0] + max_pool[l+1][i+1][j+1]*convs2[k][l+1][1][1] + max_pool[l+1][i+1][j+2]*convs2[k][l+1][1][2] + max_pool[l+1][i+2][j]*convs2[k][l+1][2][0] + max_pool[l+1][i+2][j+1]*convs2[k][l+1][2][1] + max_pool[l+1][i+2][j+2]*convs2[k][l+1][2][2]) + bias2[k]\n",
    "    \n",
    "    relued_again = relu(feature_map_ii)\n",
    "    \n",
    "    for k in range(4):\n",
    "        a = 0\n",
    "        for i in range(0, 12, 2):\n",
    "            b = 0\n",
    "            for j in range(0, 12, 2):\n",
    "                max_pool_ii[k][a][b] = max(relued_again[k][i][j], relued_again[k][i][j+1], relued_again[k][i+1][j], relued_again[k][i+1][j+1])\n",
    "                b += 1\n",
    "            a += 1\n",
    "    \n",
    "    \n",
    "    #NN layer\n",
    "    flattened = max_pool_ii.flatten()\n",
    "    flattened = flattened.reshape(144, 1)\n",
    "    \n",
    "    the_val, z1, a1, z2 = forward(w1, b1, w2, b2, flattened)\n",
    "\n",
    "    prediction_num = np.argmax(the_val, 0)\n",
    "    a = prediction_num[0]\n",
    "\n",
    "    predicted_num = np.argmax(the_val, 0)\n",
    "    predicted_int = predicted_num[0]\n",
    "    prediction = the_value(predicted_int)\n",
    "\n",
    "    dz2 = hot_encoded_arr - the_val\n",
    "    num_data = 1\n",
    "\n",
    "    dw2 = 1/num_data * dz2.dot(a1.T)\n",
    "    db2 = 1/num_data * np.sum(dz2)\n",
    "\n",
    "    dz1 = w2.dot(dz2)*diff_relu(z1)\n",
    "\n",
    "    dw1 = 1/num_data * dz1.dot(flattened.T)\n",
    "    db1 = 1/num_data * np.sum(dz1)\n",
    "\n",
    "    #CNN layer\n",
    "    df = dw1.T.dot(dz1)\n",
    "\n",
    "    dp2 = df.reshape((4, 6, 6))\n",
    "\n",
    "    d_relued_again = max_pool_backward(dp2, relued_again)\n",
    "\n",
    "    diff_relu(d_relued_again)\n",
    "\n",
    "    new_d_relued_again = np.pad(d_relued_again, ((0, 0), (0, 1), (0, 1)), mode='constant', constant_values=0)\n",
    "\n",
    "    d_filter = np.zeros((4, 2, 3, 3))\n",
    "\n",
    "    for i in range(4): #denotes the number of filters\n",
    "        for j in range(2): #denotes the depth of image that we're convolving over\n",
    "            for k in range(3): #the number of times the strides are taken along the vertical direction\n",
    "                for l in range(3): #the number of times the strides are taken along the horizontal direction\n",
    "                    addition = 0 #the gradient to be added to the image\n",
    "                    for m in range(13):\n",
    "                        for n in range(13):\n",
    "                            addition += max_pool[j][m+k][n+l] * new_d_relued_again[i][m][n]\n",
    "                    d_filter[i][j][k][l] = addition\n",
    "\n",
    "    d_bias2 = np.sum(d_relued_again)\n",
    "\n",
    "    padded_d_relued_again = np.pad(new_d_relued_again, pad_width=((0, 0), (2, 2), (2, 2)), mode='constant', constant_values=0)\n",
    "\n",
    "    rotated_convs2 = np.zeros((4, 2, 3, 3))\n",
    "\n",
    "    for i in range(4):\n",
    "        for j in range(2):\n",
    "            k = np.flip(convs2[i][j], axis=1)\n",
    "            l = np.flip(k, axis=0)\n",
    "            rotated_convs2[i][j] = l\n",
    "\n",
    "    d_layer1 = np.zeros((2, 15, 15)) # the gradient to get propagated back to the first layer.\n",
    "\n",
    "    for i in range(4): # denotes the current iteration number of filter number and gradient number\n",
    "        for j in range(2): # denotes the depth of filter used\n",
    "            for k in range(15):\n",
    "                for l in range(15):\n",
    "                    # d_layer1[j][k][l] += rotated_convs2[i][j][0][0]*padded_d_relued_again[i][k][l] + rotated_convs2[i][j][0][1]*padded_d_relued_again[i][k][l+1] + rotated_convs2[i][j][0][2]*padded_d_relued_again[i][k][l+2] + rotated_convs2[i][j][1][0]*padded_d_relued_again[i][k+1][l] + rotated_convs2[i][j][1][1]*padded_d_relued_again[i][k+1][l+1] + rotated_convs2[i][j][1][2]*padded_d_relued_again[i][k+1][l+2] + rotated_convs2[i][j][2][0]*padded_d_relued_again[i][k+2][l] + rotated_convs2[i][j][2][1]*padded_d_relued_again[i][k+2][l+1] + rotated_convs2[i][j][2][2]*padded_d_relued_again[i][k+2][l+2]\n",
    "                    for m in range(3):\n",
    "                        for n in range(3):\n",
    "                            d_layer1[j][k][l] += (rotated_convs2[i][j][m][n] * padded_d_relued_again[i][k+m][l+n])\n",
    "\n",
    "    d_relued = max_pool_backward1(d_layer1, relued)\n",
    "\n",
    "    diff_relu(d_relued)\n",
    "\n",
    "    d_bias1 = np.sum(d_relued)\n",
    "\n",
    "    d_convs1 = np.zeros((2, 1, 3, 3))\n",
    "\n",
    "    for i in range(2): #denotes the number of filters\n",
    "        for j in range(1): #denotes the depth of image that we're convolving over\n",
    "            for k in range(3): #the number of times the strides are taken along the vertical direction\n",
    "                for l in range(3): #the number of times the strides are taken along the horizontal direction\n",
    "                    addition = 0 #the gradient to be added to the image\n",
    "                    for m in range(30):\n",
    "                        for n in range(30):\n",
    "                            addition += the_image[j][m+k][n+l] * d_relued[i][m][n]\n",
    "                    d_convs1[i][j][k][l] = addition\n",
    "\n",
    "    # return all the gradients for subtraction\n",
    "    # I should probably return the gradients serially from the backwards layer to the front layer in order to not miss any\n",
    "    return dw1, db1, dw2, db2, d_convs1, d_bias1, d_filter, d_bias2"
   ]
  },
  {
   "cell_type": "code",
   "execution_count": null,
   "id": "238ce3c7-a5d8-48c3-bb24-bfbbe6abd40a",
   "metadata": {},
   "outputs": [],
   "source": []
  },
  {
   "cell_type": "code",
   "execution_count": null,
   "id": "7d724e48-6d6e-4a15-a8ae-333a073cf5db",
   "metadata": {},
   "outputs": [],
   "source": []
  },
  {
   "cell_type": "code",
   "execution_count": null,
   "id": "1cc045cc-f493-49ef-86ec-cc6739e7beea",
   "metadata": {},
   "outputs": [],
   "source": []
  },
  {
   "cell_type": "code",
   "execution_count": 44,
   "id": "6c5d9188-0292-4b0c-ab4f-aaddb1fa2c99",
   "metadata": {},
   "outputs": [],
   "source": [
    "#to see if the weights and biases are actually changing\n",
    "w1_prev = w1\n",
    "w2_prev = w2\n",
    "b1_prev = b1\n",
    "b2_prev = b2\n",
    "convs1_prev = convs1\n",
    "bias1_prev = bias1\n",
    "convs2_prev = convs2\n",
    "bias2_prev = bias2"
   ]
  },
  {
   "cell_type": "code",
   "execution_count": null,
   "id": "709656f0-aa0d-4a0b-8d80-9ecf2e2be6f0",
   "metadata": {},
   "outputs": [],
   "source": []
  },
  {
   "cell_type": "code",
   "execution_count": null,
   "id": "7821320c-5fbe-41a7-b93f-656bf4daa2f7",
   "metadata": {},
   "outputs": [],
   "source": []
  },
  {
   "cell_type": "code",
   "execution_count": 45,
   "id": "c3c02ba5-75d1-48bb-a8dd-6a6447f0e4ed",
   "metadata": {
    "scrolled": true
   },
   "outputs": [],
   "source": [
    "# print(w1_prev)\n",
    "# print(w2_prev)\n",
    "# print(b1_prev)\n",
    "# print(b2_prev)\n",
    "# print(convs1_prev)\n",
    "# print(bias1_prev)\n",
    "# print(convs2_prev)\n",
    "# print(bias2_prev)"
   ]
  },
  {
   "cell_type": "code",
   "execution_count": null,
   "id": "7a3c2692-4460-49ad-911f-3adc929afa78",
   "metadata": {},
   "outputs": [],
   "source": []
  },
  {
   "cell_type": "code",
   "execution_count": null,
   "id": "25fe6b71-375e-4d61-8efe-d3660cb02c31",
   "metadata": {},
   "outputs": [],
   "source": []
  },
  {
   "cell_type": "code",
   "execution_count": null,
   "id": "40e58fa6-c90c-4cef-b2b3-b0d8cbece962",
   "metadata": {},
   "outputs": [],
   "source": []
  },
  {
   "cell_type": "code",
   "execution_count": null,
   "id": "bc010056-9047-483a-9fb1-e5653e162fd2",
   "metadata": {},
   "outputs": [],
   "source": []
  },
  {
   "cell_type": "code",
   "execution_count": 46,
   "id": "da2fd13d-add5-4eb2-b917-bb2c37df101b",
   "metadata": {},
   "outputs": [],
   "source": [
    "RATE = 0.0005\n",
    "for i in range(500):\n",
    "    dw1, db1, dw2, db2, d_convs1, d_bias1, d_convs2, d_bias2 =  ahead(w1, b1, w2, b2, convs1, bias1, convs2, bias2) #pass the parameters to the function\n",
    "    #perform the update\n",
    "    w1 = w1 - RATE*dw1\n",
    "    w2 = w2 - RATE*dw2.T\n",
    "    b1 = b1 - RATE*db1\n",
    "    b2 = b2 - RATE*db2\n",
    "    convs1 = convs1 - RATE*d_convs1\n",
    "    bias1 = bias1 - RATE*d_bias1\n",
    "    convs2 = convs2 - RATE*d_convs2\n",
    "    bias2 = bias2 - RATE*d_bias2"
   ]
  },
  {
   "cell_type": "code",
   "execution_count": null,
   "id": "493d650a-22fa-415e-95ac-a381ac9e3bf9",
   "metadata": {},
   "outputs": [],
   "source": []
  },
  {
   "cell_type": "code",
   "execution_count": null,
   "id": "664c6d63-aaa5-4f1f-83fe-58f65c084a8e",
   "metadata": {},
   "outputs": [],
   "source": []
  },
  {
   "cell_type": "code",
   "execution_count": 47,
   "id": "05fbd9d6-9d30-44d2-b3fa-8d0856fdbea6",
   "metadata": {},
   "outputs": [],
   "source": [
    "#weights and biases after update\n",
    "w1_after = w1\n",
    "w2_after = w2\n",
    "b1_after = b1\n",
    "b2_after = b2\n",
    "convs1_after = convs1\n",
    "bias1_after = bias1\n",
    "convs2_after = convs2\n",
    "bias2_after = bias2"
   ]
  },
  {
   "cell_type": "code",
   "execution_count": null,
   "id": "234038a9-aaeb-4372-99ac-7ecfa88d4054",
   "metadata": {},
   "outputs": [],
   "source": []
  },
  {
   "cell_type": "code",
   "execution_count": 48,
   "id": "8628b88b-dada-42ba-a4cd-b78a76e869ce",
   "metadata": {
    "scrolled": true
   },
   "outputs": [],
   "source": [
    "# print(w1_prev == w1_after)\n",
    "# print(w2_prev == w2_after)\n",
    "# print(b1_prev == b1_after)\n",
    "# print(b2_prev == b2_after)\n",
    "# print(convs1_prev == convs1_after)\n",
    "# print(bias1_prev == bias1_after)\n",
    "# print(convs2_prev == convs2_after)\n",
    "# print(bias2_prev == bias2_after)"
   ]
  },
  {
   "cell_type": "code",
   "execution_count": null,
   "id": "0d85e76e-e6ea-41bf-a69d-af38529ef601",
   "metadata": {},
   "outputs": [],
   "source": []
  },
  {
   "cell_type": "code",
   "execution_count": null,
   "id": "7c0e189a-7366-4c56-b9f3-c31b7769f932",
   "metadata": {},
   "outputs": [],
   "source": []
  },
  {
   "cell_type": "code",
   "execution_count": null,
   "id": "62b91ffb-2227-416f-be06-2a4f37d9be5e",
   "metadata": {},
   "outputs": [],
   "source": []
  },
  {
   "cell_type": "code",
   "execution_count": 49,
   "id": "5d67040b-f4d5-4834-9c8e-8a843cc9811d",
   "metadata": {
    "scrolled": true
   },
   "outputs": [
    {
     "name": "stdout",
     "output_type": "stream",
     "text": [
      "[[-0.13701971  0.11439613  0.15112957 ...  0.04645181  0.36379874\n",
      "  -0.26672822]\n",
      " [-0.28241016  0.03512593  0.06198502 ...  0.12243552 -0.08413029\n",
      "   0.08627637]\n",
      " [-0.04976467 -0.03212716  0.17914572 ... -0.18758901 -0.02721036\n",
      "   0.17267585]\n",
      " ...\n",
      " [-0.21504127  0.11026798 -0.01169689 ... -0.08786592  0.06902119\n",
      "   0.08894773]\n",
      " [ 0.08020299 -0.03954875 -0.12162544 ... -0.13306551 -0.38834746\n",
      "   0.05361095]\n",
      " [-0.01598337  0.0482261   0.10162243 ... -0.3120008   0.09557628\n",
      "  -0.15398754]]\n",
      "[[-1.25352405e-02  6.26491427e-03 -1.94653680e-01  4.81738086e-02\n",
      "   9.92392140e-02  1.51294162e-01  3.04342689e-02 -1.07783828e-01\n",
      "  -1.53815232e-01 -7.48859095e-02]\n",
      " [-1.52014658e-02 -2.38893903e-01  2.13969115e-02 -1.23406577e-01\n",
      "   5.74771071e-02  4.93025149e-02 -2.36104161e-01  1.14722816e-01\n",
      "  -4.23221338e-02 -1.40487029e-01]\n",
      " [-1.20630735e-01  8.57751745e-02  1.13334495e-01 -1.60174569e-01\n",
      "  -1.06857704e-01 -1.09231873e-01 -2.96499807e-01  1.89698110e-01\n",
      "  -6.66167433e-02  1.08086270e-01]\n",
      " [ 2.42095631e-02 -1.75247050e-01  1.81941262e-01 -7.38517153e-02\n",
      "   5.26476731e-02 -1.80230762e-01  2.10479406e-02 -3.02172707e-02\n",
      "  -4.86269260e-02  9.43169134e-02]\n",
      " [ 3.10897966e-01 -3.43143495e-02  3.09563010e-02  1.17659039e-01\n",
      "   4.86205843e-02  1.61485688e-01 -2.52408415e-01  1.60874168e-01\n",
      "   9.06567256e-02  1.37144948e-01]\n",
      " [ 4.01344029e-02  4.42106228e-02 -7.62977941e-02 -2.76241195e-01\n",
      "  -6.93304518e-02 -2.05292169e-01 -9.57998361e-03 -4.01830386e-02\n",
      "  -8.26607730e-02  2.06126734e-01]\n",
      " [ 8.92198735e-02  1.25599829e-01 -6.38255482e-02  3.66198862e-02\n",
      "   7.14241162e-02 -8.55612943e-02 -1.89764715e-01 -1.60347940e-01\n",
      "   1.03731433e-01  2.33499111e-01]\n",
      " [-1.46732664e-01  5.89866547e-03 -8.99914629e-02  2.48167094e-01\n",
      "  -1.18274099e-01  2.42815667e-02  1.14925576e-01  1.52872507e-01\n",
      "  -4.42809347e-02  1.13020766e-01]\n",
      " [ 1.01650053e-01  1.62019062e-01 -9.73918954e-04 -3.29482961e-01\n",
      "   1.56497325e-01 -1.15534821e-01 -1.17842287e-01 -1.96865996e-01\n",
      "   1.01365804e-02 -1.01772124e-01]\n",
      " [-6.80294185e-03  3.44157094e-02  3.40093397e-03 -1.29984250e-01\n",
      "  -3.22174932e-02  6.76677736e-02 -3.69710787e-01 -2.32820548e-01\n",
      "  -1.29433756e-01 -1.73481393e-01]\n",
      " [ 1.16243890e-01  1.04777831e-02  3.88578951e-01  6.57608889e-02\n",
      "   1.68693982e-01  8.40177286e-03  4.67479557e-02  1.12844704e-02\n",
      "   1.36052581e-01  2.15043356e-01]\n",
      " [-1.44967808e-01  5.59062056e-02 -1.04940337e-01  3.44033625e-02\n",
      "   9.38945519e-04  1.08273792e-01  1.30715053e-01 -4.41940174e-02\n",
      "   2.17474888e-01  7.62019765e-02]\n",
      " [ 2.27372922e-02  2.85474028e-01 -6.27463950e-02 -7.49296484e-02\n",
      "   2.20169006e-01 -1.42670812e-01  6.28621687e-02 -6.53348280e-02\n",
      "   2.32672634e-01  1.35384162e-03]\n",
      " [ 1.85806622e-02  2.08602900e-01  2.42215154e-01  6.25212112e-02\n",
      "   1.05991252e-01 -1.98886710e-01 -2.52090529e-01 -2.20833507e-01\n",
      "   1.66744397e-01 -2.32875015e-01]\n",
      " [-1.42115500e-01  8.59598450e-02 -8.37706207e-02 -6.66900606e-02\n",
      "   1.13487360e-01 -8.46101785e-02  1.27472131e-01  3.26368131e-02\n",
      "  -8.24371480e-02  2.25228191e-02]\n",
      " [-1.76991896e-01  6.56651859e-02 -1.99177755e-01 -8.17415663e-03\n",
      "  -2.67282047e-01 -4.22190729e-02  8.92293779e-02  1.51540316e-01\n",
      "   7.80798359e-02  1.17645337e-02]\n",
      " [ 1.76421075e-01  4.06378445e-02 -4.78048736e-02  2.60809543e-01\n",
      "  -9.90098594e-02 -1.93551045e-01 -2.73938459e-01 -1.87146354e-01\n",
      "   1.73878877e-01 -1.24250389e-01]\n",
      " [ 1.25831528e-01  3.39951559e-01 -1.05732857e-01  8.39561810e-02\n",
      "  -2.63170031e-02 -1.38213160e-02  1.26722412e-01 -7.16805078e-02\n",
      "   2.49294760e-01 -2.24500560e-01]\n",
      " [ 9.70644540e-02 -1.50511137e-01  1.51673722e-01  4.30629991e-03\n",
      "  -1.50512803e-02  3.86637663e-02 -1.37627018e-03 -1.76404218e-01\n",
      "  -1.85283971e-01  4.59029307e-02]\n",
      " [-4.77465940e-02  6.66659457e-02 -1.99773563e-01 -6.77170090e-02\n",
      "  -4.66304188e-02  4.70240301e-02 -3.05179049e-02 -1.04304073e-02\n",
      "  -2.31350296e-01 -2.80588389e-02]\n",
      " [-9.55897259e-03  2.52413418e-04 -7.32387364e-02 -1.37904833e-01\n",
      "  -2.00158058e-01 -3.90985390e-02 -7.13106567e-02 -8.19622184e-02\n",
      "  -3.65496544e-02 -8.17099915e-02]\n",
      " [-3.61432169e-02 -1.76545891e-01 -1.31847516e-01  1.34439714e-01\n",
      "   7.77733924e-02  4.90387834e-02 -1.65390441e-01  7.85804369e-02\n",
      "  -4.93151604e-02 -7.77529815e-02]\n",
      " [ 8.94346533e-02  3.82525813e-01 -5.12304633e-03  1.03622946e-01\n",
      "  -9.14716568e-02  5.82375845e-03 -8.44771473e-02  6.60139441e-02\n",
      "  -3.10340377e-01  1.95948439e-01]\n",
      " [-2.47287926e-01 -5.61033962e-02 -7.86862540e-02 -2.36317064e-01\n",
      "  -1.09712067e-01  2.61154082e-01  5.48340160e-02  1.10484560e-01\n",
      "  -2.15355348e-01 -9.95567251e-03]\n",
      " [ 2.50232328e-01  8.22730517e-02  1.63836348e-01 -2.32221301e-01\n",
      "   1.29322589e-01  3.57273783e-02  8.25975767e-02 -2.26612032e-01\n",
      "   1.02625330e-01  6.77342418e-02]\n",
      " [-6.65710946e-02 -1.41108243e-01  2.89137216e-01 -1.55867317e-01\n",
      "   5.62535797e-02  5.23880319e-02  2.02096500e-01 -9.48661957e-02\n",
      "  -2.05352326e-02 -6.56509508e-02]\n",
      " [-2.33933693e-01  1.05164072e-02 -1.97693958e-01  1.01792324e-02\n",
      "  -1.39978952e-01  1.89288778e-01 -6.16531950e-02 -2.50008541e-03\n",
      "   5.64247380e-02 -1.98624824e-02]\n",
      " [ 6.19218084e-02  1.26057525e-01 -1.92027354e-01  6.47589570e-02\n",
      "  -3.23707566e-02  8.26963317e-02 -5.15390901e-02  1.51355555e-01\n",
      "  -8.51725262e-04 -1.38059802e-01]\n",
      " [-7.06482264e-02 -1.88414432e-01 -2.05098894e-01 -6.57345074e-02\n",
      "  -7.58995920e-02  1.44568002e-01  9.83927481e-02  7.38268251e-02\n",
      "  -1.28445121e-01 -1.66596473e-02]\n",
      " [-2.06292235e-01 -1.11964410e-01 -4.56622777e-02 -1.39018374e-02\n",
      "  -1.76648159e-01  7.43475491e-02  6.65238161e-02  6.19841872e-02\n",
      "   2.19139882e-01 -8.67169032e-02]\n",
      " [ 3.55335431e-01 -1.77957946e-01 -2.64485081e-01 -2.11986680e-01\n",
      "  -1.22821030e-01 -4.15610189e-02 -2.29804837e-02 -5.09814541e-02\n",
      "  -2.26441887e-01  1.94659629e-01]\n",
      " [-1.98240581e-01 -1.84529550e-01  1.32427104e-01  6.09617405e-04\n",
      "  -3.70465377e-02  1.93438036e-01 -1.11785682e-01  1.60457922e-01\n",
      "  -2.56083936e-01 -9.09201279e-03]\n",
      " [ 6.96877814e-02  1.47517820e-01 -2.11522931e-01 -1.26507508e-01\n",
      "  -1.24290088e-01 -8.57306972e-02 -4.81448597e-02  3.45168321e-02\n",
      "   2.20484988e-01  1.93655345e-01]\n",
      " [ 3.78094629e-02 -1.84765412e-01  1.39424310e-01 -1.59808737e-01\n",
      "  -1.24719623e-02  2.62186917e-01  2.61299904e-02  6.86174028e-02\n",
      "  -3.34152901e-02 -1.89734488e-01]\n",
      " [ 1.46628204e-01 -1.39082245e-01  1.19014901e-01 -8.56996470e-02\n",
      "   2.55615141e-02 -1.99752539e-01  2.37552397e-02 -3.88462608e-02\n",
      "  -5.03079336e-02 -3.85308016e-02]\n",
      " [-8.08082116e-02 -4.43791258e-02  1.40658697e-01  3.65836468e-03\n",
      "  -2.34532258e-02  1.16472277e-01  7.12352180e-02  8.65925655e-02\n",
      "   2.62468662e-03 -1.41717189e-01]\n",
      " [-1.28872141e-01  2.27311101e-02 -1.21856860e-01  1.36749463e-01\n",
      "  -4.59259763e-02  1.33432350e-01  3.11810658e-01 -1.37524633e-01\n",
      "   1.16047835e-01 -2.20118637e-01]\n",
      " [-1.61598577e-01  2.06106557e-01  2.96810869e-02  2.08293093e-01\n",
      "  -1.00850048e-01 -1.63651023e-01 -1.16239682e-01  1.40670413e-01\n",
      "  -3.51662240e-02  6.04401057e-02]\n",
      " [ 1.16508767e-02  6.30859252e-02 -9.63666227e-02 -1.71132514e-01\n",
      "  -2.83089021e-02 -1.61553519e-01 -2.43728582e-02 -6.20735640e-02\n",
      "   7.86143652e-02 -4.46629367e-02]\n",
      " [-1.29641640e-01 -2.96886092e-02 -1.47007199e-01 -1.52357713e-01\n",
      "   1.21166847e-01 -2.02170236e-01 -2.29118090e-02  5.82201526e-02\n",
      "  -1.68465046e-01 -1.23021352e-01]\n",
      " [-4.36778235e-04 -1.13209588e-01  1.84223077e-01  7.27386191e-02\n",
      "   8.87945718e-02 -7.35684571e-02 -7.24328910e-03  4.71543012e-02\n",
      "  -5.25910836e-02  1.47703976e-01]\n",
      " [ 1.51687549e-01 -1.64527298e-02  6.70812662e-02 -1.47968788e-01\n",
      "   6.63482036e-02  1.11134091e-01 -1.01511909e-01 -2.91676843e-02\n",
      "  -1.45180926e-01 -1.46188965e-02]\n",
      " [-4.50847346e-02 -2.98051840e-01 -1.05260482e-01  7.85290649e-02\n",
      "  -3.26178317e-02 -7.60025941e-02 -1.04596440e-02 -1.16952748e-01\n",
      "   4.91620469e-02 -5.09496124e-03]\n",
      " [ 1.17527693e-01 -5.26552959e-02  1.02109184e-01 -7.13680666e-02\n",
      "  -5.43531193e-02 -6.07977456e-02 -1.95928336e-01 -4.12452665e-02\n",
      "   1.61630010e-01  3.51821530e-02]\n",
      " [-1.20295601e-01 -2.94433117e-02  2.78226293e-02 -7.99508542e-02\n",
      "  -2.11885222e-01 -4.46682931e-02  4.73151975e-02  5.75818017e-02\n",
      "  -1.56208769e-01  2.28410369e-02]\n",
      " [ 1.32066150e-01  1.45228386e-01  1.99587077e-01  1.97857511e-01\n",
      "  -2.15764165e-02 -6.63463022e-03 -1.52715483e-01  6.78785488e-02\n",
      "   2.96800910e-01  5.80167616e-02]\n",
      " [-1.47115724e-03 -4.84018904e-02 -6.05518576e-02 -1.18783564e-01\n",
      "   3.75982682e-02 -1.29869363e-01 -1.42771428e-01 -1.40918196e-01\n",
      "   1.88799005e-01  1.51727469e-01]\n",
      " [-3.52212515e-02 -8.40277381e-02 -2.28747723e-01 -1.35904777e-01\n",
      "  -6.88001525e-02 -2.82872694e-01  7.61145031e-02 -3.73069589e-02\n",
      "   8.94383614e-02  7.10316816e-02]\n",
      " [-6.13282949e-02 -8.83950689e-02  3.27412733e-03 -5.43378926e-02\n",
      "   1.37563042e-01  7.29327791e-02  2.12542702e-02  1.28321054e-01\n",
      "  -1.00386937e-02 -1.79246162e-02]\n",
      " [ 1.25317009e-01 -6.31091966e-03 -2.32757840e-02  1.13634726e-01\n",
      "  -7.59511301e-03 -6.04989787e-02 -8.58830833e-02 -2.67727257e-02\n",
      "   2.89204109e-02 -1.30795604e-02]]\n",
      "[[-0.02650229]\n",
      " [-0.02650229]\n",
      " [-0.02650229]\n",
      " [-0.02650229]\n",
      " [-0.02650229]\n",
      " [-0.02650229]\n",
      " [-0.02650229]\n",
      " [-0.02650229]\n",
      " [-0.02650229]\n",
      " [-0.02650229]\n",
      " [-0.02650229]\n",
      " [-0.02650229]\n",
      " [-0.02650229]\n",
      " [-0.02650229]\n",
      " [-0.02650229]\n",
      " [-0.02650229]\n",
      " [-0.02650229]\n",
      " [-0.02650229]\n",
      " [-0.02650229]\n",
      " [-0.02650229]\n",
      " [-0.02650229]\n",
      " [-0.02650229]\n",
      " [-0.02650229]\n",
      " [-0.02650229]\n",
      " [-0.02650229]\n",
      " [-0.02650229]\n",
      " [-0.02650229]\n",
      " [-0.02650229]\n",
      " [-0.02650229]\n",
      " [-0.02650229]\n",
      " [-0.02650229]\n",
      " [-0.02650229]\n",
      " [-0.02650229]\n",
      " [-0.02650229]\n",
      " [-0.02650229]\n",
      " [-0.02650229]\n",
      " [-0.02650229]\n",
      " [-0.02650229]\n",
      " [-0.02650229]\n",
      " [-0.02650229]\n",
      " [-0.02650229]\n",
      " [-0.02650229]\n",
      " [-0.02650229]\n",
      " [-0.02650229]\n",
      " [-0.02650229]\n",
      " [-0.02650229]\n",
      " [-0.02650229]\n",
      " [-0.02650229]\n",
      " [-0.02650229]\n",
      " [-0.02650229]]\n",
      "[[1.95676808e-18]\n",
      " [1.95676808e-18]\n",
      " [1.95676808e-18]\n",
      " [1.95676808e-18]\n",
      " [1.95676808e-18]\n",
      " [1.95676808e-18]\n",
      " [1.95676808e-18]\n",
      " [1.95676808e-18]\n",
      " [1.95676808e-18]\n",
      " [1.95676808e-18]]\n",
      "[[[[ 0.10261679 -0.25134989  0.89025358]\n",
      "   [ 0.46680687  0.23176724  0.45350837]\n",
      "   [ 0.12880321  0.39928397 -0.64931842]]]\n",
      "\n",
      "\n",
      " [[[-0.02616804 -0.68771154  0.3496817 ]\n",
      "   [-0.00857879 -0.5173771   0.27305309]\n",
      "   [-0.6142116  -0.99461525 -0.73287419]]]]\n",
      "[0.06522201 0.06522201]\n",
      "[[[[-0.2244333   0.05419227 -0.12237885]\n",
      "   [-0.20070161 -0.53520365  0.14182891]\n",
      "   [-0.29628368  0.96869059 -0.0825542 ]]\n",
      "\n",
      "  [[-0.25430159  0.14460443  0.3898189 ]\n",
      "   [ 0.35348026 -0.26635113  0.04579903]\n",
      "   [-0.44091957  0.19964247  0.29251246]]]\n",
      "\n",
      "\n",
      " [[[-0.23240098 -0.04009386  0.02912675]\n",
      "   [ 0.09765106  0.1076792   0.07743491]\n",
      "   [-0.09212097  0.20367619 -0.12540041]]\n",
      "\n",
      "  [[-0.28541788  0.36796317  0.15556264]\n",
      "   [-0.1275377  -0.12207963 -0.23722356]\n",
      "   [ 0.29643256  0.22343755 -0.44905439]]]\n",
      "\n",
      "\n",
      " [[[-0.19917883 -0.0157352   0.48867191]\n",
      "   [ 0.43050929 -0.73501777  0.48906946]\n",
      "   [-0.04395109  0.23913717 -0.79281747]]\n",
      "\n",
      "  [[-0.33663382 -0.63053295 -0.2905593 ]\n",
      "   [ 0.53924853 -0.53877159 -0.24994569]\n",
      "   [-0.60016124 -0.41239606  0.0634755 ]]]\n",
      "\n",
      "\n",
      " [[[-0.67489814  0.01042598 -0.88454098]\n",
      "   [ 0.02002079  0.36376114  0.13137873]\n",
      "   [ 0.40811739  0.00915018  0.19713889]]\n",
      "\n",
      "  [[ 0.0149318  -0.38737274 -0.11849608]\n",
      "   [-0.17762362 -0.04679692 -0.1848771 ]\n",
      "   [ 0.30776849  0.2401894  -0.22391335]]]]\n",
      "[-0.24925228 -0.24925228 -0.24925228 -0.24925228]\n"
     ]
    }
   ],
   "source": [
    "print(w1_after)\n",
    "print(w2_after)\n",
    "print(b1_after)\n",
    "print(b2_after)\n",
    "print(convs1_after)\n",
    "print(bias1_after)\n",
    "print(convs2_after)\n",
    "print(bias2_after)"
   ]
  },
  {
   "cell_type": "code",
   "execution_count": null,
   "id": "060d531a-41e0-436d-9f10-f3f3874ecae4",
   "metadata": {},
   "outputs": [],
   "source": []
  },
  {
   "cell_type": "code",
   "execution_count": null,
   "id": "bf2ad547-3924-4f3a-a830-d361acae1729",
   "metadata": {},
   "outputs": [],
   "source": []
  },
  {
   "cell_type": "code",
   "execution_count": 50,
   "id": "28f2f54a-b54e-49ad-bd3b-7f9a154fe665",
   "metadata": {},
   "outputs": [
    {
     "name": "stdout",
     "output_type": "stream",
     "text": [
      "0.036073494109294446\n",
      "0.011762374800960582\n",
      "0.021501069194030987\n",
      "0.027957634093209272\n"
     ]
    }
   ],
   "source": [
    "print(np.linalg.norm(w1_prev - w1_after))\n",
    "print(np.linalg.norm(w2_prev - w2_after))\n",
    "print(np.linalg.norm(convs1_prev - convs1_after))\n",
    "print(np.linalg.norm(convs2_prev - convs2_after))"
   ]
  },
  {
   "cell_type": "code",
   "execution_count": null,
   "id": "8afbf545-09cb-4892-a3b4-256dce71fc54",
   "metadata": {},
   "outputs": [],
   "source": []
  },
  {
   "cell_type": "code",
   "execution_count": null,
   "id": "f57c2729-62e7-4f27-9699-41a5a7f90feb",
   "metadata": {},
   "outputs": [],
   "source": []
  },
  {
   "cell_type": "code",
   "execution_count": null,
   "id": "2acbe317-7204-4141-8b53-aa9a0aac55e3",
   "metadata": {},
   "outputs": [],
   "source": []
  },
  {
   "cell_type": "code",
   "execution_count": null,
   "id": "9ccbcd19-5626-4b7e-be88-a267e2df68b6",
   "metadata": {},
   "outputs": [],
   "source": []
  },
  {
   "cell_type": "code",
   "execution_count": 51,
   "id": "fff08fda-3c02-4056-801f-e8465ca7f02b",
   "metadata": {},
   "outputs": [],
   "source": [
    "def test(w1, b1, w2, b2, convs1, bias1, convs2, bias2):\n",
    "    for k in range(2):\n",
    "        for l in range(1):\n",
    "            for i in range(30):\n",
    "                for j in range(30):\n",
    "                    feature_map[k][i][j] = (the_image[l][i][j]*convs1[k][l][0][0] + the_image[l][i][j+1]*convs1[k][l][0][1] + the_image[l][i][j+2]*convs1[k][l][0][2]) + (the_image[l][i+1][j]*convs1[k][l][1][0] + the_image[l][i+1][j+1]*convs1[k][l][1][1] + the_image[l][i+1][j+2]*convs1[k][l][1][2]) + (the_image[l][i+2][j]*convs1[k][l][2][0] + the_image[l][i+2][j+1]*convs1[k][l][2][1] + the_image[l][i+2][j+2]*convs1[k][l][2][2]) + bias1[k]\n",
    "    \n",
    "    relued = relu(feature_map)\n",
    "    \n",
    "    \n",
    "    for k in range(2):\n",
    "        a = 0\n",
    "        for i in range(0, 30, 2):\n",
    "            b = 0\n",
    "            for j in range(0, 30, 2):\n",
    "                max_pool[k][a][b] = max(relued[k][i][j], relued[k][i][j+1], relued[k][i+1][j], relued[k][i+1][j+1])\n",
    "                b += 1\n",
    "            a += 1\n",
    "    \n",
    "    #for layer 2        \n",
    "    for k in range(4):\n",
    "        for l in range(1):\n",
    "            for i in range(12):\n",
    "                for j in range(12):\n",
    "                    feature_map_ii[k][i][j] = (max_pool[l][i][j]*convs2[k][l][0][0] + max_pool[l][i][j+1]*convs2[k][l][0][1] + max_pool[l][i][j+2]*convs2[k][l][0][2] + max_pool[l][i+1][j]*convs2[k][l][1][0] + max_pool[l][i+1][j+1]*convs2[k][l][1][1] + max_pool[l][i+1][j+2]*convs2[k][l][1][2] + max_pool[l][i+2][j]*convs2[k][l][2][0] + max_pool[l][i+2][j+1]*convs2[k][l][2][1] + max_pool[l][i+2][j+2]*convs2[k][l][2][2]) + (max_pool[l+1][i][j]*convs2[k][l+1][0][0] + max_pool[l+1][i][j+1]*convs2[k][l+1][0][1] +  max_pool[l+1][i][j+2]*convs2[k][l+1][0][2] + max_pool[l+1][i+1][j]*convs2[k][l+1][1][0] + max_pool[l+1][i+1][j+1]*convs2[k][l+1][1][1] + max_pool[l+1][i+1][j+2]*convs2[k][l+1][1][2] + max_pool[l+1][i+2][j]*convs2[k][l+1][2][0] + max_pool[l+1][i+2][j+1]*convs2[k][l+1][2][1] + max_pool[l+1][i+2][j+2]*convs2[k][l+1][2][2]) + bias2[k]\n",
    "    \n",
    "    relued_again = relu(feature_map_ii)\n",
    "    \n",
    "    for k in range(4):\n",
    "        a = 0\n",
    "        for i in range(0, 12, 2):\n",
    "            b = 0\n",
    "            for j in range(0, 12, 2):\n",
    "                max_pool_ii[k][a][b] = max(relued_again[k][i][j], relued_again[k][i][j+1], relued_again[k][i+1][j], relued_again[k][i+1][j+1])\n",
    "                b += 1\n",
    "            a += 1\n",
    "    \n",
    "    \n",
    "    #NN layer\n",
    "    flattened = max_pool_ii.flatten()\n",
    "    flattened = flattened.reshape(144, 1)\n",
    "    \n",
    "    the_val, z1, a1, z2 = forward(w1, b1, w2, b2, flattened)\n",
    "\n",
    "    prediction_num = np.argmax(the_val, 0)\n",
    "    a = prediction_num[0]\n",
    "\n",
    "    predicted_num = np.argmax(the_val, 0)\n",
    "    predicted_int = predicted_num[0]\n",
    "    prediction = the_value(predicted_int)\n",
    "\n",
    "    return prediction"
   ]
  },
  {
   "cell_type": "code",
   "execution_count": 52,
   "id": "5ac51930-3a78-4870-b93f-feb4ff55e3ad",
   "metadata": {},
   "outputs": [
    {
     "name": "stdout",
     "output_type": "stream",
     "text": [
      "frog\n"
     ]
    }
   ],
   "source": [
    "val = test(w1_after, b1_after, w2_after, b2_after, convs1, bias1, convs2, bias2)\n",
    "print(val)"
   ]
  },
  {
   "cell_type": "code",
   "execution_count": null,
   "id": "51cbc0ee-32e6-4a7b-9822-b579230251a7",
   "metadata": {},
   "outputs": [],
   "source": []
  }
 ],
 "metadata": {
  "kernelspec": {
   "display_name": "Python 3 (ipykernel)",
   "language": "python",
   "name": "python3"
  },
  "language_info": {
   "codemirror_mode": {
    "name": "ipython",
    "version": 3
   },
   "file_extension": ".py",
   "mimetype": "text/x-python",
   "name": "python",
   "nbconvert_exporter": "python",
   "pygments_lexer": "ipython3",
   "version": "3.12.3"
  }
 },
 "nbformat": 4,
 "nbformat_minor": 5
}

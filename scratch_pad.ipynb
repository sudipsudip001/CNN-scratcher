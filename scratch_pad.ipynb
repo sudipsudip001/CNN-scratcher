{
 "cells": [
  {
   "cell_type": "code",
   "execution_count": 1,
   "id": "74bbf2a1-8e82-4b15-95ff-3f9937603399",
   "metadata": {},
   "outputs": [],
   "source": [
    "import pickle\n",
    "import numpy as np\n",
    "import os\n",
    "\n",
    "import matplotlib.pyplot as plt"
   ]
  },
  {
   "cell_type": "code",
   "execution_count": 2,
   "id": "58a1e71a-04eb-4c48-b244-d8353a0aa3b6",
   "metadata": {},
   "outputs": [],
   "source": [
    "def unpickle(file):\n",
    "    with open(file, 'rb') as fo:\n",
    "        dict = pickle.load(fo, encoding='bytes')\n",
    "    return dict"
   ]
  },
  {
   "cell_type": "code",
   "execution_count": 3,
   "id": "990d80a7-0959-4d69-a8cc-379711033ce8",
   "metadata": {},
   "outputs": [],
   "source": [
    "images = []\n",
    "labels = []"
   ]
  },
  {
   "cell_type": "code",
   "execution_count": 4,
   "id": "178f113a-52cf-42cf-8ded-567020926e07",
   "metadata": {},
   "outputs": [],
   "source": [
    "data_path = \".\\\\dataset\\\\cifar-10-batches-py\\\\\""
   ]
  },
  {
   "cell_type": "code",
   "execution_count": 5,
   "id": "ddd7e581-7d6c-400c-99d2-94cc18e05da4",
   "metadata": {},
   "outputs": [],
   "source": [
    "for i in range(1, 6):\n",
    "    batch = unpickle(os.path.join(data_path, f\"data_batch_{i}\"))\n",
    "    images.append(batch[b'data'])\n",
    "    labels.append(batch[b'labels'])"
   ]
  },
  {
   "cell_type": "code",
   "execution_count": 6,
   "id": "9cd99244-e6b8-487a-8c32-ffb152034c76",
   "metadata": {},
   "outputs": [
    {
     "name": "stdout",
     "output_type": "stream",
     "text": [
      "(50000, 32, 32, 3)\n",
      "10000\n"
     ]
    }
   ],
   "source": [
    "train_images = np.vstack(images).reshape(-1, 3, 32, 32).transpose(0, 2, 3, 1)\n",
    "print(train_images.shape)\n",
    "print(len(labels[1]))"
   ]
  },
  {
   "cell_type": "code",
   "execution_count": null,
   "id": "1a27b264-6966-4c52-9182-6595832dc20f",
   "metadata": {},
   "outputs": [],
   "source": []
  },
  {
   "cell_type": "code",
   "execution_count": 7,
   "id": "5085b42e-58dc-4ed4-a3a2-c693a37b094d",
   "metadata": {},
   "outputs": [
    {
     "name": "stdout",
     "output_type": "stream",
     "text": [
      "(50000, 1)\n"
     ]
    }
   ],
   "source": [
    "the_label = np.hstack(labels).reshape(50000, 1)\n",
    "print(the_label.shape)"
   ]
  },
  {
   "cell_type": "code",
   "execution_count": null,
   "id": "613d803e-5621-492b-b925-9c4c3d2863ed",
   "metadata": {},
   "outputs": [],
   "source": []
  },
  {
   "cell_type": "code",
   "execution_count": null,
   "id": "d3f10357-8890-468c-91a5-6956c7d8330e",
   "metadata": {},
   "outputs": [],
   "source": []
  },
  {
   "cell_type": "code",
   "execution_count": 8,
   "id": "1f0e25cb-1892-4938-9671-7ab9bb71efd9",
   "metadata": {},
   "outputs": [],
   "source": [
    "test_batch = unpickle(os.path.join(data_path, f\"test_batch\"))\n",
    "test_image = test_batch[b'data']\n",
    "test_label = test_batch[b'labels']\n",
    "test = test_image.reshape(-1, 3, 32, 32).transpose(0, 2, 3, 1)"
   ]
  },
  {
   "cell_type": "code",
   "execution_count": 9,
   "id": "72b1ba7e-3627-430e-9d99-7f8f9c59c2e8",
   "metadata": {},
   "outputs": [
    {
     "name": "stdout",
     "output_type": "stream",
     "text": [
      "10000\n"
     ]
    }
   ],
   "source": [
    "test.shape\n",
    "print(len(test_label))"
   ]
  },
  {
   "cell_type": "code",
   "execution_count": null,
   "id": "061443e6-6da9-4734-855f-4b1879dda096",
   "metadata": {},
   "outputs": [],
   "source": []
  },
  {
   "cell_type": "code",
   "execution_count": null,
   "id": "05b836a2-dc7c-4330-9d6b-adc5e4667164",
   "metadata": {},
   "outputs": [],
   "source": []
  },
  {
   "cell_type": "code",
   "execution_count": null,
   "id": "5b75553b-a018-459f-859f-7ca6041078c2",
   "metadata": {},
   "outputs": [],
   "source": []
  },
  {
   "cell_type": "code",
   "execution_count": 10,
   "id": "771eee6f-6a4a-4573-953e-6062d623bc4e",
   "metadata": {},
   "outputs": [
    {
     "data": {
      "text/plain": [
       "(32, 32)"
      ]
     },
     "execution_count": 10,
     "metadata": {},
     "output_type": "execute_result"
    }
   ],
   "source": [
    "the_image = train_images[64]\n",
    "the_image = the_image[:, :, 0]\n",
    "the_image.shape"
   ]
  },
  {
   "cell_type": "code",
   "execution_count": null,
   "id": "00ec6bcd-dc95-4e04-8f44-a9062b12d1c5",
   "metadata": {},
   "outputs": [],
   "source": []
  },
  {
   "cell_type": "code",
   "execution_count": 11,
   "id": "d787b3d6-a558-465d-852f-17aa8800c8b1",
   "metadata": {},
   "outputs": [
    {
     "data": {
      "image/png": "[encoded data removed]",
      "text/plain": [
       "<Figure size 640x480 with 1 Axes>"
      ]
     },
     "metadata": {},
     "output_type": "display_data"
    }
   ],
   "source": [
    "plt.imshow(the_image)\n",
    "plt.show()"
   ]
  },
  {
   "cell_type": "code",
   "execution_count": 12,
   "id": "b35df205-2403-48c9-bfe0-b3f5abc644b2",
   "metadata": {},
   "outputs": [],
   "source": [
    "# convs1 = np.random.randint(2, size=(2, 1, 3, 3))\n",
    "# convs2 = np.random.randint(2, size=(4, 2, 3, 3))\n",
    "# bias1 = np.zeros(2)\n",
    "# bias2 = np.zeros(4)\n",
    "# print(convs1)\n",
    "# print()\n",
    "# print(convs2)"
   ]
  },
  {
   "cell_type": "code",
   "execution_count": 13,
   "id": "eeccc21b-0be3-4b2d-bdff-0fd71acc7142",
   "metadata": {},
   "outputs": [],
   "source": [
    "# convs1 = np.array(\n",
    "#     [\n",
    "#         [\n",
    "#             [[1, 1, 0],\n",
    "#              [0, 0, 0],\n",
    "#              [0, 1, 1]]\n",
    "#         ],\n",
    "#         [\n",
    "#             [[1, 1, 0],\n",
    "#              [1, 0, 0],\n",
    "#              [1, 1, 0]]\n",
    "#         ]\n",
    "#     ],\n",
    "# )\n",
    "# convs2 = np.array(\n",
    "#     [\n",
    "#         [\n",
    "#             [[1, 0, 0],\n",
    "#              [0, 1, 0],\n",
    "#              [1, 0, 1]],\n",
    "\n",
    "#             [[1, 1, 0],\n",
    "#              [1, 1, 1],\n",
    "#              [1, 1, 0]],\n",
    "#         ],\n",
    "#         [\n",
    "#             [[1, 0, 1],\n",
    "#              [0, 0, 1],\n",
    "#              [0, 1, 0]],\n",
    "#             [[1, 1, 1],\n",
    "#              [0, 0, 0],\n",
    "#              [0, 1, 1]]\n",
    "#         ],\n",
    "#         [\n",
    "#             [[1, 0, 1],\n",
    "#              [0, 0, 1],\n",
    "#              [1, 1, 1]],\n",
    "#             [[0, 0, 0],\n",
    "#              [0, 0, 0],\n",
    "#              [0, 0, 0]]\n",
    "#         ],\n",
    "#         [\n",
    "#             [[1, 1, 0],\n",
    "#              [0, 0, 0],\n",
    "#              [1, 0, 1]],\n",
    "#             [[1, 1, 0],\n",
    "#              [0, 1, 1],\n",
    "#              [0, 1, 1]]\n",
    "#         ]\n",
    "#     ]\n",
    "# )\n",
    "\n",
    "# print(convs1.shape)\n",
    "# print(convs2.shape)"
   ]
  },
  {
   "cell_type": "code",
   "execution_count": 17,
   "id": "a4c5366d-d251-4fda-8425-7932a2ffbb8b",
   "metadata": {},
   "outputs": [],
   "source": [
    "# convs1 = np.random.rand(2, 1, 3, 3)*0.01\n",
    "# bias1 = np.zeros(2)\n",
    "# convs2 = np.random.rand(4, 2, 3, 3)*0.01\n",
    "# bias2 = np.zeros(4)\n",
    "# print(convs1)\n",
    "# print(convs2)\n",
    "# print(bias1)\n",
    "# print(bias2)"
   ]
  },
  {
   "cell_type": "code",
   "execution_count": null,
   "id": "4a3c337a-c3ce-4537-997f-c15d9a3d3393",
   "metadata": {},
   "outputs": [],
   "source": []
  },
  {
   "cell_type": "code",
   "execution_count": 19,
   "id": "d4aded59-ace8-438a-a0d4-18de3bc12532",
   "metadata": {},
   "outputs": [
    {
     "name": "stdout",
     "output_type": "stream",
     "text": [
      "(2, 1, 3, 3)\n",
      "(4, 2, 3, 3)\n"
     ]
    }
   ],
   "source": [
    "convs1 = np.array(\n",
    "    [\n",
    "        [\n",
    "            [[0.00328364, 0.00046651, 0.00239101],\n",
    "             [0.0031846,  0.00522945, 0.00504424],\n",
    "             [0.00656692, 0.00797387, 0.00094572]]\n",
    "        ],\n",
    "        [\n",
    "            [[0.00797592, 0.00631291, 0.0033623],\n",
    "             [0.00250088, 0.00891176, 0.00581687],\n",
    "             [0.00331829, 0.00605359, 0.00339134]]\n",
    "        ],\n",
    "    ])\n",
    "\n",
    "convs2 = np.array(\n",
    "    [\n",
    "        [\n",
    "            [[0.00895433, 0.00077189, 0.00134878],\n",
    "             [0.0024303,  0.00128332, 0.00385131],\n",
    "             [0.00030218, 0.00822385, 0.0041281 ]],\n",
    "            [[0.00330197, 0.00191346, 0.00780884],\n",
    "             [0.00504102, 0.00311831, 0.00084845],\n",
    "             [0.0042936,  0.0004314,  0.00322003]]\n",
    "        ],\n",
    "        [\n",
    "            [[0.00611116, 0.00969479, 0.00433376],\n",
    "             [0.00497096, 0.00378853, 0.00957198],\n",
    "             [0.00069666, 0.00522063, 0.00165166]],\n",
    "            [[0.00820643, 0.00017181, 0.00121214],\n",
    "             [0.00166301, 0.00039936, 0.00269654],\n",
    "             [0.00391191, 0.00306065, 0.00771255]]\n",
    "        ],\n",
    "        [\n",
    "            [[0.00045499, 0.00068764, 0.00229433],\n",
    "             [0.00027335, 0.00095961, 0.00598458],\n",
    "             [0.00600151, 0.00034938, 0.00494806]],\n",
    "            [[0.00858401, 0.0092831, 0.00198257],\n",
    "             [0.00936511, 0.00155508, 0.00791489],\n",
    "             [0.00046979, 0.00483815, 0.0068774 ]]\n",
    "        ],\n",
    "        [\n",
    "            [[0.00338009, 0.00940353, 0.00900636],\n",
    "             [0.00713607, 0.00445887, 0.00500987],\n",
    "             [0.00164991, 0.00979389, 0.00952612]],\n",
    "            [[0.00379532, 0.00633353, 0.00105769],\n",
    "             [0.00736161, 0.00213996, 0.0033809],\n",
    "             [0.00740902, 0.00608547, 0.00291607]]\n",
    "        ]\n",
    "    ]\n",
    ")\n",
    "print(convs1.shape)\n",
    "print(convs2.shape)"
   ]
  },
  {
   "cell_type": "code",
   "execution_count": null,
   "id": "e53aac6e-e8ba-4fab-9a63-f1712945870d",
   "metadata": {},
   "outputs": [],
   "source": []
  },
  {
   "cell_type": "code",
   "execution_count": null,
   "id": "029fe493-ab96-4f3d-860f-9b43db2efb9e",
   "metadata": {},
   "outputs": [],
   "source": []
  },
  {
   "cell_type": "code",
   "execution_count": null,
   "id": "1c7c98fa-d422-4251-ab01-3a79fffed0e4",
   "metadata": {},
   "outputs": [],
   "source": []
  },
  {
   "cell_type": "code",
   "execution_count": null,
   "id": "293ff809-2fcd-43a8-b40e-27e6a006c566",
   "metadata": {},
   "outputs": [],
   "source": []
  },
  {
   "cell_type": "code",
   "execution_count": null,
   "id": "b8674128-a484-45d6-a58d-d89badd41f5d",
   "metadata": {},
   "outputs": [],
   "source": []
  },
  {
   "cell_type": "code",
   "execution_count": null,
   "id": "2bf64a95-eda3-4c03-94ff-4207dba2111c",
   "metadata": {},
   "outputs": [],
   "source": []
  },
  {
   "cell_type": "code",
   "execution_count": 20,
   "id": "025cd148-aeae-47ff-bb3a-d511ba2ddd78",
   "metadata": {},
   "outputs": [
    {
     "name": "stdout",
     "output_type": "stream",
     "text": [
      "(2,)\n",
      "(4,)\n"
     ]
    }
   ],
   "source": [
    "bias1 = np.array([0., 0.])\n",
    "bias2 = np.array([0., 0., 0., 0.])\n",
    "\n",
    "print(bias1.shape)\n",
    "print(bias2.shape)"
   ]
  },
  {
   "cell_type": "markdown",
   "id": "a461bea2-55e1-47d8-a2bc-c8c0e1c9a716",
   "metadata": {},
   "source": [
    "### The shapes are of shape (2, 1, 3, 3) indicating two filters of shape (1, 3, 3) and (4, 2, 3, 3) indicating four filters of shape (2, 3, 3). The 1 in front of the three dimensions represent the depth of the filters used."
   ]
  },
  {
   "cell_type": "code",
   "execution_count": 21,
   "id": "a6ddd981-889f-45cf-8403-9b04cb19cdc2",
   "metadata": {},
   "outputs": [
    {
     "name": "stdout",
     "output_type": "stream",
     "text": [
      "0.003283640.000466510.00239101\n",
      "0.00318460.005229450.00504424\n",
      "0.006566920.007973870.00094572\n",
      "\n",
      "0.007975920.006312910.0033623\n",
      "0.002500880.008911760.00581687\n",
      "0.003318290.006053590.00339134\n",
      "\n"
     ]
    }
   ],
   "source": [
    "for i in range(2):\n",
    "    for j in range(1):\n",
    "        for k in range(3):\n",
    "            for l in range(3):\n",
    "                print(convs1[i][j][k][l], end='')\n",
    "            print('')\n",
    "        print('')"
   ]
  },
  {
   "cell_type": "code",
   "execution_count": null,
   "id": "1c8bd48f-7935-4531-86ab-77febb737a8a",
   "metadata": {},
   "outputs": [],
   "source": []
  },
  {
   "cell_type": "code",
   "execution_count": 22,
   "id": "6dd942d0-f061-4cef-992c-4662521912e8",
   "metadata": {},
   "outputs": [
    {
     "name": "stdout",
     "output_type": "stream",
     "text": [
      "[[ 65  67  69 ...  93 108 102]\n",
      " [ 65  65  69 ... 104 122 132]\n",
      " [ 62  63  68 ... 122 146 140]\n",
      " ...\n",
      " [ 88  90  95 ...  83  89  92]\n",
      " [ 90  94  98 ...  75  78  85]\n",
      " [ 95 102 104 ...  74  79  84]]\n"
     ]
    }
   ],
   "source": [
    "print(the_image)"
   ]
  },
  {
   "cell_type": "code",
   "execution_count": 23,
   "id": "86ce7f81-6dd2-4058-9e7e-3027b28be036",
   "metadata": {},
   "outputs": [
    {
     "name": "stdout",
     "output_type": "stream",
     "text": [
      "69\n"
     ]
    }
   ],
   "source": [
    "print(the_image[1][2])"
   ]
  },
  {
   "cell_type": "code",
   "execution_count": 24,
   "id": "ca596554-f58c-48a5-9d20-53bed0f558ea",
   "metadata": {},
   "outputs": [
    {
     "data": {
      "text/plain": [
       "np.uint8(71)"
      ]
     },
     "execution_count": 24,
     "metadata": {},
     "output_type": "execute_result"
    }
   ],
   "source": [
    "the_image[0][5]"
   ]
  },
  {
   "cell_type": "code",
   "execution_count": null,
   "id": "7c6a4263-5a25-46f7-be77-4826bd7a0b50",
   "metadata": {},
   "outputs": [],
   "source": []
  },
  {
   "cell_type": "code",
   "execution_count": 25,
   "id": "f5ff61e3-e494-416b-a655-e759f0f88823",
   "metadata": {},
   "outputs": [
    {
     "name": "stdout",
     "output_type": "stream",
     "text": [
      "(1, 32, 32)\n"
     ]
    }
   ],
   "source": [
    "the_image = the_image.reshape(1, 32, 32)\n",
    "print(the_image.shape)"
   ]
  },
  {
   "cell_type": "code",
   "execution_count": null,
   "id": "b02d8a7a-cd8f-43b1-b339-d9375555487c",
   "metadata": {},
   "outputs": [],
   "source": []
  },
  {
   "cell_type": "code",
   "execution_count": 26,
   "id": "4b428538-04aa-4ee0-ab01-c14b4132d0b0",
   "metadata": {},
   "outputs": [
    {
     "name": "stdout",
     "output_type": "stream",
     "text": [
      "[[[2.27845008 2.35141301 2.41676869 ... 3.88336285 4.05468273 4.33242566]\n",
      "  [2.2271083  2.27916747 2.40280636 ... 4.23275655 4.58265764 4.77684658]\n",
      "  [2.13213068 2.20905237 2.84711176 ... 4.57759252 4.87495305 4.87533284]\n",
      "  ...\n",
      "  [3.13781885 3.2337963  3.30109951 ... 2.80222792 3.00730934 3.04561979]\n",
      "  [3.21482974 3.32861621 3.41092669 ... 2.62272526 2.79235249 2.92239555]\n",
      "  [3.36615701 3.48694501 3.50771488 ... 2.53650471 2.65402019 2.80486522]]\n",
      "\n",
      " [[3.13430537 3.22533363 3.3045375  ... 5.22933558 5.3328305  5.64510564]\n",
      "  [3.06493703 3.14643763 3.41953111 ... 5.63909756 5.97480126 6.24655668]\n",
      "  [2.94563819 3.1138177  3.98606131 ... 6.09839487 6.45248952 6.57211463]\n",
      "  ...\n",
      "  [4.25504164 4.3896199  4.43097254 ... 3.88112297 4.17782048 4.1547604 ]\n",
      "  [4.34027069 4.49740544 4.58713645 ... 3.72422143 3.9423453  4.09471284]\n",
      "  [4.50770235 4.65453381 4.70495837 ... 3.49940339 3.70824593 3.91895881]]]\n",
      "(2, 30, 30)\n"
     ]
    }
   ],
   "source": [
    "feature_map = np.zeros((2, 30, 30))\n",
    "# the shape is 30,30 because the new feature map's shape will be 30,30\n",
    "\n",
    "#for layer 1\n",
    "for k in range(2):#means there are 2 Conv filters here\n",
    "    for l in range(1):#denotes the depth of the filter\n",
    "        for i in range(30):#along the x-axis\n",
    "            for j in range(30):#along the y-axis\n",
    "                feature_map[k][i][j] = (the_image[l][i][j]*convs1[k][l][0][0] + the_image[l][i][j+1]*convs1[k][l][0][1] + the_image[l][i][j+2]*convs1[k][l][0][2]) + (the_image[l][i+1][j]*convs1[k][l][1][0] + the_image[l][i+1][j+1]*convs1[k][l][1][1] + the_image[l][i+1][j+2]*convs1[k][l][1][2]) + (the_image[l][i+2][j]*convs1[k][l][2][0] + the_image[l][i+2][j+1]*convs1[k][l][2][1] + the_image[l][i+2][j+2]*convs1[k][l][2][2]) + bias1[k]\n",
    "                # print(f'(the_image[{l}][{i}][{j}]*convs1[{k}][{l}][0][0] + the_image[{l}][{i}][{j+1}]*convs1[{k}][{l}][0][1] + the_image[{l}][{i}][{j+2}]*convs1[{k}][{l}][0][2]) + (the_image[{l}][{i+1}][{j}]*convs1[{k}][{l}][1][0] + the_image[{l}][{i+1}][{j+1}]*convs1[{k}][{l}][1][1] + the_image[{l}][{i+1}][{j+2}]*convs1[{k}][{l}][1][2]) + (the_image[{l}][{i+2}][{j}]*convs1[{k}][{l}][2][0] + the_image[{l}][{i+2}][{j+1}]*convs1[{k}][{l}][2][1] + the_image[{l}][{i+2}][{j+2}]*convs1[{k}][{l}][2][2])')\n",
    "                # print(f\"({the_image[l][i][j]}*{convs1[k][l][0][0]} + {the_image[l][i][j+1]}*{convs1[k][l][0][1]} + {the_image[l][i][j+2]}*{convs1[k][l][0][2]}) + ({the_image[l][i+1][j]}*{convs1[k][l][1][0]} + {the_image[l][i+1][j+1]}*{convs1[k][l][1][1]} + {the_image[l][i+1][j+2]}*{convs1[k][l][1][2]}) + ({the_image[l][i+2][j]}*{convs1[k][l][2][0]} + {the_image[l][i+2][j+1]}*{convs1[k][l][2][1]} + {the_image[l][i+2][j+2]}*{convs1[k][l][2][2]})\")\n",
    "\n",
    "                \n",
    "print(feature_map)\n",
    "print(feature_map.shape)"
   ]
  },
  {
   "cell_type": "code",
   "execution_count": null,
   "id": "fed8aa75-b3fb-46c9-9de3-b8ce4e09c7af",
   "metadata": {},
   "outputs": [],
   "source": []
  },
  {
   "cell_type": "code",
   "execution_count": null,
   "id": "05a399aa-23f1-4b0a-9f85-18d0dce21790",
   "metadata": {},
   "outputs": [],
   "source": []
  },
  {
   "cell_type": "code",
   "execution_count": null,
   "id": "794ef6f6-c5ca-4f4b-bdcd-5c3ba825bf37",
   "metadata": {},
   "outputs": [],
   "source": []
  },
  {
   "cell_type": "code",
   "execution_count": 27,
   "id": "43729fc8-e263-41ba-96c8-670d61a2d634",
   "metadata": {},
   "outputs": [],
   "source": [
    "#think we should apply a reLu operation right about here...\n",
    "def relu(z):\n",
    "    return np.maximum(0, z)\n",
    "\n",
    "relued = relu(feature_map)"
   ]
  },
  {
   "cell_type": "code",
   "execution_count": 28,
   "id": "0ebdab9e-1af5-4702-88e6-b145a89c93a6",
   "metadata": {},
   "outputs": [
    {
     "name": "stdout",
     "output_type": "stream",
     "text": [
      "(2, 30, 30)\n"
     ]
    }
   ],
   "source": [
    "print(relued.shape)"
   ]
  },
  {
   "cell_type": "code",
   "execution_count": null,
   "id": "3356dd82-7096-42b4-afee-d6587da761bf",
   "metadata": {},
   "outputs": [],
   "source": []
  },
  {
   "cell_type": "code",
   "execution_count": null,
   "id": "0af89eb3-31db-4b71-9934-512261bef6bf",
   "metadata": {},
   "outputs": [],
   "source": []
  },
  {
   "cell_type": "code",
   "execution_count": null,
   "id": "969d0f37-6474-4f00-bc85-9207144d5ffc",
   "metadata": {},
   "outputs": [],
   "source": []
  },
  {
   "cell_type": "code",
   "execution_count": 29,
   "id": "ffabac84-d2f5-4bf6-a4ed-d31b59f1ad83",
   "metadata": {
    "scrolled": true
   },
   "outputs": [
    {
     "name": "stdout",
     "output_type": "stream",
     "text": [
      "[[[ 2.35141301  3.19417362  5.63545375  6.52677004  6.61364109\n",
      "    6.37297185  6.2641199   6.34406447  6.14763484  5.57711986\n",
      "    4.48371247  3.1270368   3.70540795  4.23275655  4.77684658]\n",
      "  [ 2.3158842   4.53146782  6.98853901  7.47952606  6.09224217\n",
      "    4.88086929  4.54064796  4.93106738  5.19670991  4.69254909\n",
      "    4.00134377  2.86206822  3.46823848  4.57759252  4.87608188]\n",
      "  [ 2.77077729  3.31499801  4.79164057  5.21169692  3.44695934\n",
      "    2.64589941  2.71579006  3.22339465  3.87769151  3.8121902\n",
      "    3.59357746  3.80493964  4.47997411  5.17598283  5.23570037]\n",
      "  [ 3.11217725  4.24773953  3.84675896  4.52264925  3.47136567\n",
      "    2.59419473  2.47237528  2.33242262  3.08407868  3.64815304\n",
      "    3.71543356  3.81472291  4.39729763  5.06824746  5.10135818]\n",
      "  [ 4.94265291  7.25882367  6.19302408  6.06969407  5.51183437\n",
      "    5.68651084  6.07999251  6.42298345  6.57066632  6.48328491\n",
      "    6.10054159  4.83719015  3.94883504  4.57505087  4.74274393]\n",
      "  [ 5.13600772  7.9336926   8.03945723  8.26568843  8.34194156\n",
      "    8.26378604  8.33923415  8.42402213  8.39976257  8.38115281\n",
      "    8.22891955  7.73170583  6.93478252  5.89420453  4.65714288]\n",
      "  [ 3.61669693  7.63720089  8.23350025  8.33097781  8.40963859\n",
      "    8.45998261  8.47085143  8.45784586  8.44162709  8.3332471\n",
      "    8.29492993  8.04753099  7.90675433  8.03441589  6.48646266]\n",
      "  [ 4.27803426  5.67953767  7.99276675  8.12070508  8.37913156\n",
      "    8.4652525   7.95611909  8.18286033  8.11286942  7.95290115\n",
      "    7.73974938  7.10894852  7.08598138  7.69689045  7.08299062]\n",
      "  [ 5.14794851  3.88800879  6.99438869  7.87005681  8.1877594\n",
      "    7.88051497  6.48534815  7.30867864  7.62807128  7.10336749\n",
      "    6.25386736  5.82937655  5.83468167  6.37739316  6.4452192 ]\n",
      "  [ 3.80858671  2.95435715  4.44285342  4.77943728  7.73717419\n",
      "    7.31476355  5.61432775  5.90502228  6.2540321   6.23681917\n",
      "    6.23549029  5.86845702  5.76125435  5.6493032   6.54387484]\n",
      "  [ 2.6786955   2.46394188  2.73969951  3.48482333  6.96036976\n",
      "    6.76829485  5.21938715  5.22530963  5.84296758  5.84441996\n",
      "    5.71872837  5.73727628  5.54694953  4.46793754  5.06492473]\n",
      "  [ 2.84221724  2.84018668  2.65257215  2.76163928  5.52397732\n",
      "    6.15009057  5.11439965  4.60110675  5.19932097  5.12066403\n",
      "    5.77773634  5.35626273  3.99673825  3.6578112   3.73792818]\n",
      "  [ 3.05694064  3.07548523  2.8952644   2.62684485  3.169983\n",
      "    5.13958355  5.03744215  4.38831107  4.55876295  4.77550813\n",
      "    4.75500827  4.30416323  3.61643097  3.01164108  3.12015469]\n",
      "  [ 3.2337963   3.30109951  3.16416859  2.92699311  2.59115126\n",
      "    3.69002196  3.60278187  3.43606557  3.70441502  3.22753354\n",
      "    2.54399957  2.12020896  2.02755954  2.83534821  3.04561979]\n",
      "  [ 3.48694501  3.50771488  3.31612975  3.11249074  2.40771647\n",
      "    1.88285341  1.93737884  2.21402992  2.46791591  2.37691293\n",
      "    2.13031183  2.06820018  2.2165476   2.62272526  2.92239555]]\n",
      "\n",
      " [[ 3.22533363  4.34629731  6.82979795  7.81896286  7.86626634\n",
      "    7.79266836  8.33455555  8.51493335  8.14734241  7.55191525\n",
      "    5.9816958   4.30538243  5.06177298  5.63909756  6.24655668]\n",
      "  [ 3.17127782  6.05001125  9.36198263  9.69286447  8.33910771\n",
      "    7.55362879  7.31501415  7.65818904  7.64021594  6.76794744\n",
      "    5.69798158  3.97962315  4.96362246  6.26976572  6.658363  ]\n",
      "  [ 3.48191412  5.14506613  7.75924692  8.33062448  4.8287396\n",
      "    3.574102    3.61368956  4.73040243  5.54205229  5.26096435\n",
      "    4.95481337  5.02187132  5.82316685  6.81066997  6.90290765]\n",
      "  [ 4.5463123   4.98080286  5.13175215  6.19560347  4.32184275\n",
      "    3.57843601  3.42582319  2.90640121  4.38751637  4.90579078\n",
      "    4.66669521  5.42547711  6.26760364  7.05507071  7.11572655]\n",
      "  [ 6.49082985  9.17860894  7.51206725  7.6569635   6.38637779\n",
      "    6.20481178  6.86181385  7.27228571  7.52335871  7.50073564\n",
      "    6.9302219   5.8918053   5.39040913  6.31922896  6.35416671]\n",
      "  [ 7.43106188 10.7348911  10.54006726 11.10911252 11.06366316\n",
      "   11.14578051 11.27235559 11.4155898  11.35911667 11.32507163\n",
      "   11.1556859  10.00544712  8.26354855  6.73968553  6.26224898]\n",
      "  [ 5.84290299 10.7091525  11.25823777 11.42800909 11.46194286\n",
      "   11.41357703 11.48735847 11.50124525 11.39104777 11.32209164\n",
      "   11.26577869 10.96642103 11.02807135 11.00859623  7.94939676]\n",
      "  [ 4.32298443  8.88176621 10.94522073 11.09649106 11.48935298\n",
      "   11.51593327 11.12519438 11.24151692 11.12196934 10.8919082\n",
      "   10.68168891  9.9610721  10.1900515  10.95569812  9.55844097]\n",
      "  [ 7.27216968  5.65552286 10.23802545 10.74092853 11.11715608\n",
      "   10.811097    8.93275932 10.40918445 10.4907226   9.84878987\n",
      "    8.86419226  8.0358092   8.00909687  9.25472275  9.1709369 ]\n",
      "  [ 5.79491006  4.22874299  6.84960252  7.55817917 10.63432038\n",
      "    9.74119388  8.16478934  8.33201198  8.93071252  8.57385597\n",
      "    8.29417743  7.88155775  7.82761017  7.67208729  9.12823896]\n",
      "  [ 3.70345633  3.18011875  4.09317553  4.86332712  9.92140153\n",
      "    9.1186622   6.9890867   7.24057445  7.91315006  7.86512273\n",
      "    7.74092909  7.65566955  7.51219553  6.39737672  7.76955063]\n",
      "  [ 3.8500716   3.84587115  3.50012666  3.76203345  8.40203691\n",
      "    8.53232246  6.9388272   6.59242754  7.41973959  7.16839877\n",
      "    7.77571118  7.35306516  5.77702445  4.465542    4.85224519]\n",
      "  [ 4.07717106  4.09341807  3.8928275   3.3608161   5.11298818\n",
      "    6.83925257  6.39602851  5.82683437  6.01677605  6.30307357\n",
      "    6.59574012  5.89382125  4.87533173  4.24322537  4.59581422]\n",
      "  [ 4.3896199   4.43097254  4.19087734  3.95277122  3.43599098\n",
      "    5.96670888  5.67285018  5.32624958  5.51616794  5.18710555\n",
      "    4.33679274  3.53843923  2.79730428  3.88112297  4.17782048]\n",
      "  [ 4.65453381  4.70495837  4.45779049  4.14188659  3.07996435\n",
      "    2.53217433  2.60616652  2.97118305  3.29421584  3.15937397\n",
      "    2.80161187  2.7533686   2.95063776  3.72422143  4.09471284]]]\n",
      "(2, 15, 15)\n"
     ]
    }
   ],
   "source": [
    "#I JUST REALIZED WE'RE TOTALLY MISSING A MAX-POOLING LAYER OR TWO SO HAVE TO INCLUDE THAT AS WELL IN OUR NETWORK\n",
    "max_pool = np.ones((2, 15, 15))\n",
    "for k in range(2):\n",
    "    a = 0\n",
    "    for i in range(0, 30, 2):\n",
    "        b = 0\n",
    "        for j in range(0, 30, 2):\n",
    "            max_pool[k][a][b] = max(relued[k][i][j], relued[k][i][j+1], relued[k][i+1][j], relued[k][i+1][j+1])\n",
    "            b += 1\n",
    "        a += 1\n",
    "\n",
    "print(max_pool)\n",
    "print(max_pool.shape)"
   ]
  },
  {
   "cell_type": "code",
   "execution_count": null,
   "id": "0b9de182-aa47-4841-b198-9e5352ccf174",
   "metadata": {},
   "outputs": [],
   "source": []
  },
  {
   "cell_type": "code",
   "execution_count": null,
   "id": "d5f77569-50bf-41a6-89fc-bc93ef94a0bf",
   "metadata": {},
   "outputs": [],
   "source": []
  },
  {
   "cell_type": "code",
   "execution_count": null,
   "id": "3465058a-737c-4905-8b44-3b2716353fa6",
   "metadata": {},
   "outputs": [],
   "source": []
  },
  {
   "cell_type": "code",
   "execution_count": null,
   "id": "9bb45a5a-3d62-4efd-a0e9-cb99e3f1d143",
   "metadata": {},
   "outputs": [],
   "source": []
  },
  {
   "cell_type": "code",
   "execution_count": 30,
   "id": "7ac767f1-af33-4b02-8751-8c3036df78f1",
   "metadata": {
    "scrolled": true
   },
   "outputs": [],
   "source": [
    "# feature_map_ii = np.zeros((4, 12, 12))\n",
    "# # the shape is 12,12 because the new feature map's shape will be 12, 12\n",
    "\n",
    "# #for layer 2\n",
    "# for k in range(4):#means there are 4 Conv filters here\n",
    "#     #akshually the feature map has size 2, 12, 12 and there are 4 layers here i.e. 4 conv layers so we do the operation accordingly\n",
    "#     for l in range(2):\n",
    "#         for i in range(12):#along the x-axis\n",
    "#             for j in range(12):#along the y-axis\n",
    "#                 feature_map_ii[k][i][j] = the_image[i][j] * convs2[k][0][0] + the_image[i][j+1] * convs2[k][0][1] + the_image[i][j+2] * convs2[k][0][2]\\\n",
    "#                 + the_image[i+1][j] * convs2[k][1][0] + the_image[i+1][j+1] * convs2[k][1][1] + the_image[i+1][j+2] * convs2[k][1][2]\\\n",
    "#                 + the_image[i+2][j] * convs2[k][2][0] + the_image[i+2][j+1] * convs2[k][2][1] + the_image[i+2][j+2] * convs2[k][2][2]\n",
    "\n",
    "# print(feature_map_ii)\n",
    "# print(feature_map_ii.shape)"
   ]
  },
  {
   "cell_type": "code",
   "execution_count": 31,
   "id": "40a6267d-d73a-45f2-abd5-41ad20e6d347",
   "metadata": {
    "scrolled": true
   },
   "outputs": [
    {
     "name": "stdout",
     "output_type": "stream",
     "text": [
      "[[[0.27460942 0.36111969 0.40889525 0.3901382  0.35683582 0.35127165\n",
      "   0.36006883 0.36489167 0.34135547 0.29775267 0.28023782 0.2797656 ]\n",
      "  [0.28838307 0.35625553 0.38325353 0.35318389 0.28806031 0.26517602\n",
      "   0.27603431 0.29163095 0.29718072 0.27600878 0.27756019 0.29721395]\n",
      "  [0.32917071 0.36183133 0.3388864  0.3169836  0.27043382 0.26669163\n",
      "   0.28583982 0.30183934 0.31577077 0.30658448 0.29680058 0.31352467]\n",
      "  [0.38430616 0.43595169 0.40691274 0.40442487 0.37927828 0.36988563\n",
      "   0.38758211 0.39658578 0.40575012 0.40258952 0.3845233  0.36762768]\n",
      "  [0.45322134 0.5323243  0.51222717 0.51217242 0.50978529 0.51706208\n",
      "   0.52699766 0.53154982 0.52567693 0.50713517 0.48095294 0.4518755 ]\n",
      "  [0.45167367 0.57031674 0.58984317 0.59913195 0.60035677 0.59864075\n",
      "   0.59927856 0.59783066 0.59116896 0.57094888 0.54382379 0.51831116]\n",
      "  [0.41336065 0.53024461 0.58671196 0.59389075 0.58299872 0.57743572\n",
      "   0.57448895 0.57839058 0.56365709 0.53938644 0.52546002 0.52340537]\n",
      "  [0.37017844 0.42579262 0.52890025 0.56079692 0.5532874  0.5318181\n",
      "   0.51798806 0.52836392 0.52072926 0.49597032 0.47808688 0.47139485]\n",
      "  [0.31451668 0.32208591 0.4446075  0.49858183 0.50436862 0.48088302\n",
      "   0.45264456 0.46937195 0.46666929 0.44430109 0.42599652 0.41599953]\n",
      "  [0.23999846 0.24247599 0.3462051  0.40556948 0.46555134 0.43159261\n",
      "   0.39970105 0.40809836 0.42211838 0.41720647 0.40107454 0.36927168]\n",
      "  [0.20497321 0.20528395 0.27486706 0.32858352 0.40475688 0.39316062\n",
      "   0.36334482 0.36611685 0.38405457 0.37936168 0.36364791 0.32694082]\n",
      "  [0.21321155 0.20957286 0.24124533 0.2764425  0.3271868  0.34351976\n",
      "   0.32983014 0.31923    0.32639044 0.31131578 0.28861929 0.25931518]]\n",
      "\n",
      " [[0.35012477 0.45335042 0.48595332 0.45431434 0.41259239 0.41054188\n",
      "   0.4294672  0.43095308 0.40369804 0.35164493 0.32755134 0.33768748]\n",
      "  [0.33105526 0.42298961 0.44042868 0.39639063 0.32950902 0.30765134\n",
      "   0.32948369 0.35107103 0.35365642 0.33802848 0.33476654 0.35534181]\n",
      "  [0.36346101 0.41433705 0.40503658 0.37215464 0.31217587 0.29957157\n",
      "   0.32691919 0.35678544 0.36951306 0.35846394 0.35142969 0.37409474]\n",
      "  [0.46881357 0.50975786 0.49321906 0.49219979 0.46311436 0.45821198\n",
      "   0.4673776  0.47505067 0.49097077 0.47243773 0.43598192 0.42158707]\n",
      "  [0.56742771 0.64418694 0.62474575 0.6228631  0.61518385 0.62216923\n",
      "   0.6342792  0.64000032 0.63583257 0.61248093 0.57065746 0.52555853]\n",
      "  [0.56316454 0.68056391 0.70160799 0.71316225 0.71230726 0.71153293\n",
      "   0.71200527 0.70980483 0.70289209 0.68408126 0.66391406 0.6402238 ]\n",
      "  [0.51495672 0.64009896 0.69824152 0.70659744 0.68668195 0.6858456\n",
      "   0.68457609 0.68518584 0.66587433 0.63536426 0.61860132 0.62430374]\n",
      "  [0.4291983  0.52816956 0.63656398 0.66461909 0.64426965 0.62920431\n",
      "   0.62145522 0.62489187 0.6086507  0.58043147 0.55865478 0.55337485]\n",
      "  [0.35001759 0.37853385 0.55021653 0.60061992 0.59139425 0.55516202\n",
      "   0.53358732 0.55885381 0.55491506 0.52792016 0.50502459 0.48297812]\n",
      "  [0.27011249 0.27806319 0.42176255 0.50385515 0.54745996 0.50112433\n",
      "   0.47616255 0.48710539 0.50445805 0.49891709 0.47438962 0.42833293]\n",
      "  [0.23715573 0.23340107 0.31956275 0.40533235 0.48565979 0.45654152\n",
      "   0.42607846 0.43362706 0.4592029  0.45020513 0.42046927 0.38098533]\n",
      "  [0.25414043 0.24488863 0.25952568 0.33373826 0.40877826 0.41142617\n",
      "   0.38755836 0.38345458 0.38911535 0.37144446 0.3432224  0.31027731]]\n",
      "\n",
      " [[0.37916968 0.48176485 0.50812517 0.4757903  0.43887769 0.44531161\n",
      "   0.46532956 0.45997311 0.43038374 0.37162026 0.34921085 0.36231076]\n",
      "  [0.35750983 0.46395958 0.46390828 0.41838706 0.34874569 0.32995607\n",
      "   0.3552751  0.37809847 0.3760625  0.35858172 0.35612281 0.38406696]\n",
      "  [0.38841887 0.45413137 0.43630964 0.39105133 0.32816226 0.31711658\n",
      "   0.35236413 0.3779873  0.39046982 0.38013145 0.37464108 0.4047005 ]\n",
      "  [0.48978866 0.54388906 0.52346943 0.51133568 0.48412525 0.48115438\n",
      "   0.4903572  0.50615895 0.51729928 0.49292257 0.46080457 0.45021915]\n",
      "  [0.60120401 0.67742235 0.66481082 0.66020935 0.65162283 0.6614434\n",
      "   0.67238742 0.67750572 0.6734933  0.64567807 0.60255221 0.55752768]\n",
      "  [0.616132   0.71871924 0.74862943 0.7583332  0.75675949 0.75923521\n",
      "   0.75754457 0.75534556 0.7477675  0.72748189 0.70443808 0.67517486]\n",
      "  [0.56110985 0.68397337 0.74351398 0.75223838 0.73073041 0.73514714\n",
      "   0.73120107 0.72714471 0.70837893 0.67751052 0.66190737 0.6712718 ]\n",
      "  [0.48653957 0.56536908 0.68676574 0.70381192 0.6807601  0.67861667\n",
      "   0.65934897 0.66703618 0.64801218 0.61711368 0.59399645 0.593431  ]\n",
      "  [0.37758    0.42099995 0.59497352 0.63088959 0.62642938 0.58996732\n",
      "   0.57911793 0.59395057 0.58979902 0.56131091 0.53662077 0.51303945]\n",
      "  [0.28371763 0.30528329 0.4651209  0.53850647 0.57493496 0.53275439\n",
      "   0.51106841 0.52016155 0.53639991 0.52533004 0.49937673 0.45652308]\n",
      "  [0.24998199 0.25336056 0.3483611  0.44817473 0.51358629 0.48171703\n",
      "   0.46005958 0.46467042 0.490414   0.47775457 0.44538001 0.40272744]\n",
      "  [0.2700356  0.25768746 0.27939805 0.37069365 0.43281474 0.42749965\n",
      "   0.40986773 0.40781388 0.4108953  0.39295193 0.36297318 0.32756156]]\n",
      "\n",
      " [[0.43783766 0.60058331 0.66939824 0.61821119 0.54253232 0.52982051\n",
      "   0.55158184 0.56259187 0.53222249 0.4629219  0.42931476 0.4498017 ]\n",
      "  [0.45741226 0.56864715 0.59257753 0.52249333 0.41850051 0.39043095\n",
      "   0.41367502 0.44761734 0.45928086 0.43316359 0.42696802 0.47875657]\n",
      "  [0.52369421 0.58589903 0.55726988 0.49940107 0.43334919 0.42874048\n",
      "   0.4662822  0.49460206 0.51042604 0.49521423 0.47572949 0.49929615]\n",
      "  [0.64470275 0.71521498 0.69387521 0.66955363 0.63653279 0.63621491\n",
      "   0.65296389 0.67909097 0.69201859 0.6722544  0.63647257 0.59985518]\n",
      "  [0.75755823 0.85474393 0.84786965 0.84475716 0.84452198 0.85756769\n",
      "   0.8707001  0.87482591 0.8663289  0.83381677 0.78058991 0.73533928]\n",
      "  [0.73363565 0.90040233 0.94088045 0.95322595 0.95349858 0.95163766\n",
      "   0.95211615 0.94871033 0.93792153 0.91226069 0.87517073 0.83856442]\n",
      "  [0.675189   0.83089566 0.92778346 0.94140756 0.92312276 0.90708886\n",
      "   0.90521423 0.91270197 0.88712678 0.84701214 0.81655715 0.8128648 ]\n",
      "  [0.57963875 0.6694509  0.82038009 0.88357178 0.86889117 0.82831192\n",
      "   0.80659297 0.82582081 0.81345171 0.77387953 0.7355027  0.72939015]\n",
      "  [0.44205777 0.51038761 0.67817159 0.77515771 0.79986684 0.72950063\n",
      "   0.71049927 0.73374006 0.726707   0.69457328 0.66974271 0.6470452 ]\n",
      "  [0.3483349  0.37584259 0.51617431 0.6599353  0.73084768 0.66124497\n",
      "   0.62374725 0.64383552 0.66561767 0.66020609 0.63004027 0.58009955]\n",
      "  [0.31928208 0.32533826 0.40759474 0.53909938 0.63472352 0.60144893\n",
      "   0.56860029 0.57702271 0.60113666 0.59506242 0.57009733 0.50807278]\n",
      "  [0.34436173 0.33218145 0.3557698  0.44357404 0.51355361 0.52684807\n",
      "   0.5069805  0.50365806 0.504315   0.4869759  0.44307685 0.39286852]]]\n",
      "(4, 12, 12)\n"
     ]
    }
   ],
   "source": [
    "feature_map_ii = np.zeros((4, 12, 12))\n",
    "\n",
    "for k in range(4):#means there are 4 Conv filters here\n",
    "    for l in range(1):#denotes the depth of the filter but we'll simply put the variable as it is and perform two depth layer calculation at the same time\n",
    "        for i in range(12):#along the x-axis\n",
    "            for j in range(12):#along the y-axis\n",
    "                feature_map_ii[k][i][j] = (max_pool[l][i][j]*convs2[k][l][0][0] + max_pool[l][i][j+1]*convs2[k][l][0][1] + max_pool[l][i][j+2]*convs2[k][l][0][2] + max_pool[l][i+1][j]*convs2[k][l][1][0] + max_pool[l][i+1][j+1]*convs2[k][l][1][1] + max_pool[l][i+1][j+2]*convs2[k][l][1][2] + max_pool[l][i+2][j]*convs2[k][l][2][0] + max_pool[l][i+2][j+1]*convs2[k][l][2][1] + max_pool[l][i+2][j+2]*convs2[k][l][2][2]) + (max_pool[l+1][i][j]*convs2[k][l+1][0][0] + max_pool[l+1][i][j+1]*convs2[k][l+1][0][1] +  max_pool[l+1][i][j+2]*convs2[k][l+1][0][2] + max_pool[l+1][i+1][j]*convs2[k][l+1][1][0] + max_pool[l+1][i+1][j+1]*convs2[k][l+1][1][1] + max_pool[l+1][i+1][j+2]*convs2[k][l+1][1][2] + max_pool[l+1][i+2][j]*convs2[k][l+1][2][0] + max_pool[l+1][i+2][j+1]*convs2[k][l+1][2][1] + max_pool[l+1][i+2][j+2]*convs2[k][l+1][2][2]) + bias2[k]\n",
    "\n",
    "print(feature_map_ii)\n",
    "print(feature_map_ii.shape)"
   ]
  },
  {
   "cell_type": "code",
   "execution_count": null,
   "id": "47c3a1b6-fdf9-44d5-b012-7c01c972e04f",
   "metadata": {},
   "outputs": [],
   "source": []
  },
  {
   "cell_type": "code",
   "execution_count": null,
   "id": "e0c59117-2ed2-44f2-9f5a-e1bca72b8869",
   "metadata": {},
   "outputs": [],
   "source": []
  },
  {
   "cell_type": "code",
   "execution_count": 32,
   "id": "4a6a956d-d473-454a-b9f8-6df878a7aa3e",
   "metadata": {},
   "outputs": [],
   "source": [
    "def relu_again(z):\n",
    "    return np.maximum(0, z)\n",
    "\n",
    "relued_again = relu(feature_map_ii)"
   ]
  },
  {
   "cell_type": "code",
   "execution_count": 33,
   "id": "9bf4cdcb-f710-411f-8cda-a29b43b6cdb4",
   "metadata": {},
   "outputs": [
    {
     "name": "stdout",
     "output_type": "stream",
     "text": [
      "(4, 12, 12)\n"
     ]
    }
   ],
   "source": [
    "print(relued_again.shape)"
   ]
  },
  {
   "cell_type": "code",
   "execution_count": null,
   "id": "3fadaf31-e17a-44b6-b562-baeb65753982",
   "metadata": {},
   "outputs": [],
   "source": []
  },
  {
   "cell_type": "code",
   "execution_count": null,
   "id": "66f5850d-d838-4bb7-ba23-0f8ad08b0ee3",
   "metadata": {},
   "outputs": [],
   "source": []
  },
  {
   "cell_type": "code",
   "execution_count": null,
   "id": "e1c67afb-1c4f-472f-bba7-db034dd50340",
   "metadata": {},
   "outputs": [],
   "source": []
  },
  {
   "cell_type": "code",
   "execution_count": 34,
   "id": "7952b61f-8b68-4f47-a850-416786aced70",
   "metadata": {},
   "outputs": [
    {
     "name": "stdout",
     "output_type": "stream",
     "text": [
      "[[[0.36111969 0.40889525 0.35683582 0.36489167 0.34135547 0.29721395]\n",
      "  [0.43595169 0.40691274 0.37927828 0.39658578 0.40575012 0.3845233 ]\n",
      "  [0.57031674 0.59913195 0.60035677 0.59927856 0.59116896 0.54382379]\n",
      "  [0.53024461 0.59389075 0.58299872 0.57839058 0.56365709 0.52546002]\n",
      "  [0.32208591 0.49858183 0.50436862 0.46937195 0.46666929 0.42599652]\n",
      "  [0.21321155 0.32858352 0.40475688 0.36611685 0.38405457 0.36364791]]\n",
      "\n",
      " [[0.45335042 0.48595332 0.41259239 0.43095308 0.40369804 0.35534181]\n",
      "  [0.50975786 0.49321906 0.46311436 0.47505067 0.49097077 0.43598192]\n",
      "  [0.68056391 0.71316225 0.71230726 0.71200527 0.70289209 0.66391406]\n",
      "  [0.64009896 0.70659744 0.68668195 0.68518584 0.66587433 0.62430374]\n",
      "  [0.37853385 0.60061992 0.59139425 0.55885381 0.55491506 0.50502459]\n",
      "  [0.25414043 0.40533235 0.48565979 0.43362706 0.4592029  0.42046927]]\n",
      "\n",
      " [[0.48176485 0.50812517 0.44531161 0.46532956 0.43038374 0.38406696]\n",
      "  [0.54388906 0.52346943 0.48412525 0.50615895 0.51729928 0.46080457]\n",
      "  [0.71871924 0.7583332  0.75923521 0.75754457 0.7477675  0.70443808]\n",
      "  [0.68397337 0.75223838 0.73514714 0.73120107 0.70837893 0.6712718 ]\n",
      "  [0.42099995 0.63088959 0.62642938 0.59395057 0.58979902 0.53662077]\n",
      "  [0.2700356  0.44817473 0.51358629 0.46467042 0.490414   0.44538001]]\n",
      "\n",
      " [[0.60058331 0.66939824 0.54253232 0.56259187 0.53222249 0.47875657]\n",
      "  [0.71521498 0.69387521 0.63653279 0.67909097 0.69201859 0.63647257]\n",
      "  [0.90040233 0.95322595 0.95349858 0.95211615 0.93792153 0.87517073]\n",
      "  [0.83089566 0.94140756 0.92312276 0.91270197 0.88712678 0.81655715]\n",
      "  [0.51038761 0.77515771 0.79986684 0.73374006 0.726707   0.66974271]\n",
      "  [0.34436173 0.53909938 0.63472352 0.57702271 0.60113666 0.57009733]]]\n",
      "(4, 6, 6)\n"
     ]
    }
   ],
   "source": [
    "max_pool_ii = np.ones((4, 6, 6))\n",
    "for k in range(4):\n",
    "    a = 0\n",
    "    for i in range(0, 12, 2):\n",
    "        b = 0\n",
    "        for j in range(0, 12, 2):\n",
    "            max_pool_ii[k][a][b] = max(relued_again[k][i][j], relued_again[k][i][j+1], relued_again[k][i+1][j], relued_again[k][i+1][j+1])\n",
    "            b += 1\n",
    "        a += 1\n",
    "\n",
    "print(max_pool_ii)\n",
    "print(max_pool_ii.shape)"
   ]
  },
  {
   "cell_type": "code",
   "execution_count": null,
   "id": "7daa592d-c7f5-4055-8512-c09ebe68dbbf",
   "metadata": {},
   "outputs": [],
   "source": []
  },
  {
   "cell_type": "code",
   "execution_count": null,
   "id": "418eb437-14bd-4a4d-b4cf-35838a771cb1",
   "metadata": {},
   "outputs": [],
   "source": []
  },
  {
   "cell_type": "code",
   "execution_count": null,
   "id": "377af426-339d-4e75-9df6-26348cb0f15a",
   "metadata": {},
   "outputs": [],
   "source": []
  },
  {
   "cell_type": "code",
   "execution_count": null,
   "id": "5fb35699-2ff7-4f1f-85cb-1ffab35a2a0b",
   "metadata": {},
   "outputs": [],
   "source": []
  },
  {
   "cell_type": "code",
   "execution_count": null,
   "id": "6bb241a9-5960-47a0-ad16-64e7a4fcb46f",
   "metadata": {},
   "outputs": [],
   "source": []
  },
  {
   "cell_type": "code",
   "execution_count": null,
   "id": "efd88a44-283a-447b-8b27-f564c4a2e7a3",
   "metadata": {},
   "outputs": [],
   "source": []
  },
  {
   "cell_type": "code",
   "execution_count": null,
   "id": "bd495d93-2561-4038-b67f-0c09b98df66b",
   "metadata": {},
   "outputs": [],
   "source": []
  },
  {
   "cell_type": "code",
   "execution_count": 35,
   "id": "c7017b79-a0f1-4ce4-b830-a66b976ef6e0",
   "metadata": {},
   "outputs": [
    {
     "name": "stdout",
     "output_type": "stream",
     "text": [
      "(144,)\n"
     ]
    }
   ],
   "source": [
    "#now we flatten the layers\n",
    "\n",
    "flattened = max_pool_ii.flatten()\n",
    "print(flattened.shape)"
   ]
  },
  {
   "cell_type": "code",
   "execution_count": 36,
   "id": "74bf4840-e8c0-45b1-9624-d192f22cb1b1",
   "metadata": {},
   "outputs": [
    {
     "name": "stdout",
     "output_type": "stream",
     "text": [
      "(144, 1)\n"
     ]
    }
   ],
   "source": [
    "flattened = flattened.reshape(144, 1)\n",
    "print(flattened.shape)"
   ]
  },
  {
   "cell_type": "code",
   "execution_count": null,
   "id": "20a5943c-e265-4742-9d40-63116da653b1",
   "metadata": {},
   "outputs": [],
   "source": []
  },
  {
   "cell_type": "code",
   "execution_count": null,
   "id": "9af6d88a-2805-4475-a662-ef571d353931",
   "metadata": {},
   "outputs": [],
   "source": []
  },
  {
   "cell_type": "code",
   "execution_count": null,
   "id": "8c80fd33-306b-4c58-9501-90d1e6368e35",
   "metadata": {},
   "outputs": [],
   "source": []
  },
  {
   "cell_type": "markdown",
   "id": "e5294576-e5d6-45f5-b9f9-b3572574e110",
   "metadata": {},
   "source": [
    "## here's the vanilla neural network part of the CNN"
   ]
  },
  {
   "cell_type": "code",
   "execution_count": 37,
   "id": "3c1773af-a43e-40ea-baf1-7f1e6be5fff5",
   "metadata": {},
   "outputs": [],
   "source": [
    "# w1 = np.random.randn(50, 144) * 0.01\n",
    "# b1 = np.zeros((50, 1))\n",
    "# w2 = np.random.randn(50, 10) * 0.01\n",
    "# b2 = np.zeros((10, 1))\n",
    "\n",
    "# trying a new initialization\n",
    "w1 = np.random.rand(50, 144)*np.sqrt(2/(144 + 50))\n",
    "b1 = np.zeros((50, 1))\n",
    "w2 = np.random.rand(50, 10)*np.sqrt(2/(50 + 10))\n",
    "b2 = np.zeros((10, 1))"
   ]
  },
  {
   "cell_type": "code",
   "execution_count": 38,
   "id": "26f5ba48-8c0e-40e2-a5f5-99bc5c916489",
   "metadata": {
    "scrolled": true
   },
   "outputs": [
    {
     "name": "stdout",
     "output_type": "stream",
     "text": [
      "[[ 0.0016773   0.00889672 -0.0126335  ...  0.00221171  0.017647\n",
      "  -0.0004745 ]\n",
      " [ 0.00017375 -0.01219915  0.00080225 ... -0.00941142 -0.01710994\n",
      "  -0.00182413]\n",
      " [ 0.01871657 -0.00866417 -0.00532751 ...  0.01158945  0.01579671\n",
      "   0.00553642]\n",
      " ...\n",
      " [-0.01890736 -0.01159593 -0.00828289 ...  0.00668469  0.01697205\n",
      "  -0.00140163]\n",
      " [ 0.00504889  0.00267517 -0.00309542 ...  0.02138747  0.00316908\n",
      "   0.00867832]\n",
      " [-0.01042959 -0.00414939 -0.01443906 ... -0.00822806  0.00086293\n",
      "  -0.01255091]]\n",
      "[[0.]\n",
      " [0.]\n",
      " [0.]\n",
      " [0.]\n",
      " [0.]\n",
      " [0.]\n",
      " [0.]\n",
      " [0.]\n",
      " [0.]\n",
      " [0.]\n",
      " [0.]\n",
      " [0.]\n",
      " [0.]\n",
      " [0.]\n",
      " [0.]\n",
      " [0.]\n",
      " [0.]\n",
      " [0.]\n",
      " [0.]\n",
      " [0.]\n",
      " [0.]\n",
      " [0.]\n",
      " [0.]\n",
      " [0.]\n",
      " [0.]\n",
      " [0.]\n",
      " [0.]\n",
      " [0.]\n",
      " [0.]\n",
      " [0.]\n",
      " [0.]\n",
      " [0.]\n",
      " [0.]\n",
      " [0.]\n",
      " [0.]\n",
      " [0.]\n",
      " [0.]\n",
      " [0.]\n",
      " [0.]\n",
      " [0.]\n",
      " [0.]\n",
      " [0.]\n",
      " [0.]\n",
      " [0.]\n",
      " [0.]\n",
      " [0.]\n",
      " [0.]\n",
      " [0.]\n",
      " [0.]\n",
      " [0.]]\n",
      "[[-2.81522131e-03  1.58391188e-02  1.20043323e-02 -1.19026819e-02\n",
      "  -1.64534671e-02  2.28870983e-02  1.45101234e-02  1.65735589e-02\n",
      "  -4.72782892e-03 -4.94397922e-04]\n",
      " [-4.99536088e-03  2.39018304e-03  1.86210864e-03 -3.97894852e-04\n",
      "  -1.71677175e-03  7.16730922e-03  1.41061776e-02 -5.31031010e-03\n",
      "   2.45963837e-03  7.84546524e-03]\n",
      " [ 7.05843221e-03 -7.40636093e-03  6.89123207e-03  1.25750757e-02\n",
      "  -2.01276585e-02 -2.61290723e-02  1.06633325e-02 -1.15838249e-02\n",
      "  -4.57414595e-03 -4.51121882e-03]\n",
      " [ 9.20984749e-03 -1.37358481e-02  5.37585172e-04 -9.84203196e-03\n",
      "   7.82493080e-03 -2.22817001e-04 -9.62512971e-03 -2.65350047e-02\n",
      "   3.10555614e-03  5.61438993e-03]\n",
      " [-6.32439286e-03 -5.00859661e-03 -1.54368019e-03 -2.76468597e-03\n",
      "   1.42633236e-02 -1.84877352e-03  5.38093869e-03  5.08235476e-03\n",
      "  -1.28748523e-02 -2.30910113e-04]\n",
      " [ 2.58149563e-03  2.71397818e-03  7.35206990e-03 -5.95134677e-03\n",
      "  -7.15842878e-03  1.08535367e-02 -6.63032146e-03 -3.51986257e-03\n",
      "  -4.25223619e-03  6.53705770e-03]\n",
      " [ 9.81526167e-03  8.59409185e-03 -1.67540033e-02  2.75649409e-03\n",
      "   6.30147213e-03  3.70238214e-03  1.30259776e-02 -1.67941792e-02\n",
      "  -9.06770869e-03  4.61487881e-04]\n",
      " [ 7.41981705e-03  5.45790519e-03  1.52725194e-02 -6.78445970e-03\n",
      "  -2.54550638e-03  9.82810668e-03  6.72920497e-05  1.41356972e-02\n",
      "  -1.57341955e-02 -5.63401808e-03]\n",
      " [ 2.34353952e-02  1.22833356e-02 -9.71670945e-03 -3.44706052e-03\n",
      "  -4.01750444e-03  4.47377698e-03  2.43109949e-03 -1.00020557e-02\n",
      "  -1.04676642e-02  1.92127833e-02]\n",
      " [-3.27473027e-03  6.50645607e-03 -5.19980150e-03 -2.95846201e-03\n",
      "   2.12412370e-03 -1.27037598e-02 -1.54273897e-02  7.04774923e-03\n",
      "   5.83966225e-03 -8.70900005e-03]\n",
      " [-1.32000709e-02 -3.90920772e-03  1.30105482e-02 -8.58170123e-03\n",
      "  -3.41666521e-03 -6.02944712e-03  9.98923444e-03  1.41219550e-03\n",
      "  -4.75575922e-03 -1.04722141e-02]\n",
      " [-1.19333098e-02 -5.22067691e-03 -5.00783071e-03 -3.01290797e-03\n",
      "  -8.19126451e-03 -3.17027384e-03 -9.80746537e-03  1.66188537e-02\n",
      "  -6.43238409e-04  2.71087918e-03]\n",
      " [-1.70489907e-02  8.36889616e-03  1.00415183e-04  1.86177575e-03\n",
      "  -2.58455807e-03 -7.00748113e-03 -1.32573078e-02  3.39813471e-03\n",
      "  -1.04989627e-02 -1.61077389e-02]\n",
      " [-6.88280663e-03  1.41997111e-02 -3.47135812e-04 -3.30549118e-03\n",
      "  -2.07024294e-02  2.92873525e-03  2.96912312e-03  2.76024197e-04\n",
      "   1.22037402e-03 -2.75778046e-03]\n",
      " [-1.43503178e-02 -1.25210987e-02 -1.51592130e-03 -6.44495206e-03\n",
      "  -3.61614415e-03 -1.31109413e-02 -3.29433878e-03 -1.71545585e-03\n",
      "   4.75788257e-03  6.15869501e-03]\n",
      " [ 1.00778430e-02 -9.33399046e-03 -1.81279664e-04  7.10597908e-03\n",
      "  -8.95941185e-04 -1.44536441e-03  1.03218989e-04  1.98057488e-03\n",
      "   1.07393226e-02  4.70566420e-03]\n",
      " [ 8.40969791e-03 -6.03033706e-03 -6.68077524e-03 -2.51465081e-03\n",
      "  -7.37711210e-03 -5.53412096e-03 -5.68697984e-03 -1.52595947e-02\n",
      "   1.77202861e-02 -2.22517619e-03]\n",
      " [ 3.07922773e-04  6.50349694e-03 -2.56625795e-02  4.67805478e-03\n",
      "   6.40436914e-05 -2.05748936e-03  7.70937308e-03  1.34669788e-02\n",
      "   1.19864810e-02  3.22362388e-03]\n",
      " [-1.04786560e-02 -5.02905699e-03 -7.79729953e-04  1.01966862e-02\n",
      "  -1.85029363e-02 -9.56668970e-03  2.50000559e-03 -1.23707579e-02\n",
      "  -1.37768524e-04  1.36228700e-02]\n",
      " [ 5.49180044e-03  1.28020794e-02 -8.30280589e-03  3.96320413e-03\n",
      "  -4.21442873e-03  1.32983248e-02 -3.45087271e-03  9.82656827e-03\n",
      "  -1.97197434e-02  8.76479102e-03]\n",
      " [ 6.12845302e-03  2.63973724e-04  4.80071046e-03 -1.34952086e-03\n",
      "  -1.49351774e-02 -7.91635466e-03 -4.29644379e-03  3.17493702e-03\n",
      "  -1.59978116e-02  7.05813284e-03]\n",
      " [-1.41275433e-02 -1.30418766e-02 -1.57402500e-03  3.19956523e-03\n",
      "   2.54656772e-03 -7.60530077e-03 -2.48967594e-03 -5.49296262e-03\n",
      "  -5.03843225e-03  1.31332315e-03]\n",
      " [-8.96004638e-03 -1.50682971e-02  1.01976970e-02  4.15571689e-03\n",
      "  -1.97367307e-02  9.34558213e-03  8.01664120e-03  5.22489633e-03\n",
      "   1.55263955e-02 -1.30032083e-02]\n",
      " [ 4.16490791e-03  1.70416816e-03  2.53434433e-03 -1.85523737e-03\n",
      "  -2.26508951e-02 -5.50180525e-03 -2.18059765e-02  2.89864226e-03\n",
      "  -1.96282261e-02 -1.71389619e-02]\n",
      " [ 1.15228254e-02 -2.37499912e-03  5.40551738e-03 -1.55407817e-02\n",
      "  -5.40365877e-03  2.58420765e-03 -2.40848455e-03 -4.47120284e-03\n",
      "  -7.56957832e-03  1.68605345e-03]\n",
      " [ 7.22812160e-03  1.64399536e-02  6.23087436e-03  1.84393736e-03\n",
      "  -1.07100843e-02  4.35470338e-03  9.99709004e-03 -1.31051232e-02\n",
      "   2.94885078e-03  5.56287728e-03]\n",
      " [-1.76255217e-02  8.76671655e-04  9.37910267e-03  8.94950016e-03\n",
      "  -2.13790417e-02  4.10099169e-03 -1.83117254e-02  1.18190957e-02\n",
      "  -9.65400667e-03 -1.26066472e-03]\n",
      " [ 7.27144035e-03  9.40958612e-03  3.73883842e-03 -6.54004231e-03\n",
      "   1.50447250e-02 -3.86843662e-03  2.08263614e-02  5.25528339e-03\n",
      "   1.34641034e-02 -1.46153831e-03]\n",
      " [-9.99806199e-04 -2.98713823e-04  1.49155458e-02  2.28267386e-03\n",
      "   1.12817018e-02 -7.45066284e-03 -5.11903339e-03  1.15781110e-02\n",
      "   2.74269939e-03  1.64129873e-02]\n",
      " [-1.29282638e-02  1.21235387e-02 -1.54252755e-02  1.05723826e-02\n",
      "  -1.20264455e-02 -8.93054084e-03  3.70032236e-03 -5.74646000e-03\n",
      "   1.00511036e-02 -7.66089080e-03]\n",
      " [-1.32724379e-02  2.43426576e-03  1.78407907e-02  3.21987485e-03\n",
      "   1.47891462e-02 -4.78148387e-03 -4.89095429e-03 -2.69443274e-03\n",
      "  -2.02572344e-02 -1.33489946e-02]\n",
      " [-1.95206246e-02  5.96437690e-03 -5.36432622e-03 -5.92382255e-04\n",
      "  -2.50854741e-03 -6.92651912e-03 -2.01469407e-02 -9.08150149e-03\n",
      "  -5.15901401e-03  8.45996241e-03]\n",
      " [ 1.47136782e-02  4.21159293e-03  5.81845006e-03 -8.14075593e-03\n",
      "  -8.59744507e-03  6.24492393e-03 -3.49909189e-03 -2.67067865e-02\n",
      "   1.30544083e-02 -5.59823999e-03]\n",
      " [-6.20469826e-03  1.42247746e-02 -1.54929179e-02  7.66159664e-04\n",
      "  -1.36027199e-02  9.95623839e-03 -4.82302810e-03  8.91442304e-04\n",
      "  -2.10328438e-02  2.41813015e-02]\n",
      " [-2.05497529e-02 -1.64224490e-02  8.63048290e-03 -2.07477592e-02\n",
      "  -9.71510452e-03 -5.49127760e-04 -6.64552957e-03 -1.35626243e-02\n",
      "   1.52242228e-02  8.83128561e-03]\n",
      " [-1.05649076e-02 -2.25859098e-03  9.44119758e-03  2.85219538e-02\n",
      "   1.20815170e-02  4.99653807e-04  1.81295485e-02 -1.77348359e-03\n",
      "  -1.11421040e-02 -1.52732054e-02]\n",
      " [-2.12202874e-03  6.14113681e-03 -2.56842989e-03  7.84839577e-03\n",
      "  -2.55882280e-03 -9.17764625e-03  4.65993636e-03  6.53013563e-03\n",
      "   5.33733496e-03 -1.10315595e-03]\n",
      " [-6.57490934e-03  3.82943729e-04  1.59697370e-02  1.43381545e-02\n",
      "  -6.04582867e-04  5.73341238e-03 -1.77716997e-02 -1.90166792e-03\n",
      "   5.43240471e-03  1.93159588e-03]\n",
      " [ 1.41175460e-02 -3.33778965e-03 -5.95536278e-03  1.13000804e-02\n",
      "   1.14363697e-02 -2.52525215e-03  1.14806076e-02 -1.09388653e-02\n",
      "  -1.97730331e-04  2.44262072e-02]\n",
      " [-9.09784369e-03  7.91268758e-03 -9.16519431e-03 -1.04668208e-02\n",
      "   1.36374303e-02 -8.82334210e-03 -7.67511525e-03  1.51462153e-02\n",
      "  -4.94818333e-03 -1.53005056e-03]\n",
      " [-1.42673753e-02  8.79354426e-04  3.22009293e-03  4.71974152e-03\n",
      "  -1.32481116e-02  1.43339065e-02  8.49274206e-03  9.44653525e-03\n",
      "   1.50379454e-03  7.46227416e-03]\n",
      " [ 6.42137056e-03 -2.37169956e-02 -1.09822615e-02 -1.04025882e-02\n",
      "  -7.47861186e-03 -6.20109616e-04  4.57435497e-03  1.67345470e-03\n",
      "   3.48868530e-03 -1.32533601e-02]\n",
      " [ 2.03051603e-02 -1.36238442e-03 -1.04115003e-02  2.67226963e-03\n",
      "  -1.26948616e-02 -1.43569453e-02  9.89375055e-04 -1.23208161e-02\n",
      "  -7.55104025e-04  1.17873785e-02]\n",
      " [-6.95594056e-03 -1.08754806e-02 -2.14331663e-03 -1.41331225e-02\n",
      "  -9.51911444e-03  8.30098289e-03 -1.21615429e-02  5.79799441e-04\n",
      "  -2.57802666e-03  1.17657776e-02]\n",
      " [ 1.37607895e-03  1.98784578e-03 -1.02148267e-02 -8.07583849e-03\n",
      "   9.88238104e-03 -4.09480889e-03  4.22812953e-03  6.18644644e-03\n",
      "   3.47381186e-03  4.16214595e-03]\n",
      " [ 1.28975277e-02  1.76864003e-03  1.26065302e-02  2.47329242e-05\n",
      "  -2.82379590e-03 -1.37297134e-02 -7.42958915e-03  7.54026750e-03\n",
      "  -6.71424350e-04 -1.01073766e-02]\n",
      " [-1.84182238e-02 -1.62753716e-03  1.15535940e-03 -4.12944475e-04\n",
      "  -3.12259447e-04 -8.61800994e-04 -1.17992490e-02  2.44085012e-03\n",
      "  -5.61529695e-03  9.28961540e-03]\n",
      " [-1.05727961e-02  1.20382209e-02 -1.74118254e-03  1.05671742e-03\n",
      "  -4.11062130e-03 -9.40801523e-03 -9.10206873e-03  2.25166248e-03\n",
      "   1.99981235e-02 -7.46065296e-03]\n",
      " [ 1.30363293e-02  7.22492254e-03  8.90785170e-03  2.65882602e-03\n",
      "   1.05335018e-03 -9.71212675e-04 -3.49823987e-03 -1.98805819e-02\n",
      "  -3.46738948e-03 -1.47179084e-02]\n",
      " [ 3.51416231e-03 -5.27131035e-03 -8.85302636e-05  3.82825670e-03\n",
      "   1.68096207e-03  1.46778410e-02 -8.05332880e-03 -3.24996778e-03\n",
      "  -2.35864914e-02  9.34940973e-03]]\n",
      "[[0.]\n",
      " [0.]\n",
      " [0.]\n",
      " [0.]\n",
      " [0.]\n",
      " [0.]\n",
      " [0.]\n",
      " [0.]\n",
      " [0.]\n",
      " [0.]]\n"
     ]
    }
   ],
   "source": [
    "print(w1)\n",
    "print(b1)\n",
    "print(w2)\n",
    "print(b2)"
   ]
  },
  {
   "cell_type": "code",
   "execution_count": null,
   "id": "c9000347-4f9b-48ea-9d5c-76ecf42a8170",
   "metadata": {},
   "outputs": [],
   "source": []
  },
  {
   "cell_type": "code",
   "execution_count": null,
   "id": "96a8766f-dadc-4728-b2b3-d9b521b8db4e",
   "metadata": {},
   "outputs": [],
   "source": []
  },
  {
   "cell_type": "code",
   "execution_count": null,
   "id": "c8a56f9d-fcca-49f1-9f7b-6a2153575231",
   "metadata": {},
   "outputs": [],
   "source": []
  },
  {
   "cell_type": "code",
   "execution_count": null,
   "id": "9081dddc-af2a-4c38-aeb3-82c853fd9c23",
   "metadata": {},
   "outputs": [],
   "source": []
  },
  {
   "cell_type": "code",
   "execution_count": null,
   "id": "d722a107-da5c-4972-adb9-572c6f2cf083",
   "metadata": {},
   "outputs": [],
   "source": []
  },
  {
   "cell_type": "code",
   "execution_count": null,
   "id": "4f1e2580-1bb0-48a2-b525-3ff7ef0ffb3d",
   "metadata": {},
   "outputs": [],
   "source": []
  },
  {
   "cell_type": "code",
   "execution_count": null,
   "id": "f87a3e30-5790-4ff5-b697-10ecfd73bd5f",
   "metadata": {},
   "outputs": [],
   "source": []
  },
  {
   "cell_type": "code",
   "execution_count": null,
   "id": "d1ff4b2b-5059-406e-bcb2-1d042d2ce3be",
   "metadata": {},
   "outputs": [],
   "source": []
  },
  {
   "cell_type": "code",
   "execution_count": 39,
   "id": "a95bf51f-a263-426c-95aa-bbfb1bc67861",
   "metadata": {
    "scrolled": true
   },
   "outputs": [
    {
     "name": "stdout",
     "output_type": "stream",
     "text": [
      "[[ 0.01304332]\n",
      " [ 0.03447618]\n",
      " [ 0.08985486]\n",
      " [ 0.05589622]\n",
      " [ 0.00769014]\n",
      " [ 0.06149968]\n",
      " [-0.02009448]\n",
      " [ 0.01714197]\n",
      " [ 0.0082337 ]\n",
      " [ 0.07364127]\n",
      " [-0.01252001]\n",
      " [ 0.06424724]\n",
      " [-0.02734742]\n",
      " [ 0.07770777]\n",
      " [ 0.05664605]\n",
      " [-0.06786991]\n",
      " [-0.1131833 ]\n",
      " [ 0.0085091 ]\n",
      " [-0.02738823]\n",
      " [-0.0783248 ]\n",
      " [-0.09185329]\n",
      " [-0.10544372]\n",
      " [ 0.03676871]\n",
      " [-0.03388329]\n",
      " [ 0.00740077]\n",
      " [ 0.03497027]\n",
      " [ 0.15602015]\n",
      " [-0.15456239]\n",
      " [ 0.00397827]\n",
      " [ 0.00147816]\n",
      " [-0.05291402]\n",
      " [-0.03198968]\n",
      " [ 0.02091159]\n",
      " [ 0.06397659]\n",
      " [ 0.01681337]\n",
      " [ 0.03781004]\n",
      " [-0.07582922]\n",
      " [ 0.01969268]\n",
      " [ 0.03430636]\n",
      " [ 0.04336629]\n",
      " [-0.08852067]\n",
      " [ 0.03983903]\n",
      " [-0.02816638]\n",
      " [-0.08347755]\n",
      " [-0.11425008]\n",
      " [-0.07259928]\n",
      " [ 0.03689054]\n",
      " [-0.03590658]\n",
      " [-0.04152621]\n",
      " [-0.02625093]]\n",
      "[[0.01304332]\n",
      " [0.03447618]\n",
      " [0.08985486]\n",
      " [0.05589622]\n",
      " [0.00769014]\n",
      " [0.06149968]\n",
      " [0.        ]\n",
      " [0.01714197]\n",
      " [0.0082337 ]\n",
      " [0.07364127]\n",
      " [0.        ]\n",
      " [0.06424724]\n",
      " [0.        ]\n",
      " [0.07770777]\n",
      " [0.05664605]\n",
      " [0.        ]\n",
      " [0.        ]\n",
      " [0.0085091 ]\n",
      " [0.        ]\n",
      " [0.        ]\n",
      " [0.        ]\n",
      " [0.        ]\n",
      " [0.03676871]\n",
      " [0.        ]\n",
      " [0.00740077]\n",
      " [0.03497027]\n",
      " [0.15602015]\n",
      " [0.        ]\n",
      " [0.00397827]\n",
      " [0.00147816]\n",
      " [0.        ]\n",
      " [0.        ]\n",
      " [0.02091159]\n",
      " [0.06397659]\n",
      " [0.01681337]\n",
      " [0.03781004]\n",
      " [0.        ]\n",
      " [0.01969268]\n",
      " [0.03430636]\n",
      " [0.04336629]\n",
      " [0.        ]\n",
      " [0.03983903]\n",
      " [0.        ]\n",
      " [0.        ]\n",
      " [0.        ]\n",
      " [0.        ]\n",
      " [0.03689054]\n",
      " [0.        ]\n",
      " [0.        ]\n",
      " [0.        ]]\n",
      "[9]\n"
     ]
    }
   ],
   "source": [
    "def relu(z):\n",
    "    return np.maximum(0, z)\n",
    "\n",
    "def softmax(z):\n",
    "    probs = np.exp(z) / sum(np.exp(z))\n",
    "    return probs\n",
    "\n",
    "def forward(w1, b1, w2, b2, data):\n",
    "    z1 = np.dot(w1, data) + b1\n",
    "    print(z1)\n",
    "    a1 = relu(z1)\n",
    "    print(a1)\n",
    "    z2 = np.dot(w2.T, a1) + b2\n",
    "    a2 = softmax(z2)\n",
    "    return a2, z1, a1, z2\n",
    "\n",
    "the_val, z1, a1, z2 = forward(w1, b1, w2, b2, flattened)\n",
    "\n",
    "print(np.argmax(the_val, 0))"
   ]
  },
  {
   "cell_type": "code",
   "execution_count": 40,
   "id": "4f8c0a95-e453-4490-8362-83ed2669de70",
   "metadata": {},
   "outputs": [
    {
     "name": "stdout",
     "output_type": "stream",
     "text": [
      "<class 'numpy.ndarray'>\n",
      "[9]\n",
      "9\n",
      "<class 'numpy.int64'>\n"
     ]
    }
   ],
   "source": [
    "prediction_num = np.argmax(the_val, 0)\n",
    "print(type(prediction_num))\n",
    "print(prediction_num)\n",
    "a = prediction_num[0]\n",
    "print(a)\n",
    "print(type(a))"
   ]
  },
  {
   "cell_type": "code",
   "execution_count": 41,
   "id": "b33b4878-c034-4c1a-a9f6-1ab1cc47615f",
   "metadata": {},
   "outputs": [
    {
     "name": "stdout",
     "output_type": "stream",
     "text": [
      "truck\n"
     ]
    }
   ],
   "source": [
    "def the_value(label):\n",
    "    labels = ['airplane', 'automobile', 'bird', 'cat', 'deer', 'dog', 'frog', 'horse', 'ship', 'truck']\n",
    "    return labels[label]\n",
    "\n",
    "predicted_num = np.argmax(the_val, 0)\n",
    "predicted_int = predicted_num[0]\n",
    "prediction = the_value(predicted_int)\n",
    "print(prediction)"
   ]
  },
  {
   "cell_type": "markdown",
   "id": "37c04e60-fda0-48ea-8a17-4404cab0de4a",
   "metadata": {},
   "source": [
    "### We've successfully implemented the forward propagation part of the CNN. Now it's time for backward prop."
   ]
  },
  {
   "cell_type": "code",
   "execution_count": null,
   "id": "05ba1cf4-98fa-4628-befb-114618385cac",
   "metadata": {},
   "outputs": [],
   "source": []
  },
  {
   "cell_type": "code",
   "execution_count": null,
   "id": "6863bde4-52f7-454d-a45e-746582548f52",
   "metadata": {},
   "outputs": [],
   "source": []
  },
  {
   "cell_type": "code",
   "execution_count": null,
   "id": "bad10f2c-9130-424e-b40f-4abf181c1397",
   "metadata": {},
   "outputs": [],
   "source": []
  },
  {
   "cell_type": "code",
   "execution_count": null,
   "id": "d60bf25e-14ad-49a1-8dac-5b3d6f1ae278",
   "metadata": {},
   "outputs": [],
   "source": []
  },
  {
   "cell_type": "code",
   "execution_count": null,
   "id": "dc256b5b-fad8-4da4-a3ee-6776eef4477a",
   "metadata": {},
   "outputs": [],
   "source": []
  },
  {
   "cell_type": "markdown",
   "id": "468b6f24-628b-4bfe-85a7-110340362080",
   "metadata": {},
   "source": [
    "# Now we propagate backwards"
   ]
  },
  {
   "cell_type": "code",
   "execution_count": null,
   "id": "c801078b-cfd0-4a5b-bf87-e56d2d3fe8a7",
   "metadata": {},
   "outputs": [],
   "source": []
  },
  {
   "cell_type": "code",
   "execution_count": null,
   "id": "570a5f35-490f-46c2-9822-9c64199cc9ea",
   "metadata": {},
   "outputs": [],
   "source": []
  },
  {
   "cell_type": "markdown",
   "id": "f0653cb0-2c0f-4b04-bbdb-134905a3de2f",
   "metadata": {},
   "source": [
    "### One Hot Encoding"
   ]
  },
  {
   "cell_type": "code",
   "execution_count": 42,
   "id": "7342c71d-af56-4845-884b-8b2dfd57160d",
   "metadata": {},
   "outputs": [],
   "source": [
    "#we should perhaps preform One hot encoding to transform our label classes into the form that is usable in training process\n",
    "\n",
    "total_classes = 10\n",
    "\n",
    "hot_encoded_arr = np.zeros((total_classes, 1))\n",
    "hot_encoded_arr[the_label[64][0]] = 1  # put the corresponding value in the hot_encoded_arr as 1"
   ]
  },
  {
   "cell_type": "code",
   "execution_count": 43,
   "id": "1ef33bba-b296-4d6a-ae66-89793ebc2c33",
   "metadata": {},
   "outputs": [
    {
     "name": "stdout",
     "output_type": "stream",
     "text": [
      "[[0.]\n",
      " [1.]\n",
      " [0.]\n",
      " [0.]\n",
      " [0.]\n",
      " [0.]\n",
      " [0.]\n",
      " [0.]\n",
      " [0.]\n",
      " [0.]]\n"
     ]
    }
   ],
   "source": [
    "print(hot_encoded_arr)"
   ]
  },
  {
   "cell_type": "code",
   "execution_count": null,
   "id": "97157ae6-b9fb-41ec-9e8b-cb62dc4f1e2e",
   "metadata": {},
   "outputs": [],
   "source": []
  },
  {
   "cell_type": "code",
   "execution_count": null,
   "id": "808273b7-38f0-4b49-af68-c48060dc2008",
   "metadata": {},
   "outputs": [],
   "source": []
  },
  {
   "cell_type": "code",
   "execution_count": null,
   "id": "8ba2b4e0-6d81-44d2-ade9-e02acadd30eb",
   "metadata": {},
   "outputs": [],
   "source": []
  },
  {
   "cell_type": "markdown",
   "id": "116ac795-1a34-4d1d-a4f8-27c366ba9490",
   "metadata": {},
   "source": [
    "### Backwards propagation in the Neural network part of the CNN."
   ]
  },
  {
   "cell_type": "code",
   "execution_count": 44,
   "id": "e1debebc-0914-4478-a7bb-dee8742ceeb0",
   "metadata": {},
   "outputs": [
    {
     "name": "stdout",
     "output_type": "stream",
     "text": [
      "[[ 0.09966411]\n",
      " [-0.89985221]\n",
      " [ 0.10032246]\n",
      " [ 0.10024866]\n",
      " [ 0.09929272]\n",
      " [ 0.10005287]\n",
      " [ 0.09981804]\n",
      " [ 0.10019858]\n",
      " [ 0.09993217]\n",
      " [ 0.1003226 ]]\n",
      "(10, 1)\n"
     ]
    }
   ],
   "source": [
    "#we will be skipping the gradient calculation for softmax function as it won't affect the learning that much, or so as I heard\n",
    "dz2 = the_val - hot_encoded_arr\n",
    "print(dz2)\n",
    "print(dz2.shape)"
   ]
  },
  {
   "cell_type": "code",
   "execution_count": 45,
   "id": "31018fe7-60e0-457f-a30a-b7c2f215840a",
   "metadata": {},
   "outputs": [],
   "source": [
    "num_data = 1 #we're just using 1 data right now! Maybe this was an error in the previous parts"
   ]
  },
  {
   "cell_type": "code",
   "execution_count": 46,
   "id": "8fb5019d-b40c-4589-8d11-f1aea21b6f88",
   "metadata": {},
   "outputs": [],
   "source": [
    "dw2 = 1/num_data * dz2.dot(a1.T)\n",
    "db2 = 1/num_data * np.sum(dz2)"
   ]
  },
  {
   "cell_type": "code",
   "execution_count": null,
   "id": "4cfafded-1b09-443a-bc31-5bf42cb91cae",
   "metadata": {},
   "outputs": [],
   "source": []
  },
  {
   "cell_type": "code",
   "execution_count": null,
   "id": "062db5c1-a950-42ae-beec-93d97a17b404",
   "metadata": {},
   "outputs": [],
   "source": []
  },
  {
   "cell_type": "code",
   "execution_count": 47,
   "id": "15b075ad-e9b9-4e6c-b36a-de4b52eee083",
   "metadata": {},
   "outputs": [
    {
     "name": "stdout",
     "output_type": "stream",
     "text": [
      "[[0.01304332 0.03447618 0.08985486 0.05589622 0.00769014 0.06149968\n",
      "  0.         0.01714197 0.0082337  0.07364127 0.         0.06424724\n",
      "  0.         0.07770777 0.05664605 0.         0.         0.0085091\n",
      "  0.         0.         0.         0.         0.03676871 0.\n",
      "  0.00740077 0.03497027 0.15602015 0.         0.00397827 0.00147816\n",
      "  0.         0.         0.02091159 0.06397659 0.01681337 0.03781004\n",
      "  0.         0.01969268 0.03430636 0.04336629 0.         0.03983903\n",
      "  0.         0.         0.         0.         0.03689054 0.\n",
      "  0.         0.        ]]\n"
     ]
    }
   ],
   "source": [
    "print(a1.T)"
   ]
  },
  {
   "cell_type": "code",
   "execution_count": null,
   "id": "e0e05df1-b27f-4e21-9627-5cf4599008b0",
   "metadata": {},
   "outputs": [],
   "source": []
  },
  {
   "cell_type": "code",
   "execution_count": null,
   "id": "36516db3-5cc7-4bb4-9b83-0b5b22a1b704",
   "metadata": {},
   "outputs": [],
   "source": []
  },
  {
   "cell_type": "code",
   "execution_count": 48,
   "id": "bc552698-2737-4839-b441-2cdd4c35d1fb",
   "metadata": {
    "scrolled": true
   },
   "outputs": [
    {
     "name": "stdout",
     "output_type": "stream",
     "text": [
      "[[ 0.00129995  0.00343604  0.0089553   0.00557085  0.00076643  0.00612931\n",
      "   0.          0.00170844  0.0008206   0.00733939  0.          0.00640314\n",
      "   0.          0.00774468  0.00564558  0.          0.          0.00084805\n",
      "   0.          0.          0.          0.          0.00366452  0.\n",
      "   0.00073759  0.00348528  0.01554961  0.          0.00039649  0.00014732\n",
      "   0.          0.          0.00208414  0.00637617  0.00167569  0.0037683\n",
      "   0.          0.00196265  0.00341911  0.00432206  0.          0.00397052\n",
      "   0.          0.          0.          0.          0.00367666  0.\n",
      "   0.          0.        ]\n",
      " [-0.01173706 -0.03102347 -0.08085609 -0.05029833 -0.00691999 -0.05534062\n",
      "  -0.         -0.01542524 -0.00740911 -0.06626626 -0.         -0.05781302\n",
      "  -0.         -0.06992551 -0.05097308 -0.         -0.         -0.00765693\n",
      "  -0.         -0.         -0.         -0.         -0.03308641 -0.\n",
      "  -0.0066596  -0.03146807 -0.14039508 -0.         -0.00357985 -0.00133013\n",
      "  -0.         -0.         -0.01881734 -0.05756947 -0.01512955 -0.03402345\n",
      "  -0.         -0.0177205  -0.03087065 -0.03902325 -0.         -0.03584924\n",
      "  -0.         -0.         -0.         -0.         -0.03319603 -0.\n",
      "  -0.         -0.        ]\n",
      " [ 0.00130854  0.00345874  0.00901446  0.00560765  0.00077149  0.0061698\n",
      "   0.          0.00171972  0.00082603  0.00738787  0.          0.00644544\n",
      "   0.          0.00779583  0.00568287  0.          0.          0.00085365\n",
      "   0.          0.          0.          0.          0.00368873  0.\n",
      "   0.00074246  0.0035083   0.01565233  0.          0.00039911  0.00014829\n",
      "   0.          0.          0.0020979   0.00641829  0.00168676  0.0037932\n",
      "   0.          0.00197562  0.0034417   0.00435061  0.          0.00399675\n",
      "   0.          0.          0.          0.          0.00370095  0.\n",
      "   0.          0.        ]\n",
      " [ 0.00130758  0.00345619  0.00900783  0.00560352  0.00077093  0.00616526\n",
      "   0.          0.00171846  0.00082542  0.00738244  0.          0.0064407\n",
      "   0.          0.0077901   0.00567869  0.          0.          0.00085303\n",
      "   0.          0.          0.          0.          0.00368601  0.\n",
      "   0.00074192  0.00350572  0.01564081  0.          0.00039882  0.00014818\n",
      "   0.          0.          0.00209636  0.00641357  0.00168552  0.00379041\n",
      "   0.          0.00197416  0.00343917  0.00434741  0.          0.00399381\n",
      "   0.          0.          0.          0.          0.00369823  0.\n",
      "   0.          0.        ]\n",
      " [ 0.00129511  0.00342323  0.00892193  0.00555009  0.00076357  0.00610647\n",
      "   0.          0.00170207  0.00081755  0.00731204  0.          0.00637928\n",
      "   0.          0.00771582  0.00562454  0.          0.          0.00084489\n",
      "   0.          0.          0.          0.          0.00365087  0.\n",
      "   0.00073484  0.00347229  0.01549166  0.          0.00039501  0.00014677\n",
      "   0.          0.          0.00207637  0.00635241  0.00166945  0.00375426\n",
      "   0.          0.00195534  0.00340637  0.00430596  0.          0.00395573\n",
      "   0.          0.          0.          0.          0.00366296  0.\n",
      "   0.          0.        ]\n",
      " [ 0.00130502  0.00344944  0.00899024  0.00559258  0.00076942  0.00615322\n",
      "   0.          0.0017151   0.00082381  0.00736802  0.          0.00642812\n",
      "   0.          0.00777489  0.0056676   0.          0.          0.00085136\n",
      "   0.          0.          0.          0.          0.00367882  0.\n",
      "   0.00074047  0.00349888  0.01561026  0.          0.00039804  0.00014789\n",
      "   0.          0.          0.00209226  0.00640104  0.00168223  0.003783\n",
      "   0.          0.00197031  0.00343245  0.00433892  0.          0.00398601\n",
      "   0.          0.          0.          0.          0.003691    0.\n",
      "   0.          0.        ]\n",
      " [ 0.00130196  0.00344135  0.00896914  0.00557945  0.00076761  0.00613878\n",
      "   0.          0.00171108  0.00082187  0.00735073  0.          0.00641303\n",
      "   0.          0.00775664  0.0056543   0.          0.          0.00084936\n",
      "   0.          0.          0.          0.          0.00367018  0.\n",
      "   0.00073873  0.00349066  0.01557363  0.          0.0003971   0.00014755\n",
      "   0.          0.          0.00208735  0.00638602  0.00167828  0.00377412\n",
      "   0.          0.00196569  0.00342439  0.00432874  0.          0.00397665\n",
      "   0.          0.          0.          0.          0.00368234  0.\n",
      "   0.          0.        ]\n",
      " [ 0.00130692  0.00345446  0.00900333  0.00560072  0.00077054  0.00616218\n",
      "   0.          0.0017176   0.00082501  0.00737875  0.          0.00643748\n",
      "   0.          0.00778621  0.00567585  0.          0.          0.0008526\n",
      "   0.          0.          0.          0.          0.00368417  0.\n",
      "   0.00074155  0.00350397  0.015633    0.          0.00039862  0.00014811\n",
      "   0.          0.          0.00209531  0.00641036  0.00168468  0.00378851\n",
      "   0.          0.00197318  0.00343745  0.00434524  0.          0.00399181\n",
      "   0.          0.          0.          0.          0.00369638  0.\n",
      "   0.          0.        ]\n",
      " [ 0.00130345  0.00344528  0.00897939  0.00558583  0.00076849  0.0061458\n",
      "   0.          0.00171303  0.00082281  0.00735913  0.          0.00642037\n",
      "   0.          0.00776551  0.00566076  0.          0.          0.00085033\n",
      "   0.          0.          0.          0.          0.00367438  0.\n",
      "   0.00073958  0.00349465  0.01559143  0.          0.00039756  0.00014772\n",
      "   0.          0.          0.00208974  0.00639332  0.0016802   0.00377844\n",
      "   0.          0.00196793  0.00342831  0.00433369  0.          0.0039812\n",
      "   0.          0.          0.          0.          0.00368655  0.\n",
      "   0.          0.        ]\n",
      " [ 0.00130854  0.00345874  0.00901447  0.00560765  0.00077149  0.00616981\n",
      "   0.          0.00171973  0.00082603  0.00738788  0.          0.00644545\n",
      "   0.          0.00779585  0.00568288  0.          0.          0.00085365\n",
      "   0.          0.          0.          0.          0.00368873  0.\n",
      "   0.00074246  0.00350831  0.01565235  0.          0.00039911  0.00014829\n",
      "   0.          0.          0.00209791  0.0064183   0.00168676  0.0037932\n",
      "   0.          0.00197562  0.0034417   0.00435062  0.          0.00399676\n",
      "   0.          0.          0.          0.          0.00370095  0.\n",
      "   0.          0.        ]]\n",
      "-1.249000902703301e-16\n"
     ]
    }
   ],
   "source": [
    "print(dw2)\n",
    "print(db2)"
   ]
  },
  {
   "cell_type": "code",
   "execution_count": 49,
   "id": "559c91e1-086a-4cec-a85e-4bc898489b25",
   "metadata": {},
   "outputs": [
    {
     "name": "stdout",
     "output_type": "stream",
     "text": [
      "(10, 50)\n",
      "()\n"
     ]
    }
   ],
   "source": [
    "print(dw2.shape)\n",
    "print(db2.shape)"
   ]
  },
  {
   "cell_type": "code",
   "execution_count": null,
   "id": "f5b9a7e0-14da-43eb-a188-bbf21681e7e3",
   "metadata": {},
   "outputs": [],
   "source": []
  },
  {
   "cell_type": "code",
   "execution_count": null,
   "id": "c43ccf37-cd56-4184-b962-112a7f195ea5",
   "metadata": {},
   "outputs": [],
   "source": []
  },
  {
   "cell_type": "code",
   "execution_count": null,
   "id": "d27cfc3e-f92b-4485-8f56-c53f6eb38db7",
   "metadata": {},
   "outputs": [],
   "source": []
  },
  {
   "cell_type": "code",
   "execution_count": null,
   "id": "aa2c06e1-4f3d-45f1-ad0b-70ccc8882950",
   "metadata": {},
   "outputs": [],
   "source": []
  },
  {
   "cell_type": "code",
   "execution_count": 50,
   "id": "5b6326b9-e14e-4d88-ad79-1281c9efc724",
   "metadata": {},
   "outputs": [],
   "source": [
    "def diff_relu(z):\n",
    "    return z > 0"
   ]
  },
  {
   "cell_type": "code",
   "execution_count": 51,
   "id": "9a155ce6-ce67-4c1b-870a-4b71bfd39bfb",
   "metadata": {
    "scrolled": true
   },
   "outputs": [
    {
     "name": "stdout",
     "output_type": "stream",
     "text": [
      "[[-1.12791981e-02]\n",
      " [-4.62599518e-05]\n",
      " [ 3.70129239e-03]\n",
      " [ 1.03541348e-02]\n",
      " [ 4.41251106e-03]\n",
      " [-2.45241745e-03]\n",
      " [-0.00000000e+00]\n",
      " [-3.30367258e-03]\n",
      " [-9.86728521e-03]\n",
      " [-9.18349507e-03]\n",
      " [ 0.00000000e+00]\n",
      " [ 2.46745495e-03]\n",
      " [-0.00000000e+00]\n",
      " [-1.54230628e-02]\n",
      " [ 7.96050496e-03]\n",
      " [ 0.00000000e+00]\n",
      " [ 0.00000000e+00]\n",
      " [-4.48641624e-03]\n",
      " [ 0.00000000e+00]\n",
      " [-0.00000000e+00]\n",
      " [-0.00000000e+00]\n",
      " [ 0.00000000e+00]\n",
      " [ 1.46520506e-02]\n",
      " [-0.00000000e+00]\n",
      " [ 7.16212620e-04]\n",
      " [-1.33533857e-02]\n",
      " [-4.15466703e-03]\n",
      " [-0.00000000e+00]\n",
      " [ 4.83889920e-03]\n",
      " [-1.47437364e-02]\n",
      " [-0.00000000e+00]\n",
      " [-0.00000000e+00]\n",
      " [-5.06693456e-03]\n",
      " [-1.53185933e-02]\n",
      " [ 1.08810871e-02]\n",
      " [ 5.02175936e-03]\n",
      " [-0.00000000e+00]\n",
      " [ 1.32541644e-03]\n",
      " [ 8.30943471e-03]\n",
      " [-9.42090768e-03]\n",
      " [ 0.00000000e+00]\n",
      " [ 1.86758441e-02]\n",
      " [-0.00000000e+00]\n",
      " [ 0.00000000e+00]\n",
      " [-0.00000000e+00]\n",
      " [-0.00000000e+00]\n",
      " [-9.76211103e-04]\n",
      " [-0.00000000e+00]\n",
      " [-0.00000000e+00]\n",
      " [ 0.00000000e+00]]\n",
      "(50, 1)\n"
     ]
    }
   ],
   "source": [
    "dz1 = w2.dot(dz2)*diff_relu(z1)\n",
    "print(dz1)\n",
    "print(dz1.shape)"
   ]
  },
  {
   "cell_type": "code",
   "execution_count": 52,
   "id": "1eb9a2b5-3548-4b64-8aac-5fb5f28ed793",
   "metadata": {},
   "outputs": [],
   "source": [
    "dw1 = 1/num_data * dz1.dot(flattened.T)\n",
    "db1 = 1/num_data * np.sum(dz1)"
   ]
  },
  {
   "cell_type": "code",
   "execution_count": 53,
   "id": "488c4569-8eef-4ba1-9a78-a29b01740fb3",
   "metadata": {},
   "outputs": [
    {
     "name": "stdout",
     "output_type": "stream",
     "text": [
      "(50, 1)\n",
      "(50, 144)\n",
      "()\n"
     ]
    }
   ],
   "source": [
    "print(dz1.shape)\n",
    "print(dw1.shape)\n",
    "print(db1.shape)"
   ]
  },
  {
   "cell_type": "code",
   "execution_count": 54,
   "id": "0392c849-2338-4511-8aa4-8b13e2d6ef4c",
   "metadata": {},
   "outputs": [
    {
     "name": "stdout",
     "output_type": "stream",
     "text": [
      "-0.025759640910622956\n"
     ]
    }
   ],
   "source": [
    "print(db1)"
   ]
  },
  {
   "cell_type": "code",
   "execution_count": null,
   "id": "f3ce25ae-fbce-4a4a-ab11-979bbddae92f",
   "metadata": {},
   "outputs": [],
   "source": []
  },
  {
   "cell_type": "code",
   "execution_count": null,
   "id": "c72f8bdc-ee87-42c5-b150-43f83f567ba3",
   "metadata": {},
   "outputs": [],
   "source": []
  },
  {
   "cell_type": "code",
   "execution_count": null,
   "id": "5eb658e2-0444-4f18-93cb-e7d7386d9885",
   "metadata": {},
   "outputs": [],
   "source": []
  },
  {
   "cell_type": "code",
   "execution_count": null,
   "id": "8038f749-e101-4c7e-a3c8-85fa33ee21a8",
   "metadata": {},
   "outputs": [],
   "source": []
  },
  {
   "cell_type": "markdown",
   "id": "8e86d0c4-9ec2-4f09-bf2a-a34b7fba82e0",
   "metadata": {},
   "source": [
    "### For the second convolutional layer of the CNN"
   ]
  },
  {
   "cell_type": "code",
   "execution_count": 55,
   "id": "86b2006f-2e93-4c71-98f4-d7daadbc0a20",
   "metadata": {},
   "outputs": [
    {
     "name": "stdout",
     "output_type": "stream",
     "text": [
      "(144, 1)\n"
     ]
    }
   ],
   "source": [
    "df = dw1.T.dot(dz1)\n",
    "print(df.shape) #hopefully its shape is (144, 1)"
   ]
  },
  {
   "cell_type": "code",
   "execution_count": 56,
   "id": "f8e847a1-ebeb-4254-ae75-0290a5aef102",
   "metadata": {},
   "outputs": [],
   "source": [
    "#now we have to reshape df array into the shape that it requires to be in the shape of pooling layer from previous layer\n",
    "dp2 = df.reshape((4, 6, 6)) #gradient for pooling layer"
   ]
  },
  {
   "cell_type": "code",
   "execution_count": 57,
   "id": "188dcba0-f44f-4f61-90b7-bc87ca09e315",
   "metadata": {},
   "outputs": [
    {
     "name": "stdout",
     "output_type": "stream",
     "text": [
      "(4, 12, 12)\n"
     ]
    }
   ],
   "source": [
    "def max_pool_backward(dp2, relued_again):\n",
    "    d_relued_again = np.zeros_like(relued_again)\n",
    "    #for each maximum number, find its position and assign the particular gradient to it!\n",
    "    for k in range(4):\n",
    "        a = 0\n",
    "        for i in range(0, 12, 2):\n",
    "            b = 0\n",
    "            for j in range(0, 12, 2):\n",
    "                #now we get the indice of the maximum element from the given filter inspection\n",
    "                the_max = max(relued_again[k][i][j], relued_again[k][i][j+1], relued_again[k][i+1][j], relued_again[k][i+1][j+1])\n",
    "                #fuck it. I just can't find the function to find the index of the maximum array or my brain isn't working rn, so m gonna use if here\n",
    "                if the_max == relued_again[k][i][j]:\n",
    "                    i_is = i\n",
    "                    j_is = j\n",
    "                elif the_max == relued_again[k][i][j+1]:\n",
    "                    i_is = i\n",
    "                    j_is = j+1\n",
    "                elif the_max == relued_again[k][i+1][j]:\n",
    "                    i_is = i+1\n",
    "                    j_is = j\n",
    "                else:\n",
    "                    i_is = i+1\n",
    "                    j_is = j+1\n",
    "                d_relued_again[k][i_is][j_is] = dp2[k][a][b] #put gradient in the position at the exact position of the maximum element\n",
    "                b += 1\n",
    "            a += 1\n",
    "    return d_relued_again\n",
    "\n",
    "d_relued_again = max_pool_backward(dp2, relued_again)\n",
    "# print(d_relued_again)\n",
    "print(d_relued_again.shape)"
   ]
  },
  {
   "cell_type": "markdown",
   "id": "e5cbfc5f-d45c-447a-966a-632ec86d374e",
   "metadata": {},
   "source": [
    "### I have tried doing this back-propagation in max-pooling layer to the best of my ability but I don't quite know if this has been performed correctly or not. Would have to double check things after I start getting positive gradients or any gradients at all!"
   ]
  },
  {
   "cell_type": "code",
   "execution_count": null,
   "id": "55f38cd3-e1e5-4b01-bee8-2614a6242cf3",
   "metadata": {},
   "outputs": [],
   "source": []
  },
  {
   "cell_type": "code",
   "execution_count": null,
   "id": "22cd02e1-418c-4d8c-9884-0c6f572310b2",
   "metadata": {},
   "outputs": [],
   "source": []
  },
  {
   "cell_type": "code",
   "execution_count": null,
   "id": "ee28e5cc-e00a-4f30-9270-67df0f5c8984",
   "metadata": {},
   "outputs": [],
   "source": []
  },
  {
   "cell_type": "markdown",
   "id": "913019c7-2af8-420f-b930-c7c2502456b9",
   "metadata": {},
   "source": [
    "### For the gradient calculation of the relu of the second convolutional layer, we'll be using the already built diff_relu function"
   ]
  },
  {
   "cell_type": "code",
   "execution_count": 58,
   "id": "944c90eb-ae81-4f34-83f6-1a96dded218a",
   "metadata": {},
   "outputs": [
    {
     "name": "stdout",
     "output_type": "stream",
     "text": [
      "(4, 12, 12)\n"
     ]
    }
   ],
   "source": [
    "# We'll just pass the relued_again to the differentation calculator of relu function. That's the only step required here I suppose and we should\n",
    "# be okay using the relued_again array in the convolutional layer now.\n",
    "\n",
    "diff_relu(d_relued_again)\n",
    "print(d_relued_again.shape)\n",
    "# print(d_relued_again)"
   ]
  },
  {
   "cell_type": "code",
   "execution_count": null,
   "id": "5d21de0b-57d1-4ee3-b393-1ef90e88ca34",
   "metadata": {},
   "outputs": [],
   "source": []
  },
  {
   "cell_type": "code",
   "execution_count": null,
   "id": "063a777a-64c7-4880-b9fc-a0616fd9f8d1",
   "metadata": {},
   "outputs": [],
   "source": []
  },
  {
   "cell_type": "code",
   "execution_count": null,
   "id": "824e2a19-17f4-4f94-a59d-b661bc0a4bad",
   "metadata": {},
   "outputs": [],
   "source": []
  },
  {
   "cell_type": "code",
   "execution_count": null,
   "id": "473582ac-90b9-4e44-8123-be42e5356222",
   "metadata": {},
   "outputs": [],
   "source": []
  },
  {
   "cell_type": "markdown",
   "id": "4b516853-d3a9-4d3e-9af9-fe16690a9c17",
   "metadata": {},
   "source": [
    "## Now it's the endgame innit? I haven't yet idea how we're going to do it and what exactly to do. I just can solve things in pen and paper but I don't quite know what it'll be like in the real solution in terms of code.\n",
    "\n",
    "### As per the theory I recall that the gradient for the filter K = convolution(X, dz)  where, X = input from previous layer and dz is the gradient that has been received from the previous layer.\n",
    "\n",
    "### In our case the gradient is d_relued_again and the value of X is 'max_pool' variable. Another problem that we have here is that we have a bigger filter size, so its not gonna be that easy or feasible to perform the convolution operation like we did in the forward passing taking only 3*3 pixel values at a time. We have to be smarter with our code usage if we don't want to perform errors or repeat code. The total 'IMAGE' to convolve over is of size (2, 15, 15) and the 'FILTER' that we'll be using to convolve will be of size (4, 12, 12) and this should result in a gradient for the filter of size (4, 2, 3, 3) which should be usable to backpropagate the filter.\n",
    "\n",
    "### It has come up to my knowledge that there's a slight difference between convolution and cross-correlation operation. In actuality, we're actually performing cross-correlation operation most of the times in the CNN. So, from some detail study and asking LLMs, we're to convolve over each of (2, 15, 15) using the (4, 12, 12) filter in order to produce a (4, 2, 3, 3) filter. The operation should be as straightforward."
   ]
  },
  {
   "cell_type": "code",
   "execution_count": null,
   "id": "38ae9008-6e26-4d40-bd37-a6649415eedf",
   "metadata": {},
   "outputs": [],
   "source": []
  },
  {
   "cell_type": "code",
   "execution_count": 51,
   "id": "801abeb1-6bd2-4527-9893-f9df4b483090",
   "metadata": {},
   "outputs": [],
   "source": [
    "# d_filter = np.zeros((4, 2, 3, 3))\n",
    "\n",
    "# for i in range(4): #represents the filter number\n",
    "#     for j in range(2): #represents the dimension of the image dimension under consideration right now\n",
    "#         for k in range(3): #represents the dimension along the x-axis for the filter\n",
    "#             for l in range(3): #represents the dimension along the y-axis for the filter\n",
    "#                 '''\n",
    "#                     For each grid of the filter, we ought to perform the cross-correlation between the original image and the calculated gradient.\n",
    "#                 '''\n",
    "#                 conv = 0\n",
    "#                 for m in range(12): #this will help the calculation along the x axis\n",
    "#                     for n in range(12): #this will help the calculation along the y axis\n",
    "#                         conv += max_pool[][][]\n",
    "#                 d_filter[i][j][k][l] = conv"
   ]
  },
  {
   "cell_type": "code",
   "execution_count": null,
   "id": "106ae8df-251e-4341-8934-858fde99d92f",
   "metadata": {},
   "outputs": [],
   "source": []
  },
  {
   "cell_type": "markdown",
   "id": "be4a5563-084f-4482-82da-efd27b481850",
   "metadata": {},
   "source": [
    "### A small problem that we have is that the sizes don't and won't add up to our requirement, so we have to manipulate them before making their proper usage in our case."
   ]
  },
  {
   "cell_type": "code",
   "execution_count": null,
   "id": "55bf8f09-dc4c-42cb-a4a4-c87c328b5782",
   "metadata": {},
   "outputs": [],
   "source": []
  },
  {
   "cell_type": "code",
   "execution_count": 59,
   "id": "801d6431-e901-44d5-82ca-3e59bcac27b0",
   "metadata": {},
   "outputs": [
    {
     "name": "stdout",
     "output_type": "stream",
     "text": [
      "(4, 13, 13)\n"
     ]
    }
   ],
   "source": [
    "# turn the shape of (4, 12, 12) into (4, 13, 13) so the cross-correlation operation between the 'max_pool' and the 'd_relued_again' would\n",
    "# result in gradient of the size of the filter i.e. (4, 2, 3, 3)\n",
    "new_d_relued_again = np.pad(d_relued_again, ((0, 0), (0, 1), (0, 1)), mode='constant', constant_values=0)\n",
    "print(new_d_relued_again.shape)"
   ]
  },
  {
   "cell_type": "code",
   "execution_count": null,
   "id": "a813e08f-e7f9-4f3d-b2a7-372b56053bdd",
   "metadata": {},
   "outputs": [],
   "source": []
  },
  {
   "cell_type": "code",
   "execution_count": null,
   "id": "e778b720-1319-4afc-86fe-866c3c18c5c7",
   "metadata": {},
   "outputs": [],
   "source": []
  },
  {
   "cell_type": "code",
   "execution_count": 60,
   "id": "13be6c9b-56fd-4801-8375-cb5d531ca0da",
   "metadata": {},
   "outputs": [],
   "source": [
    "d_filter = np.zeros((4, 2, 3, 3))\n",
    "\n",
    "for i in range(4): #denotes the number of filters\n",
    "    for j in range(2): #denotes the depth of image that we're convolving over\n",
    "        for k in range(3): #the number of times the strides are taken along the vertical direction\n",
    "            for l in range(3): #the number of times the strides are taken along the horizontal direction\n",
    "                addition = 0 #the gradient to be added to the image\n",
    "                for m in range(13):\n",
    "                    for n in range(13):\n",
    "                        addition += max_pool[j][m+k][n+l] * new_d_relued_again[i][m][n]\n",
    "                d_filter[i][j][k][l] = addition"
   ]
  },
  {
   "cell_type": "code",
   "execution_count": 61,
   "id": "ef902582-6c4c-4c97-ae40-e40e26aadb37",
   "metadata": {
    "scrolled": true
   },
   "outputs": [
    {
     "name": "stdout",
     "output_type": "stream",
     "text": [
      "[[[[0.25004295 0.2581852  0.2530425 ]\n",
      "   [0.25220021 0.26161118 0.25372522]\n",
      "   [0.23499292 0.24973482 0.24333859]]\n",
      "\n",
      "  [[0.33784275 0.34807536 0.34026196]\n",
      "   [0.34346863 0.3536427  0.34379871]\n",
      "   [0.32660989 0.34418101 0.33239428]]]\n",
      "\n",
      "\n",
      " [[[0.29711684 0.30720835 0.30145802]\n",
      "   [0.29913808 0.31169288 0.30341958]\n",
      "   [0.27899536 0.29747084 0.29087972]]\n",
      "\n",
      "  [[0.40156969 0.41450401 0.40495681]\n",
      "   [0.40762156 0.42167908 0.41086704]\n",
      "   [0.3874326  0.41006157 0.39820408]]]\n",
      "\n",
      "\n",
      " [[[0.31601405 0.32767004 0.32236137]\n",
      "   [0.31651644 0.33045169 0.32475726]\n",
      "   [0.29363548 0.31191492 0.31294871]]\n",
      "\n",
      "  [[0.42740232 0.44332113 0.43293875]\n",
      "   [0.43244462 0.44852921 0.43965099]\n",
      "   [0.40658391 0.43129655 0.42921706]]]\n",
      "\n",
      "\n",
      " [[[0.39672564 0.41015567 0.40220125]\n",
      "   [0.40234945 0.41736527 0.40480738]\n",
      "   [0.37644314 0.39971985 0.38959509]]\n",
      "\n",
      "  [[0.53590855 0.55295304 0.54059614]\n",
      "   [0.54710558 0.56347722 0.54781421]\n",
      "   [0.52302921 0.55087818 0.53212676]]]]\n",
      "(4, 2, 3, 3)\n"
     ]
    }
   ],
   "source": [
    "print(d_filter)\n",
    "print(d_filter.shape)"
   ]
  },
  {
   "cell_type": "code",
   "execution_count": null,
   "id": "34c7fb55-caf0-4084-a67b-54e7b0dc9455",
   "metadata": {},
   "outputs": [],
   "source": []
  },
  {
   "cell_type": "code",
   "execution_count": null,
   "id": "81616773-7534-42ac-98e5-800d9f0d21d7",
   "metadata": {},
   "outputs": [],
   "source": []
  },
  {
   "cell_type": "code",
   "execution_count": null,
   "id": "cb7837eb-7278-46ae-9bfb-b1cad3a36a5f",
   "metadata": {},
   "outputs": [],
   "source": []
  },
  {
   "cell_type": "markdown",
   "id": "e3f44bad-8906-44a1-b9ab-29dc274fa157",
   "metadata": {},
   "source": [
    "### I don't know for sure whether this calculation is right, but it looks just about it for me. I'll have to check on that some other time. For now I want to keep the momentum going and calculate the gradients for the bias along with the gradient for the input, which is the max_pool"
   ]
  },
  {
   "cell_type": "code",
   "execution_count": 62,
   "id": "c96e427c-1372-4b65-9235-c142b4f19874",
   "metadata": {},
   "outputs": [
    {
     "name": "stdout",
     "output_type": "stream",
     "text": [
      "0.1927650052070289\n"
     ]
    }
   ],
   "source": [
    "# now the gradient calculation for bais2\n",
    "d_bias2 = np.sum(d_relued_again)\n",
    "print(d_bias2)"
   ]
  },
  {
   "cell_type": "code",
   "execution_count": null,
   "id": "7855ebd4-b42e-4725-b311-a840c44d3e73",
   "metadata": {},
   "outputs": [],
   "source": []
  },
  {
   "cell_type": "code",
   "execution_count": null,
   "id": "a170023c-7255-452c-b23a-fc3c34ed5e43",
   "metadata": {},
   "outputs": [],
   "source": []
  },
  {
   "cell_type": "code",
   "execution_count": null,
   "id": "b5dd7990-5d8f-4d14-ac36-b23ce132473d",
   "metadata": {},
   "outputs": [],
   "source": []
  },
  {
   "cell_type": "markdown",
   "id": "7d0fb033-a011-44c9-aa9f-8e91e3297337",
   "metadata": {},
   "source": [
    "### Now the gradient calculation for the input layer, which is gonna be a bit tricky. The operation that is to be performed here is simply the convolution operation between the padded gradient array and 180 degrees rotated filter.\n",
    "\n",
    "### First, we have to pad the gradient array into the shape (4, 17, 17) so that after performing convolution operation with 180 degrees rotated filter K, we get the resulting gradient for the input array in the shape (2, 15, 15). The filter size that we have is of shape (4, 2, 3, 3). So, we have to rotate it by 180 degrees and perform convolution operation with the padded gradient. I believe what happens is that each gradient array is convolved by the filter in order to produce two dimension gradient, which are added together to get propagated backwards. At least that's what I believe happens in this backprop layer"
   ]
  },
  {
   "cell_type": "code",
   "execution_count": 63,
   "id": "da38f0e2-b486-4197-b91a-563573e34b3f",
   "metadata": {},
   "outputs": [
    {
     "name": "stdout",
     "output_type": "stream",
     "text": [
      "(4, 17, 17)\n"
     ]
    }
   ],
   "source": [
    "#pad the gradient named 'new_d_relued_again' whose shape is (4, 13, 13)\n",
    "padded_d_relued_again = np.pad(new_d_relued_again, pad_width=((0, 0), (2, 2), (2, 2)), mode='constant', constant_values=0)\n",
    "#the use of pad-width simply means add (0, 0) dimensions in the first dim of new_d_relued_again, (2, 2) in second dim of new_d_relued_again and (2, 2) in third dim of new_d_relued_again\n",
    "print(padded_d_relued_again.shape)"
   ]
  },
  {
   "cell_type": "code",
   "execution_count": null,
   "id": "77389ef1-97b6-4735-801e-66d1cf52b8d2",
   "metadata": {},
   "outputs": [],
   "source": []
  },
  {
   "cell_type": "code",
   "execution_count": null,
   "id": "70385cec-073f-45b4-8c8f-36a082a4746b",
   "metadata": {},
   "outputs": [],
   "source": []
  },
  {
   "cell_type": "code",
   "execution_count": 64,
   "id": "f8518647-bca6-4b3a-a2ee-a4e709f66cfd",
   "metadata": {
    "scrolled": true
   },
   "outputs": [
    {
     "name": "stdout",
     "output_type": "stream",
     "text": [
      "[[[[0.0041281  0.00822385 0.00030218]\n",
      "   [0.00385131 0.00128332 0.0024303 ]\n",
      "   [0.00134878 0.00077189 0.00895433]]\n",
      "\n",
      "  [[0.00322003 0.0004314  0.0042936 ]\n",
      "   [0.00084845 0.00311831 0.00504102]\n",
      "   [0.00780884 0.00191346 0.00330197]]]\n",
      "\n",
      "\n",
      " [[[0.00165166 0.00522063 0.00069666]\n",
      "   [0.00957198 0.00378853 0.00497096]\n",
      "   [0.00433376 0.00969479 0.00611116]]\n",
      "\n",
      "  [[0.00771255 0.00306065 0.00391191]\n",
      "   [0.00269654 0.00039936 0.00166301]\n",
      "   [0.00121214 0.00017181 0.00820643]]]\n",
      "\n",
      "\n",
      " [[[0.00494806 0.00034938 0.00600151]\n",
      "   [0.00598458 0.00095961 0.00027335]\n",
      "   [0.00229433 0.00068764 0.00045499]]\n",
      "\n",
      "  [[0.0068774  0.00483815 0.00046979]\n",
      "   [0.00791489 0.00155508 0.00936511]\n",
      "   [0.00198257 0.0092831  0.00858401]]]\n",
      "\n",
      "\n",
      " [[[0.00952612 0.00979389 0.00164991]\n",
      "   [0.00500987 0.00445887 0.00713607]\n",
      "   [0.00900636 0.00940353 0.00338009]]\n",
      "\n",
      "  [[0.00291607 0.00608547 0.00740902]\n",
      "   [0.0033809  0.00213996 0.00736161]\n",
      "   [0.00105769 0.00633353 0.00379532]]]]\n",
      "(4, 2, 3, 3)\n"
     ]
    }
   ],
   "source": [
    "# rotate the filter 'convs2' by 180degrees\n",
    "#just reinitialize for experimentation...\n",
    "\n",
    "rotated_convs2 = np.zeros((4, 2, 3, 3))\n",
    "\n",
    "for i in range(4):\n",
    "    for j in range(2):\n",
    "        k = np.flip(convs2[i][j], axis=1)\n",
    "        l = np.flip(k, axis=0)\n",
    "        rotated_convs2[i][j] = l\n",
    "        # print(l)\n",
    "print(rotated_convs2)\n",
    "print(rotated_convs2.shape)"
   ]
  },
  {
   "cell_type": "code",
   "execution_count": null,
   "id": "aa524440-53a4-4844-be6d-9886f83956d5",
   "metadata": {},
   "outputs": [],
   "source": []
  },
  {
   "cell_type": "code",
   "execution_count": null,
   "id": "fd718693-1acb-49a0-aa8d-e6f398b68031",
   "metadata": {},
   "outputs": [],
   "source": []
  },
  {
   "cell_type": "code",
   "execution_count": 65,
   "id": "877cdd87-a72e-4ca1-8cf1-58bc9631f650",
   "metadata": {
    "scrolled": true
   },
   "outputs": [
    {
     "name": "stdout",
     "output_type": "stream",
     "text": [
      "(2, 15, 15)\n",
      "[[[0.00000000e+00 1.94653751e-05 4.66456073e-05 4.86725581e-05\n",
      "   4.10439698e-05 2.25938240e-05 1.80980132e-05 2.15666997e-05\n",
      "   4.32455375e-05 3.98696088e-05 1.88461947e-05 0.00000000e+00\n",
      "   0.00000000e+00 0.00000000e+00 0.00000000e+00]\n",
      "  [0.00000000e+00 1.78035924e-05 3.21848504e-05 4.11802638e-05\n",
      "   4.57797410e-05 1.07591217e-05 2.02739743e-05 2.39511700e-05\n",
      "   3.33638818e-05 3.09021711e-05 2.45776031e-05 1.56271230e-05\n",
      "   1.99068301e-05 1.68251989e-05 0.00000000e+00]\n",
      "  [0.00000000e+00 1.01584580e-05 3.77429955e-05 5.41929326e-05\n",
      "   2.98868095e-05 3.08363717e-05 2.42241130e-05 8.73756633e-06\n",
      "   3.98787559e-05 4.21112130e-05 2.18762180e-05 1.41748676e-05\n",
      "   9.97858111e-06 2.17995057e-05 0.00000000e+00]\n",
      "  [0.00000000e+00 2.28392404e-05 5.09891232e-05 5.29885240e-05\n",
      "   4.41858959e-05 2.61819214e-05 2.20806396e-05 2.11791771e-05\n",
      "   4.91831392e-05 5.14323529e-05 4.37805917e-05 3.36268728e-05\n",
      "   4.32077182e-05 1.95163329e-05 0.00000000e+00]\n",
      "  [0.00000000e+00 2.08631838e-05 3.47571205e-05 4.57157797e-05\n",
      "   4.90466846e-05 1.30756025e-05 2.82544620e-05 1.95983327e-05\n",
      "   3.37943265e-05 4.35582022e-05 4.85722567e-05 1.27956296e-05\n",
      "   2.73597032e-05 0.00000000e+00 0.00000000e+00]\n",
      "  [0.00000000e+00 4.14324965e-05 8.06452991e-05 1.22200683e-04\n",
      "   1.08256661e-04 1.01048895e-04 8.74443734e-05 5.46943615e-05\n",
      "   1.05157980e-04 9.63641766e-05 9.92579059e-05 6.46304682e-05\n",
      "   5.60371339e-05 0.00000000e+00 0.00000000e+00]\n",
      "  [0.00000000e+00 5.46470893e-05 5.40408850e-05 1.30273425e-04\n",
      "   1.16671038e-04 1.33410376e-04 9.32725022e-05 6.51496373e-05\n",
      "   1.41608362e-04 8.49310893e-05 1.17841636e-04 4.71608683e-05\n",
      "   7.45913675e-05 1.00134635e-05 0.00000000e+00]\n",
      "  [0.00000000e+00 4.01705770e-05 5.84421475e-05 1.19618704e-04\n",
      "   9.49961178e-05 1.53232881e-04 8.05329766e-05 9.06082607e-05\n",
      "   1.08867017e-04 9.24964531e-05 1.10535377e-04 5.74480981e-05\n",
      "   5.72831350e-05 2.35686769e-05 0.00000000e+00]\n",
      "  [0.00000000e+00 3.11226639e-05 5.91661385e-05 9.42568818e-05\n",
      "   1.06800273e-04 1.50756073e-04 6.80759220e-05 3.87253467e-05\n",
      "   1.19393786e-04 1.25629293e-04 8.78064314e-05 6.76275262e-05\n",
      "   5.53489596e-05 1.02656551e-05 0.00000000e+00]\n",
      "  [0.00000000e+00 1.51455060e-05 1.06773143e-05 4.67964181e-05\n",
      "   4.01456938e-05 5.27920080e-05 3.62251520e-05 2.19744022e-05\n",
      "   3.72662442e-05 4.92807143e-05 5.36583502e-05 1.40595346e-05\n",
      "   3.07583135e-05 0.00000000e+00 0.00000000e+00]\n",
      "  [0.00000000e+00 8.79663311e-06 2.30442368e-05 5.18389859e-05\n",
      "   9.25095382e-05 1.13844756e-04 5.50086975e-05 3.15955133e-05\n",
      "   9.00235739e-05 1.09013888e-04 8.13512240e-05 5.40354533e-05\n",
      "   4.73986874e-05 0.00000000e+00 0.00000000e+00]\n",
      "  [1.12007175e-05 1.42743559e-05 1.20518016e-05 1.59976837e-05\n",
      "   3.03274900e-05 3.82326729e-05 2.93893179e-05 1.71934447e-05\n",
      "   3.01209944e-05 3.91885789e-05 4.47761131e-05 1.18609111e-05\n",
      "   2.58178961e-05 0.00000000e+00 0.00000000e+00]\n",
      "  [1.01714636e-05 7.14866803e-06 1.55543366e-05 9.34166802e-06\n",
      "   3.50117413e-05 5.10354053e-05 2.60866694e-05 9.79596767e-06\n",
      "   3.64607853e-05 5.10333824e-05 3.42296163e-05 2.57660274e-05\n",
      "   2.31845421e-05 0.00000000e+00 0.00000000e+00]\n",
      "  [5.73176633e-06 1.54414846e-05 1.39540219e-05 0.00000000e+00\n",
      "   0.00000000e+00 0.00000000e+00 0.00000000e+00 0.00000000e+00\n",
      "   0.00000000e+00 0.00000000e+00 0.00000000e+00 0.00000000e+00\n",
      "   0.00000000e+00 0.00000000e+00 0.00000000e+00]\n",
      "  [0.00000000e+00 0.00000000e+00 0.00000000e+00 0.00000000e+00\n",
      "   0.00000000e+00 0.00000000e+00 0.00000000e+00 0.00000000e+00\n",
      "   0.00000000e+00 0.00000000e+00 0.00000000e+00 0.00000000e+00\n",
      "   0.00000000e+00 0.00000000e+00 0.00000000e+00]]\n",
      "\n",
      " [[0.00000000e+00 2.67162579e-05 5.02014864e-05 3.48640671e-05\n",
      "   2.85866173e-05 1.88971594e-05 2.82752591e-05 2.84887872e-05\n",
      "   3.63501224e-05 2.84327719e-05 1.07809636e-05 0.00000000e+00\n",
      "   0.00000000e+00 0.00000000e+00 0.00000000e+00]\n",
      "  [0.00000000e+00 2.71400882e-05 3.74940031e-05 2.60950674e-05\n",
      "   3.40121216e-05 1.55870236e-05 1.95753490e-05 2.58158545e-05\n",
      "   3.90039462e-05 1.51123605e-05 1.55284260e-05 2.12532144e-05\n",
      "   1.70455688e-05 9.47981706e-06 0.00000000e+00]\n",
      "  [0.00000000e+00 1.88680296e-05 3.86414582e-05 4.22634075e-05\n",
      "   4.16909964e-05 1.16214975e-05 1.95432280e-05 3.00347735e-05\n",
      "   3.60628315e-05 3.02905937e-05 2.05770037e-05 2.17227876e-05\n",
      "   6.34550398e-06 1.38416273e-05 0.00000000e+00]\n",
      "  [0.00000000e+00 3.06746027e-05 5.42894662e-05 3.76755293e-05\n",
      "   4.04990030e-05 2.20070736e-05 1.21607494e-05 2.86090688e-05\n",
      "   5.25379694e-05 3.64157853e-05 3.94807102e-05 3.65878421e-05\n",
      "   2.61918995e-05 1.82431879e-05 0.00000000e+00]\n",
      "  [0.00000000e+00 3.16134669e-05 3.96727126e-05 2.88493679e-05\n",
      "   4.73261646e-05 8.21384539e-06 1.78171441e-05 2.95487461e-05\n",
      "   3.88386438e-05 2.75148325e-05 4.66193536e-05 8.14102829e-06\n",
      "   1.72192711e-05 0.00000000e+00 0.00000000e+00]\n",
      "  [0.00000000e+00 6.24422282e-05 7.40057214e-05 1.06640837e-04\n",
      "   1.05929420e-04 6.99977606e-05 9.79365329e-05 5.81774612e-05\n",
      "   1.01391527e-04 7.76601767e-05 1.02624773e-04 4.91507618e-05\n",
      "   4.00932060e-05 0.00000000e+00 0.00000000e+00]\n",
      "  [0.00000000e+00 7.87609450e-05 4.20547342e-05 1.28109518e-04\n",
      "   9.87492474e-05 1.04564935e-04 1.05201806e-04 7.22169243e-05\n",
      "   1.29547078e-04 5.89484450e-05 9.61258738e-05 5.18677366e-05\n",
      "   5.21032338e-05 4.92356196e-06 0.00000000e+00]\n",
      "  [0.00000000e+00 6.69327574e-05 3.78218992e-05 1.32022655e-04\n",
      "   9.56007486e-05 1.09719917e-04 9.45931240e-05 8.21894513e-05\n",
      "   1.29544931e-04 5.23103330e-05 1.09645207e-04 5.12060290e-05\n",
      "   4.42644323e-05 1.65012119e-05 0.00000000e+00]\n",
      "  [0.00000000e+00 4.94788443e-05 4.33385070e-05 1.07770723e-04\n",
      "   1.19271455e-04 9.96152383e-05 4.83699694e-05 8.14596948e-05\n",
      "   1.17761599e-04 9.02780224e-05 9.82769663e-05 4.26383469e-05\n",
      "   3.52420180e-05 2.22443252e-05 0.00000000e+00]\n",
      "  [0.00000000e+00 2.34744074e-05 6.84537124e-06 5.06573946e-05\n",
      "   4.64986632e-05 3.33763693e-05 2.28421107e-05 3.36307468e-05\n",
      "   4.32293883e-05 3.12172783e-05 5.17940213e-05 8.95705857e-06\n",
      "   1.94219260e-05 0.00000000e+00 0.00000000e+00]\n",
      "  [0.00000000e+00 1.61390640e-05 1.51894514e-05 6.88081798e-05\n",
      "   9.65457518e-05 8.70863875e-05 4.30775318e-05 4.92051894e-05\n",
      "   9.28267012e-05 8.32818095e-05 8.67423739e-05 3.98932998e-05\n",
      "   3.71360051e-05 0.00000000e+00 0.00000000e+00]\n",
      "  [1.51286921e-05 1.21213133e-05 6.77496637e-06 2.47554951e-05\n",
      "   3.62442125e-05 2.44215907e-05 1.85470413e-05 2.63355011e-05\n",
      "   3.53539367e-05 2.48552899e-05 4.33451976e-05 7.58131557e-06\n",
      "   1.62616424e-05 0.00000000e+00 0.00000000e+00]\n",
      "  [1.54750526e-05 4.53585763e-06 9.82962407e-06 1.69839331e-05\n",
      "   3.63515202e-05 3.97334807e-05 2.46039109e-05 1.83060196e-05\n",
      "   3.62601659e-05 4.01030763e-05 4.13758140e-05 1.66696321e-05\n",
      "   2.15551004e-05 0.00000000e+00 0.00000000e+00]\n",
      "  [1.08204481e-05 1.00752288e-05 1.29904553e-05 0.00000000e+00\n",
      "   0.00000000e+00 0.00000000e+00 0.00000000e+00 0.00000000e+00\n",
      "   0.00000000e+00 0.00000000e+00 0.00000000e+00 0.00000000e+00\n",
      "   0.00000000e+00 0.00000000e+00 0.00000000e+00]\n",
      "  [0.00000000e+00 0.00000000e+00 0.00000000e+00 0.00000000e+00\n",
      "   0.00000000e+00 0.00000000e+00 0.00000000e+00 0.00000000e+00\n",
      "   0.00000000e+00 0.00000000e+00 0.00000000e+00 0.00000000e+00\n",
      "   0.00000000e+00 0.00000000e+00 0.00000000e+00]]]\n"
     ]
    }
   ],
   "source": [
    "#the gradient calculation for the layer 1\n",
    "d_layer1 = np.zeros((2, 15, 15)) # the gradient to get propagated back to the first layer.\n",
    "\n",
    "for i in range(4): # denotes the current iteration number of filter number and gradient number\n",
    "    for j in range(2): # denotes the depth of filter used\n",
    "        for k in range(15):\n",
    "            for l in range(15):\n",
    "                # d_layer1[j][k][l] += rotated_convs2[i][j][0][0]*padded_d_relued_again[i][k][l] + rotated_convs2[i][j][0][1]*padded_d_relued_again[i][k][l+1] + rotated_convs2[i][j][0][2]*padded_d_relued_again[i][k][l+2] + rotated_convs2[i][j][1][0]*padded_d_relued_again[i][k+1][l] + rotated_convs2[i][j][1][1]*padded_d_relued_again[i][k+1][l+1] + rotated_convs2[i][j][1][2]*padded_d_relued_again[i][k+1][l+2] + rotated_convs2[i][j][2][0]*padded_d_relued_again[i][k+2][l] + rotated_convs2[i][j][2][1]*padded_d_relued_again[i][k+2][l+1] + rotated_convs2[i][j][2][2]*padded_d_relued_again[i][k+2][l+2]\n",
    "                for m in range(3):\n",
    "                    for n in range(3):\n",
    "                        d_layer1[j][k][l] += (rotated_convs2[i][j][m][n] * padded_d_relued_again[i][k+m][l+n])\n",
    "\n",
    "print(d_layer1.shape)\n",
    "print(d_layer1)"
   ]
  },
  {
   "cell_type": "code",
   "execution_count": null,
   "id": "ad1286d2-3dec-43e5-a08b-4000c73c7076",
   "metadata": {},
   "outputs": [],
   "source": []
  },
  {
   "cell_type": "code",
   "execution_count": null,
   "id": "f5842c37-db7a-40e9-97ed-7411fe5f380c",
   "metadata": {},
   "outputs": [],
   "source": []
  },
  {
   "cell_type": "code",
   "execution_count": null,
   "id": "36ee961d-0a83-4c8b-9256-ca9033b741a0",
   "metadata": {},
   "outputs": [],
   "source": []
  },
  {
   "cell_type": "markdown",
   "id": "2992eb6e-fb9b-40da-91c7-61cc8e2daef6",
   "metadata": {},
   "source": [
    "### Off we go to layer1. The first layer to tackle would be the max_pooling layer"
   ]
  },
  {
   "cell_type": "code",
   "execution_count": null,
   "id": "48b52ce5-51e1-432a-8d53-8d28b9354a20",
   "metadata": {},
   "outputs": [],
   "source": []
  },
  {
   "cell_type": "code",
   "execution_count": 66,
   "id": "13d68334-17ca-48f2-b40c-8443403cb4f5",
   "metadata": {},
   "outputs": [
    {
     "name": "stdout",
     "output_type": "stream",
     "text": [
      "(2, 30, 30)\n"
     ]
    }
   ],
   "source": [
    "def max_pool_backward1(dp, relued):\n",
    "    d_relued = np.zeros_like(relued)\n",
    "    #for each maximum number, find its position and assign the particular gradient to it!\n",
    "    for k in range(2):\n",
    "        a = 0\n",
    "        for i in range(0, 15, 2):\n",
    "            b = 0\n",
    "            for j in range(0, 15, 2):\n",
    "                #now we get the indice of the maximum element from the given filter inspection\n",
    "                the_max = max(relued[k][i][j], relued[k][i][j+1], relued[k][i+1][j], relued[k][i+1][j+1])\n",
    "                if the_max == relued[k][i][j]:\n",
    "                    i_is = i\n",
    "                    j_is = j\n",
    "                elif the_max == relued[k][i][j+1]:\n",
    "                    i_is = i\n",
    "                    j_is = j+1\n",
    "                elif the_max == relued[k][i+1][j]:\n",
    "                    i_is = i+1\n",
    "                    j_is = j\n",
    "                else:\n",
    "                    i_is = i+1\n",
    "                    j_is = j+1\n",
    "                d_relued[k][i_is][j_is] = dp[k][a][b] #put gradient in the position at the exact position of the maximum element\n",
    "                b += 1\n",
    "            a += 1\n",
    "    return d_relued\n",
    "\n",
    "d_relued = max_pool_backward1(d_layer1, relued)\n",
    "print(d_relued.shape)"
   ]
  },
  {
   "cell_type": "code",
   "execution_count": null,
   "id": "bef00334-010f-4173-8ffd-3c13402bbb9b",
   "metadata": {},
   "outputs": [],
   "source": []
  },
  {
   "cell_type": "code",
   "execution_count": null,
   "id": "72370f89-82f1-4514-b430-4daf1e044874",
   "metadata": {},
   "outputs": [],
   "source": []
  },
  {
   "cell_type": "markdown",
   "id": "fd5d6402-84ee-4600-a283-4bd9e1072d0a",
   "metadata": {},
   "source": [
    "### for the relu layer"
   ]
  },
  {
   "cell_type": "code",
   "execution_count": 67,
   "id": "8c35aa40-c0fb-4c83-871c-4600487e3b90",
   "metadata": {},
   "outputs": [
    {
     "name": "stdout",
     "output_type": "stream",
     "text": [
      "(2, 30, 30)\n"
     ]
    }
   ],
   "source": [
    "diff_relu(d_relued)\n",
    "print(d_relued.shape)"
   ]
  },
  {
   "cell_type": "code",
   "execution_count": null,
   "id": "84f29559-e680-444e-8511-c849f76bd31b",
   "metadata": {},
   "outputs": [],
   "source": []
  },
  {
   "cell_type": "code",
   "execution_count": null,
   "id": "7917e588-e2bf-461e-95d7-8ecaa84e3ea5",
   "metadata": {},
   "outputs": [],
   "source": []
  },
  {
   "cell_type": "markdown",
   "id": "da53cb89-88a2-4c2c-9428-f97f15eece48",
   "metadata": {},
   "source": [
    "### backprop in the first convolutional layer."
   ]
  },
  {
   "cell_type": "code",
   "execution_count": null,
   "id": "21ca86af-73e2-432d-a816-35c17cff5028",
   "metadata": {},
   "outputs": [],
   "source": []
  },
  {
   "cell_type": "code",
   "execution_count": 61,
   "id": "d48ecbcd-1966-48d9-b1a6-fa73dc54eef8",
   "metadata": {},
   "outputs": [],
   "source": [
    "# #not necessary for the first layer of the convolution layer\n",
    "\n",
    "# padded_d_relued = np.pad(d_relued, pad_width=((0, 0), (4, 4), (4, 4)), mode='constant', constant_values=0)\n",
    "# print(padded_d_relued.shape) # should be of shape (2, 34, 34)"
   ]
  },
  {
   "cell_type": "code",
   "execution_count": null,
   "id": "c9de3f00-be73-48e8-b3bb-5e8f3b6b80b4",
   "metadata": {},
   "outputs": [],
   "source": []
  },
  {
   "cell_type": "code",
   "execution_count": 62,
   "id": "485e1422-3000-4ded-92ce-1cfb7abf5017",
   "metadata": {},
   "outputs": [],
   "source": [
    "# #rotate the convs1 filter by 180 degrees\n",
    "# # not necessary for our case\n",
    "# rotated_convs1 = np.zeros((2, 1, 3, 3))\n",
    "\n",
    "# for i in range(2):\n",
    "#     for j in range(1):\n",
    "#         k = np.flip(convs1[i][j], axis=1)\n",
    "#         l = np.flip(k, axis=0)\n",
    "#         rotated_convs1[i][j] = l\n",
    "# print(rotated_convs1)\n",
    "# print(rotated_convs1.shape)"
   ]
  },
  {
   "cell_type": "code",
   "execution_count": null,
   "id": "564b9248-0093-4ee1-bdd4-a7900fc2d3de",
   "metadata": {},
   "outputs": [],
   "source": []
  },
  {
   "cell_type": "code",
   "execution_count": null,
   "id": "c7677f46-03a5-4a8e-9e3f-9c9ec83cf00b",
   "metadata": {},
   "outputs": [],
   "source": []
  },
  {
   "cell_type": "code",
   "execution_count": 68,
   "id": "ee40917e-15ed-49df-843a-16ba902a252c",
   "metadata": {},
   "outputs": [
    {
     "name": "stdout",
     "output_type": "stream",
     "text": [
      "0.005795381178154149\n"
     ]
    }
   ],
   "source": [
    "# perform the convolution operation between the gradient and the input to find the gradients for the filter and its biases.\n",
    "d_bias1 = np.sum(d_relued)\n",
    "print(d_bias1)"
   ]
  },
  {
   "cell_type": "code",
   "execution_count": 69,
   "id": "4c626c3c-ba03-4167-b316-b8dc4dbf947b",
   "metadata": {},
   "outputs": [],
   "source": [
    "# the gradient for the filter\n",
    "\n",
    "d_convs1 = np.zeros((2, 1, 3, 3))\n",
    "\n",
    "for i in range(2): #denotes the number of filters\n",
    "    for j in range(1): #denotes the depth of image that we're convolving over\n",
    "        for k in range(3): #the number of times the strides are taken along the vertical direction\n",
    "            for l in range(3): #the number of times the strides are taken along the horizontal direction\n",
    "                addition = 0 #the gradient to be added to the image\n",
    "                for m in range(30):\n",
    "                    for n in range(30):\n",
    "                        addition += the_image[j][m+k][n+l] * d_relued[i][m][n]\n",
    "                d_convs1[i][j][k][l] = addition"
   ]
  },
  {
   "cell_type": "code",
   "execution_count": 70,
   "id": "080a32d8-355b-4362-9dd9-e9431804f291",
   "metadata": {},
   "outputs": [
    {
     "name": "stdout",
     "output_type": "stream",
     "text": [
      "(2, 1, 3, 3)\n",
      "[[[[0.57076414 0.56420057 0.56080096]\n",
      "   [0.59279793 0.59991375 0.59433787]\n",
      "   [0.60084783 0.60492398 0.60144737]]]\n",
      "\n",
      "\n",
      " [[[0.56084364 0.55987887 0.55590777]\n",
      "   [0.56843528 0.582684   0.57999133]\n",
      "   [0.55358335 0.57419577 0.58214214]]]]\n"
     ]
    }
   ],
   "source": [
    "print(d_convs1.shape)\n",
    "print(d_convs1)"
   ]
  },
  {
   "cell_type": "code",
   "execution_count": null,
   "id": "582475cc-de2d-4bf2-98ca-2b10a2d6253c",
   "metadata": {},
   "outputs": [],
   "source": []
  },
  {
   "cell_type": "markdown",
   "id": "a9b51079-0a11-4320-8dc9-e0d6069a5ed4",
   "metadata": {},
   "source": [
    "# Voila! We have completed the backprop as well! Now the thing boils down to repetition and improvement. But yeah! We can be satisfied with how far we've come, how much we've learned and how tough & wonderful the experience was."
   ]
  },
  {
   "cell_type": "code",
   "execution_count": null,
   "id": "26d2090a-a6f0-4980-a4d2-967dc06741a4",
   "metadata": {},
   "outputs": [],
   "source": []
  }
 ],
 "metadata": {
  "kernelspec": {
   "display_name": "Python 3 (ipykernel)",
   "language": "python",
   "name": "python3"
  },
  "language_info": {
   "codemirror_mode": {
    "name": "ipython",
    "version": 3
   },
   "file_extension": ".py",
   "mimetype": "text/x-python",
   "name": "python",
   "nbconvert_exporter": "python",
   "pygments_lexer": "ipython3",
   "version": "3.12.3"
  }
 },
 "nbformat": 4,
 "nbformat_minor": 5
}

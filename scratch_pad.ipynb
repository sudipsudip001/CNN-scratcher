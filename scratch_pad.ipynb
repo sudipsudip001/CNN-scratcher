{
 "cells": [
  {
   "cell_type": "code",
   "execution_count": 1,
   "id": "74bbf2a1-8e82-4b15-95ff-3f9937603399",
   "metadata": {},
   "outputs": [],
   "source": [
    "import pickle\n",
    "import numpy as np\n",
    "import os\n",
    "\n",
    "import matplotlib.pyplot as plt"
   ]
  },
  {
   "cell_type": "code",
   "execution_count": 2,
   "id": "58a1e71a-04eb-4c48-b244-d8353a0aa3b6",
   "metadata": {},
   "outputs": [],
   "source": [
    "def unpickle(file):\n",
    "    with open(file, 'rb') as fo:\n",
    "        dict = pickle.load(fo, encoding='bytes')\n",
    "    return dict"
   ]
  },
  {
   "cell_type": "code",
   "execution_count": 3,
   "id": "990d80a7-0959-4d69-a8cc-379711033ce8",
   "metadata": {},
   "outputs": [],
   "source": [
    "images = []\n",
    "labels = []"
   ]
  },
  {
   "cell_type": "code",
   "execution_count": 4,
   "id": "178f113a-52cf-42cf-8ded-567020926e07",
   "metadata": {},
   "outputs": [],
   "source": [
    "data_path = \".\\\\dataset\\\\cifar-10-batches-py\\\\\""
   ]
  },
  {
   "cell_type": "code",
   "execution_count": 5,
   "id": "ddd7e581-7d6c-400c-99d2-94cc18e05da4",
   "metadata": {},
   "outputs": [],
   "source": [
    "for i in range(1, 6):\n",
    "    batch = unpickle(os.path.join(data_path, f\"data_batch_{i}\"))\n",
    "    images.append(batch[b'data'])\n",
    "    labels.append(batch[b'labels'])"
   ]
  },
  {
   "cell_type": "code",
   "execution_count": 6,
   "id": "9cd99244-e6b8-487a-8c32-ffb152034c76",
   "metadata": {},
   "outputs": [
    {
     "name": "stdout",
     "output_type": "stream",
     "text": [
      "(50000, 32, 32, 3)\n",
      "10000\n"
     ]
    }
   ],
   "source": [
    "train_images = np.vstack(images).reshape(-1, 3, 32, 32).transpose(0, 2, 3, 1)\n",
    "print(train_images.shape)\n",
    "print(len(labels[1]))"
   ]
  },
  {
   "cell_type": "code",
   "execution_count": null,
   "id": "1a27b264-6966-4c52-9182-6595832dc20f",
   "metadata": {},
   "outputs": [],
   "source": []
  },
  {
   "cell_type": "code",
   "execution_count": 7,
   "id": "5085b42e-58dc-4ed4-a3a2-c693a37b094d",
   "metadata": {},
   "outputs": [
    {
     "name": "stdout",
     "output_type": "stream",
     "text": [
      "(50000, 1)\n"
     ]
    }
   ],
   "source": [
    "the_label = np.hstack(labels).reshape(50000, 1)\n",
    "print(the_label.shape)"
   ]
  },
  {
   "cell_type": "code",
   "execution_count": null,
   "id": "613d803e-5621-492b-b925-9c4c3d2863ed",
   "metadata": {},
   "outputs": [],
   "source": []
  },
  {
   "cell_type": "code",
   "execution_count": null,
   "id": "d3f10357-8890-468c-91a5-6956c7d8330e",
   "metadata": {},
   "outputs": [],
   "source": []
  },
  {
   "cell_type": "code",
   "execution_count": 8,
   "id": "1f0e25cb-1892-4938-9671-7ab9bb71efd9",
   "metadata": {},
   "outputs": [],
   "source": [
    "test_batch = unpickle(os.path.join(data_path, f\"test_batch\"))\n",
    "test_image = test_batch[b'data']\n",
    "test_label = test_batch[b'labels']\n",
    "test = test_image.reshape(-1, 3, 32, 32).transpose(0, 2, 3, 1)"
   ]
  },
  {
   "cell_type": "code",
   "execution_count": 9,
   "id": "72b1ba7e-3627-430e-9d99-7f8f9c59c2e8",
   "metadata": {},
   "outputs": [
    {
     "name": "stdout",
     "output_type": "stream",
     "text": [
      "10000\n"
     ]
    }
   ],
   "source": [
    "test.shape\n",
    "print(len(test_label))"
   ]
  },
  {
   "cell_type": "code",
   "execution_count": null,
   "id": "061443e6-6da9-4734-855f-4b1879dda096",
   "metadata": {},
   "outputs": [],
   "source": []
  },
  {
   "cell_type": "code",
   "execution_count": null,
   "id": "05b836a2-dc7c-4330-9d6b-adc5e4667164",
   "metadata": {},
   "outputs": [],
   "source": []
  },
  {
   "cell_type": "code",
   "execution_count": null,
   "id": "5b75553b-a018-459f-859f-7ca6041078c2",
   "metadata": {},
   "outputs": [],
   "source": []
  },
  {
   "cell_type": "code",
   "execution_count": 10,
   "id": "771eee6f-6a4a-4573-953e-6062d623bc4e",
   "metadata": {},
   "outputs": [
    {
     "data": {
      "text/plain": [
       "(32, 32)"
      ]
     },
     "execution_count": 10,
     "metadata": {},
     "output_type": "execute_result"
    }
   ],
   "source": [
    "the_image = train_images[64]\n",
    "the_image = the_image[:, :, 0]\n",
    "the_image.shape"
   ]
  },
  {
   "cell_type": "code",
   "execution_count": null,
   "id": "00ec6bcd-dc95-4e04-8f44-a9062b12d1c5",
   "metadata": {},
   "outputs": [],
   "source": []
  },
  {
   "cell_type": "code",
   "execution_count": 11,
   "id": "d787b3d6-a558-465d-852f-17aa8800c8b1",
   "metadata": {},
   "outputs": [
    {
     "data": {
      "image/png": "[encoded data removed]",
      "text/plain": [
       "<Figure size 640x480 with 1 Axes>"
      ]
     },
     "metadata": {},
     "output_type": "display_data"
    }
   ],
   "source": [
    "plt.imshow(the_image)\n",
    "plt.show()"
   ]
  },
  {
   "cell_type": "code",
   "execution_count": 12,
   "id": "b35df205-2403-48c9-bfe0-b3f5abc644b2",
   "metadata": {},
   "outputs": [],
   "source": [
    "# convs1 = np.random.randint(2, size=(2, 1, 3, 3))\n",
    "# convs2 = np.random.randint(2, size=(4, 2, 3, 3))\n",
    "# bias1 = np.zeros(2)\n",
    "# bias2 = np.zeros(4)\n",
    "# print(convs1)\n",
    "# print()\n",
    "# print(convs2)"
   ]
  },
  {
   "cell_type": "code",
   "execution_count": 13,
   "id": "eeccc21b-0be3-4b2d-bdff-0fd71acc7142",
   "metadata": {},
   "outputs": [
    {
     "name": "stdout",
     "output_type": "stream",
     "text": [
      "(2, 1, 3, 3)\n",
      "(4, 2, 3, 3)\n"
     ]
    }
   ],
   "source": [
    "convs1 = np.array(\n",
    "    [\n",
    "        [\n",
    "            [[1, 1, 0],\n",
    "             [0, 0, 0],\n",
    "             [0, 1, 1]]\n",
    "        ],\n",
    "        [\n",
    "            [[1, 1, 0],\n",
    "             [1, 0, 0],\n",
    "             [1, 1, 0]]\n",
    "        ]\n",
    "    ],\n",
    ")\n",
    "convs2 = np.array(\n",
    "    [\n",
    "        [\n",
    "            [[1, 0, 0],\n",
    "             [0, 1, 0],\n",
    "             [1, 0, 1]],\n",
    "\n",
    "            [[1, 1, 0],\n",
    "             [1, 1, 1],\n",
    "             [1, 1, 0]],\n",
    "        ],\n",
    "        [\n",
    "            [[1, 0, 1],\n",
    "             [0, 0, 1],\n",
    "             [0, 1, 0]],\n",
    "            [[1, 1, 1],\n",
    "             [0, 0, 0],\n",
    "             [0, 1, 1]]\n",
    "        ],\n",
    "        [\n",
    "            [[1, 0, 1],\n",
    "             [0, 0, 1],\n",
    "             [1, 1, 1]],\n",
    "            [[0, 0, 0],\n",
    "             [0, 0, 0],\n",
    "             [0, 0, 0]]\n",
    "        ],\n",
    "        [\n",
    "            [[1, 1, 0],\n",
    "             [0, 0, 0],\n",
    "             [1, 0, 1]],\n",
    "            [[1, 1, 0],\n",
    "             [0, 1, 1],\n",
    "             [0, 1, 1]]\n",
    "        ]\n",
    "    ]\n",
    ")\n",
    "\n",
    "print(convs1.shape)\n",
    "print(convs2.shape)"
   ]
  },
  {
   "cell_type": "code",
   "execution_count": 14,
   "id": "025cd148-aeae-47ff-bb3a-d511ba2ddd78",
   "metadata": {},
   "outputs": [
    {
     "name": "stdout",
     "output_type": "stream",
     "text": [
      "(2,)\n",
      "(4,)\n"
     ]
    }
   ],
   "source": [
    "bias1 = np.array([0., 0.])\n",
    "bias2 = np.array([0., 0., 0., 0.])\n",
    "\n",
    "print(bias1.shape)\n",
    "print(bias2.shape)"
   ]
  },
  {
   "cell_type": "markdown",
   "id": "a461bea2-55e1-47d8-a2bc-c8c0e1c9a716",
   "metadata": {},
   "source": [
    "### The shapes are of shape (2, 1, 3, 3) indicating two filters of shape (1, 3, 3) and (4, 2, 3, 3) indicating four filters of shape (2, 3, 3). The 1 in front of the three dimensions represent the depth of the filters used."
   ]
  },
  {
   "cell_type": "code",
   "execution_count": 15,
   "id": "a6ddd981-889f-45cf-8403-9b04cb19cdc2",
   "metadata": {},
   "outputs": [
    {
     "name": "stdout",
     "output_type": "stream",
     "text": [
      "110\n",
      "000\n",
      "011\n",
      "\n",
      "110\n",
      "100\n",
      "110\n",
      "\n"
     ]
    }
   ],
   "source": [
    "for i in range(2):\n",
    "    for j in range(1):\n",
    "        for k in range(3):\n",
    "            for l in range(3):\n",
    "                print(convs1[i][j][k][l], end='')\n",
    "            print('')\n",
    "        print('')"
   ]
  },
  {
   "cell_type": "code",
   "execution_count": null,
   "id": "1c8bd48f-7935-4531-86ab-77febb737a8a",
   "metadata": {},
   "outputs": [],
   "source": []
  },
  {
   "cell_type": "code",
   "execution_count": 16,
   "id": "6dd942d0-f061-4cef-992c-4662521912e8",
   "metadata": {},
   "outputs": [
    {
     "name": "stdout",
     "output_type": "stream",
     "text": [
      "[[ 65  67  69 ...  93 108 102]\n",
      " [ 65  65  69 ... 104 122 132]\n",
      " [ 62  63  68 ... 122 146 140]\n",
      " ...\n",
      " [ 88  90  95 ...  83  89  92]\n",
      " [ 90  94  98 ...  75  78  85]\n",
      " [ 95 102 104 ...  74  79  84]]\n"
     ]
    }
   ],
   "source": [
    "print(the_image)"
   ]
  },
  {
   "cell_type": "code",
   "execution_count": 17,
   "id": "86ce7f81-6dd2-4058-9e7e-3027b28be036",
   "metadata": {},
   "outputs": [
    {
     "name": "stdout",
     "output_type": "stream",
     "text": [
      "69\n"
     ]
    }
   ],
   "source": [
    "print(the_image[1][2])"
   ]
  },
  {
   "cell_type": "code",
   "execution_count": 18,
   "id": "ca596554-f58c-48a5-9d20-53bed0f558ea",
   "metadata": {},
   "outputs": [
    {
     "data": {
      "text/plain": [
       "np.uint8(71)"
      ]
     },
     "execution_count": 18,
     "metadata": {},
     "output_type": "execute_result"
    }
   ],
   "source": [
    "the_image[0][5]"
   ]
  },
  {
   "cell_type": "code",
   "execution_count": null,
   "id": "7c6a4263-5a25-46f7-be77-4826bd7a0b50",
   "metadata": {},
   "outputs": [],
   "source": []
  },
  {
   "cell_type": "code",
   "execution_count": 19,
   "id": "f5ff61e3-e494-416b-a655-e759f0f88823",
   "metadata": {},
   "outputs": [
    {
     "name": "stdout",
     "output_type": "stream",
     "text": [
      "(1, 32, 32)\n"
     ]
    }
   ],
   "source": [
    "the_image = the_image.reshape(1, 32, 32)\n",
    "print(the_image.shape)"
   ]
  },
  {
   "cell_type": "code",
   "execution_count": null,
   "id": "b02d8a7a-cd8f-43b1-b339-d9375555487c",
   "metadata": {},
   "outputs": [],
   "source": []
  },
  {
   "cell_type": "code",
   "execution_count": 20,
   "id": "4b428538-04aa-4ee0-ab01-c14b4132d0b0",
   "metadata": {},
   "outputs": [
    {
     "name": "stdout",
     "output_type": "stream",
     "text": [
      "[[[263. 270. 275. ... 456. 466. 487.]\n",
      "  [256. 263. 326. ... 491. 502. 500.]\n",
      "  [245. 278. 400. ... 513. 528. 549.]\n",
      "  ...\n",
      "  [359. 372. 376. ... 321. 354. 354.]\n",
      "  [367. 380. 384. ... 307. 327. 340.]\n",
      "  [384. 392. 396. ... 299. 316. 335.]]\n",
      "\n",
      " [[322. 332. 341. ... 553. 551. 573.]\n",
      "  [314. 323. 335. ... 585. 607. 634.]\n",
      "  [301. 312. 346. ... 619. 655. 695.]\n",
      "  ...\n",
      "  [439. 452. 468. ... 389. 431. 433.]\n",
      "  [447. 464. 481. ... 371. 397. 413.]\n",
      "  [465. 485. 498. ... 363. 377. 400.]]]\n",
      "(2, 30, 30)\n"
     ]
    }
   ],
   "source": [
    "feature_map = np.zeros((2, 30, 30))\n",
    "# the shape is 30,30 because the new feature map's shape will be 30,30\n",
    "\n",
    "#for layer 1\n",
    "for k in range(2):#means there are 2 Conv filters here\n",
    "    for l in range(1):#denotes the depth of the filter\n",
    "        for i in range(30):#along the x-axis\n",
    "            for j in range(30):#along the y-axis\n",
    "                feature_map[k][i][j] = (the_image[l][i][j]*convs1[k][l][0][0] + the_image[l][i][j+1]*convs1[k][l][0][1] + the_image[l][i][j+2]*convs1[k][l][0][2]) + (the_image[l][i+1][j]*convs1[k][l][1][0] + the_image[l][i+1][j+1]*convs1[k][l][1][1] + the_image[l][i+1][j+2]*convs1[k][l][1][2]) + (the_image[l][i+2][j]*convs1[k][l][2][0] + the_image[l][i+2][j+1]*convs1[k][l][2][1] + the_image[l][i+2][j+2]*convs1[k][l][2][2]) + bias1[k]\n",
    "                # print(f'(the_image[{l}][{i}][{j}]*convs1[{k}][{l}][0][0] + the_image[{l}][{i}][{j+1}]*convs1[{k}][{l}][0][1] + the_image[{l}][{i}][{j+2}]*convs1[{k}][{l}][0][2]) + (the_image[{l}][{i+1}][{j}]*convs1[{k}][{l}][1][0] + the_image[{l}][{i+1}][{j+1}]*convs1[{k}][{l}][1][1] + the_image[{l}][{i+1}][{j+2}]*convs1[{k}][{l}][1][2]) + (the_image[{l}][{i+2}][{j}]*convs1[{k}][{l}][2][0] + the_image[{l}][{i+2}][{j+1}]*convs1[{k}][{l}][2][1] + the_image[{l}][{i+2}][{j+2}]*convs1[{k}][{l}][2][2])')\n",
    "                # print(f\"({the_image[l][i][j]}*{convs1[k][l][0][0]} + {the_image[l][i][j+1]}*{convs1[k][l][0][1]} + {the_image[l][i][j+2]}*{convs1[k][l][0][2]}) + ({the_image[l][i+1][j]}*{convs1[k][l][1][0]} + {the_image[l][i+1][j+1]}*{convs1[k][l][1][1]} + {the_image[l][i+1][j+2]}*{convs1[k][l][1][2]}) + ({the_image[l][i+2][j]}*{convs1[k][l][2][0]} + {the_image[l][i+2][j+1]}*{convs1[k][l][2][1]} + {the_image[l][i+2][j+2]}*{convs1[k][l][2][2]})\")\n",
    "\n",
    "                \n",
    "print(feature_map)\n",
    "print(feature_map.shape)"
   ]
  },
  {
   "cell_type": "code",
   "execution_count": null,
   "id": "fed8aa75-b3fb-46c9-9de3-b8ce4e09c7af",
   "metadata": {},
   "outputs": [],
   "source": []
  },
  {
   "cell_type": "code",
   "execution_count": null,
   "id": "05a399aa-23f1-4b0a-9f85-18d0dce21790",
   "metadata": {},
   "outputs": [],
   "source": []
  },
  {
   "cell_type": "code",
   "execution_count": null,
   "id": "794ef6f6-c5ca-4f4b-bdcd-5c3ba825bf37",
   "metadata": {},
   "outputs": [],
   "source": []
  },
  {
   "cell_type": "code",
   "execution_count": 21,
   "id": "43729fc8-e263-41ba-96c8-670d61a2d634",
   "metadata": {},
   "outputs": [],
   "source": [
    "#think we should apply a reLu operation right about here...\n",
    "def relu(z):\n",
    "    return np.maximum(0, z)\n",
    "\n",
    "relued = relu(feature_map)"
   ]
  },
  {
   "cell_type": "code",
   "execution_count": 22,
   "id": "0ebdab9e-1af5-4702-88e6-b145a89c93a6",
   "metadata": {},
   "outputs": [
    {
     "name": "stdout",
     "output_type": "stream",
     "text": [
      "(2, 30, 30)\n"
     ]
    }
   ],
   "source": [
    "print(relued.shape)"
   ]
  },
  {
   "cell_type": "code",
   "execution_count": null,
   "id": "3356dd82-7096-42b4-afee-d6587da761bf",
   "metadata": {},
   "outputs": [],
   "source": []
  },
  {
   "cell_type": "code",
   "execution_count": null,
   "id": "0af89eb3-31db-4b71-9934-512261bef6bf",
   "metadata": {},
   "outputs": [],
   "source": []
  },
  {
   "cell_type": "code",
   "execution_count": null,
   "id": "969d0f37-6474-4f00-bc85-9207144d5ffc",
   "metadata": {},
   "outputs": [],
   "source": []
  },
  {
   "cell_type": "code",
   "execution_count": 23,
   "id": "ffabac84-d2f5-4bf6-a4ed-d31b59f1ad83",
   "metadata": {
    "scrolled": true
   },
   "outputs": [
    {
     "name": "stdout",
     "output_type": "stream",
     "text": [
      "[[[ 270.  458.  635.  691.  654.  596.  656.  692.  676.  637.  510.\n",
      "    364.  437.  491.  502.]\n",
      "  [ 278.  515.  754.  766.  621.  542.  545.  635.  614.  542.  496.\n",
      "    325.  435.  513.  559.]\n",
      "  [ 308.  450.  652.  739.  410.  307.  300.  336.  491.  471.  424.\n",
      "    417.  473.  576.  598.]\n",
      "  [ 452.  506.  420.  534.  346.  282.  308.  263.  364.  404.  465.\n",
      "    461.  528.  569.  577.]\n",
      "  [ 574.  736.  598.  729.  654.  566.  620.  640.  628.  653.  620.\n",
      "    547.  450.  545.  527.]\n",
      "  [ 623.  927.  888.  930.  913.  940.  958.  971.  962.  948.  939.\n",
      "    827.  701.  587.  534.]\n",
      "  [ 463.  908.  953.  961.  973.  954.  961.  964.  947.  951.  949.\n",
      "    911.  934.  940.  618.]\n",
      "  [ 483.  767.  914.  934.  969.  966.  937.  939.  936.  908.  879.\n",
      "    811.  852.  927.  819.]\n",
      "  [ 599.  430.  886.  884.  932.  884.  766.  878.  867.  806.  747.\n",
      "    697.  670.  755.  826.]\n",
      "  [ 456.  357.  536.  687.  902.  779.  683.  696.  757.  744.  686.\n",
      "    678.  665.  619.  773.]\n",
      "  [ 318.  287.  351.  371.  855.  774.  595.  642.  682.  657.  696.\n",
      "    651.  598.  506.  571.]\n",
      "  [ 319.  325.  295.  281.  720.  739.  547.  537.  622.  620.  629.\n",
      "    582.  548.  405.  446.]\n",
      "  [ 342.  343.  333.  286.  452.  649.  568.  500.  578.  584.  596.\n",
      "    492.  388.  417.  415.]\n",
      "  [ 372.  376.  344.  333.  245.  405.  424.  413.  402.  417.  403.\n",
      "    349.  264.  321.  354.]\n",
      "  [ 392.  396.  376.  351.  257.  217.  224.  260.  283.  268.  237.\n",
      "    237.  250.  307.  340.]]\n",
      "\n",
      " [[ 332.  394.  712.  844.  845.  811.  842.  882.  879.  821.  722.\n",
      "    420.  514.  585.  634.]\n",
      "  [ 312.  467.  862. 1022.  854.  732.  716.  749.  781.  712.  645.\n",
      "    396.  471.  626.  706.]\n",
      "  [ 372.  510.  691.  890.  592.  361.  399.  407.  537.  581.  543.\n",
      "    476.  557.  694.  756.]\n",
      "  [ 409.  591.  524.  736.  595.  348.  372.  322.  401.  503.  532.\n",
      "    528.  631.  713.  730.]\n",
      "  [ 456. 1006.  906.  908.  838.  672.  751.  792.  806.  833.  814.\n",
      "    754.  551.  648.  682.]\n",
      "  [ 504. 1143. 1095. 1161. 1166. 1168. 1187. 1205. 1199. 1191. 1184.\n",
      "   1068.  916.  829.  677.]\n",
      "  [ 380. 1073. 1183. 1184. 1208. 1198. 1207. 1207. 1197. 1190. 1190.\n",
      "   1156. 1120. 1140.  945.]\n",
      "  [ 555.  721. 1139. 1154. 1191. 1207. 1147. 1178. 1174. 1145. 1131.\n",
      "   1046. 1004. 1171. 1085.]\n",
      "  [ 809.  622.  965. 1114. 1165. 1160.  997. 1041. 1103. 1051.  962.\n",
      "    842.  824.  929.  936.]\n",
      "  [ 601.  502.  608.  799. 1121. 1116.  825.  833.  935.  902.  879.\n",
      "    825.  835.  790.  826.]\n",
      "  [ 386.  365.  390.  462.  990. 1082.  746.  765.  824.  842.  825.\n",
      "    806.  797.  680.  642.]\n",
      "  [ 395.  410.  379.  345.  753.  977.  722.  659.  776.  776.  826.\n",
      "    786.  645.  510.  518.]\n",
      "  [ 425.  432.  416.  386.  446.  758.  712.  592.  650.  689.  735.\n",
      "    652.  472.  430.  505.]\n",
      "  [ 452.  468.  449.  428.  345.  523.  579.  516.  547.  556.  484.\n",
      "    405.  303.  389.  433.]\n",
      "  [ 485.  498.  477.  449.  378.  266.  273.  300.  352.  347.  300.\n",
      "    293.  299.  371.  413.]]]\n",
      "(2, 15, 15)\n"
     ]
    }
   ],
   "source": [
    "#I JUST REALIZED WE'RE TOTALLY MISSING A MAX-POOLING LAYER OR TWO SO HAVE TO INCLUDE THAT AS WELL IN OUR NETWORK\n",
    "max_pool = np.ones((2, 15, 15))\n",
    "for k in range(2):\n",
    "    a = 0\n",
    "    for i in range(0, 30, 2):\n",
    "        b = 0\n",
    "        for j in range(0, 30, 2):\n",
    "            max_pool[k][a][b] = max(relued[k][i][j], relued[k][i][j+1], relued[k][i+1][j], relued[k][i+1][j+1])\n",
    "            b += 1\n",
    "        a += 1\n",
    "\n",
    "print(max_pool)\n",
    "print(max_pool.shape)"
   ]
  },
  {
   "cell_type": "code",
   "execution_count": null,
   "id": "0b9de182-aa47-4841-b198-9e5352ccf174",
   "metadata": {},
   "outputs": [],
   "source": []
  },
  {
   "cell_type": "code",
   "execution_count": null,
   "id": "d5f77569-50bf-41a6-89fc-bc93ef94a0bf",
   "metadata": {},
   "outputs": [],
   "source": []
  },
  {
   "cell_type": "code",
   "execution_count": null,
   "id": "3465058a-737c-4905-8b44-3b2716353fa6",
   "metadata": {},
   "outputs": [],
   "source": []
  },
  {
   "cell_type": "code",
   "execution_count": null,
   "id": "9bb45a5a-3d62-4efd-a0e9-cb99e3f1d143",
   "metadata": {},
   "outputs": [],
   "source": []
  },
  {
   "cell_type": "code",
   "execution_count": 24,
   "id": "7ac767f1-af33-4b02-8751-8c3036df78f1",
   "metadata": {
    "scrolled": true
   },
   "outputs": [],
   "source": [
    "# feature_map_ii = np.zeros((4, 12, 12))\n",
    "# # the shape is 12,12 because the new feature map's shape will be 12, 12\n",
    "\n",
    "# #for layer 2\n",
    "# for k in range(4):#means there are 4 Conv filters here\n",
    "#     #akshually the feature map has size 2, 12, 12 and there are 4 layers here i.e. 4 conv layers so we do the operation accordingly\n",
    "#     for l in range(2):\n",
    "#         for i in range(12):#along the x-axis\n",
    "#             for j in range(12):#along the y-axis\n",
    "#                 feature_map_ii[k][i][j] = the_image[i][j] * convs2[k][0][0] + the_image[i][j+1] * convs2[k][0][1] + the_image[i][j+2] * convs2[k][0][2]\\\n",
    "#                 + the_image[i+1][j] * convs2[k][1][0] + the_image[i+1][j+1] * convs2[k][1][1] + the_image[i+1][j+2] * convs2[k][1][2]\\\n",
    "#                 + the_image[i+2][j] * convs2[k][2][0] + the_image[i+2][j+1] * convs2[k][2][1] + the_image[i+2][j+2] * convs2[k][2][2]\n",
    "\n",
    "# print(feature_map_ii)\n",
    "# print(feature_map_ii.shape)"
   ]
  },
  {
   "cell_type": "code",
   "execution_count": 25,
   "id": "40a6267d-d73a-45f2-abd5-41ad20e6d347",
   "metadata": {
    "scrolled": true
   },
   "outputs": [
    {
     "name": "stdout",
     "output_type": "stream",
     "text": [
      "[[[ 4994.  7059.  8338.  8137.  6817.  6394.  6858.  7060.  7089.  6441.\n",
      "    5405.  5252.]\n",
      "  [ 4952.  6742.  7576.  7042.  5463.  4722.  5055.  5571.  5972.  5823.\n",
      "    5583.  5581.]\n",
      "  [ 5854.  7299.  7688.  7287.  5744.  5046.  5255.  5761.  6336.  6470.\n",
      "    6233.  6247.]\n",
      "  [ 7714.  9134.  9118.  9134.  8321.  8103.  8303.  8368.  8665.  8610.\n",
      "    8083.  7421.]\n",
      "  [ 8574. 11060. 11057. 11190. 10965. 10830. 11047. 11114. 11072. 10924.\n",
      "   10412.  9493.]\n",
      "  [ 8487. 11119. 11856. 12065. 12118. 12127. 12123. 12115. 12014. 11803.\n",
      "   11476. 10949.]\n",
      "  [ 8014.  9993. 11635. 11921. 11913. 11747. 11484. 11629. 11460. 11048.\n",
      "   10508. 10378.]\n",
      "  [ 6680.  8368. 10180. 11036. 11395. 10700. 10379. 10561. 10457.  9989.\n",
      "    9436.  9083.]\n",
      "  [ 5518.  5875.  8238.  9698. 10620.  9742.  8881.  9337.  9525.  9086.\n",
      "    8693.  8238.]\n",
      "  [ 4406.  4430.  5895.  8114.  9728.  8883.  7868.  8169.  8545.  8498.\n",
      "    8258.  7637.]\n",
      "  [ 4110.  3948.  4548.  6385.  8342.  8126.  7250.  7390.  7859.  7841.\n",
      "    7537.  6776.]\n",
      "  [ 4376.  4307.  4019.  4932.  6552.  6988.  6303.  6374.  6740.  6700.\n",
      "    6148.  5333.]]\n",
      "\n",
      " [[ 4748.  6098.  6532.  5692.  5420.  5564.  5829.  6062.  5699.  4732.\n",
      "    4488.  4611.]\n",
      "  [ 4946.  6051.  6388.  5512.  4770.  4712.  4882.  5158.  5111.  4562.\n",
      "    4536.  4779.]\n",
      "  [ 5601.  6226.  6056.  5335.  4359.  4236.  4736.  5003.  5341.  5137.\n",
      "    4853.  4938.]\n",
      "  [ 6159.  6764.  6532.  6308.  5884.  5577.  5770.  5898.  6208.  6166.\n",
      "    5945.  5893.]\n",
      "  [ 7592.  8535.  8170.  8032.  7852.  7767.  7927.  8006.  7971.  7723.\n",
      "    7077.  6826.]\n",
      "  [ 7833.  9424.  9475.  9686.  9673.  9697.  9749.  9720.  9608.  9185.\n",
      "    8603.  8194.]\n",
      "  [ 6983.  9208.  9633.  9728.  9525.  9273.  9477.  9438.  9171.  8760.\n",
      "    8564.  8617.]\n",
      "  [ 6165.  7542.  8906.  9475.  8937.  8656.  8703.  8744.  8537.  8128.\n",
      "    7920.  8004.]\n",
      "  [ 5459.  5905.  7787.  8913.  8305.  7762.  7762.  7971.  7740.  7363.\n",
      "    6964.  6741.]\n",
      "  [ 4168.  4343.  6200.  7726.  7680.  6819.  6687.  6941.  7077.  6920.\n",
      "    6501.  5956.]\n",
      "  [ 3296.  3291.  4886.  6074.  6934.  6418.  5976.  6267.  6506.  6346.\n",
      "    5886.  5135.]\n",
      "  [ 3424.  3247.  4050.  4857.  5794.  5653.  5380.  5457.  5682.  5374.\n",
      "    4879.  4301.]]\n",
      "\n",
      " [[ 3069.  3756.  3711.  3285.  2872.  2866.  3073.  3169.  3068.  2638.\n",
      "    2696.  2834.]\n",
      "  [ 3062.  3480.  3085.  2777.  2402.  2366.  2585.  2679.  2767.  2614.\n",
      "    2858.  2972.]\n",
      "  [ 3288.  3786.  3389.  3277.  2858.  2732.  3043.  3132.  3281.  3169.\n",
      "    3042.  3104.]\n",
      "  [ 3908.  4514.  4151.  4165.  4085.  4054.  4191.  4201.  4298.  4126.\n",
      "    3910.  3690.]\n",
      "  [ 4384.  5217.  5052.  5123.  5120.  5056.  5082.  5103.  5034.  4838.\n",
      "    4565.  4464.]\n",
      "  [ 4628.  5433.  5591.  5693.  5704.  5717.  5679.  5653.  5573.  5284.\n",
      "    5116.  4944.]\n",
      "  [ 4245.  5003.  5597.  5581.  5453.  5385.  5355.  5374.  5195.  4923.\n",
      "    4849.  4900.]\n",
      "  [ 3632.  4165.  4940.  5152.  5036.  4941.  4876.  4850.  4749.  4524.\n",
      "    4430.  4455.]\n",
      "  [ 2977.  3010.  4297.  4547.  4605.  4469.  4309.  4409.  4335.  4185.\n",
      "    4027.  3826.]\n",
      "  [ 2282.  2316.  3589.  3980.  4186.  3940.  3828.  3876.  4010.  3904.\n",
      "    3708.  3338.]\n",
      "  [ 1982.  1901.  2997.  3271.  3666.  3670.  3545.  3581.  3765.  3562.\n",
      "    3318.  2859.]\n",
      "  [ 2039.  1945.  2389.  2652.  2909.  3018.  2986.  2973.  3069.  2863.\n",
      "    2581.  2338.]]\n",
      "\n",
      " [[ 4944.  6853.  7302.  6619.  5824.  5819.  6337.  6547.  6409.  5638.\n",
      "    4813.  5076.]\n",
      "  [ 4760.  6479.  6983.  5975.  4883.  4580.  4984.  5468.  5637.  5339.\n",
      "    5047.  5252.]\n",
      "  [ 5839.  6842.  7301.  6379.  5087.  4810.  5011.  5607.  6010.  5847.\n",
      "    5394.  5558.]\n",
      "  [ 7619.  7968.  8088.  7925.  7220.  7156.  7187.  7298.  7595.  7499.\n",
      "    6915.  6506.]\n",
      "  [ 8682.  9738.  9786.  9784.  9424.  9333.  9519.  9558.  9571.  9380.\n",
      "    8878.  8158.]\n",
      "  [ 8710. 10414. 10694. 10874. 10852. 10897. 10950. 10890. 10771. 10504.\n",
      "   10075.  9685.]\n",
      "  [ 7756.  9803. 10723. 10817. 10542. 10445. 10468. 10472. 10188.  9764.\n",
      "    9339.  9501.]\n",
      "  [ 6215.  8071.  9778. 10276. 10016.  9428.  9553.  9658.  9400.  8993.\n",
      "    8544.  8388.]\n",
      "  [ 4994.  5820.  8427.  9549.  9360.  8392.  8316.  8691.  8653.  8209.\n",
      "    7805.  7292.]\n",
      "  [ 4074.  4185.  6195.  8331.  8712.  7571.  7230.  7596.  7858.  7656.\n",
      "    7279.  6622.]\n",
      "  [ 3668.  3548.  4289.  6547.  7890.  7031.  6571.  6888.  7205.  7095.\n",
      "    6517.  5818.]\n",
      "  [ 3930.  3797.  3494.  4909.  6430.  6202.  5596.  5866.  6063.  5893.\n",
      "    5322.  4825.]]]\n",
      "(4, 12, 12)\n"
     ]
    }
   ],
   "source": [
    "feature_map_ii = np.zeros((4, 12, 12))\n",
    "\n",
    "for k in range(4):#means there are 4 Conv filters here\n",
    "    for l in range(1):#denotes the depth of the filter but we'll simply put the variable as it is and perform two depth layer calculation at the same time\n",
    "        for i in range(12):#along the x-axis\n",
    "            for j in range(12):#along the y-axis\n",
    "                feature_map_ii[k][i][j] = (max_pool[l][i][j]*convs2[k][l][0][0] + max_pool[l][i][j+1]*convs2[k][l][0][1] + max_pool[l][i][j+2]*convs2[k][l][0][2] + max_pool[l][i+1][j]*convs2[k][l][1][0] + max_pool[l][i+1][j+1]*convs2[k][l][1][1] + max_pool[l][i+1][j+2]*convs2[k][l][1][2] + max_pool[l][i+2][j]*convs2[k][l][2][0] + max_pool[l][i+2][j+1]*convs2[k][l][2][1] + max_pool[l][i+2][j+2]*convs2[k][l][2][2]) + (max_pool[l+1][i][j]*convs2[k][l+1][0][0] + max_pool[l+1][i][j+1]*convs2[k][l+1][0][1] +  max_pool[l+1][i][j+2]*convs2[k][l+1][0][2] + max_pool[l+1][i+1][j]*convs2[k][l+1][1][0] + max_pool[l+1][i+1][j+1]*convs2[k][l+1][1][1] + max_pool[l+1][i+1][j+2]*convs2[k][l+1][1][2] + max_pool[l+1][i+2][j]*convs2[k][l+1][2][0] + max_pool[l+1][i+2][j+1]*convs2[k][l+1][2][1] + max_pool[l+1][i+2][j+2]*convs2[k][l+1][2][2]) + bias2[k]\n",
    "\n",
    "print(feature_map_ii)\n",
    "print(feature_map_ii.shape)"
   ]
  },
  {
   "cell_type": "code",
   "execution_count": null,
   "id": "47c3a1b6-fdf9-44d5-b012-7c01c972e04f",
   "metadata": {},
   "outputs": [],
   "source": []
  },
  {
   "cell_type": "code",
   "execution_count": null,
   "id": "e0c59117-2ed2-44f2-9f5a-e1bca72b8869",
   "metadata": {},
   "outputs": [],
   "source": []
  },
  {
   "cell_type": "code",
   "execution_count": 26,
   "id": "4a6a956d-d473-454a-b9f8-6df878a7aa3e",
   "metadata": {},
   "outputs": [],
   "source": [
    "def relu_again(z):\n",
    "    return np.maximum(0, z)\n",
    "\n",
    "relued_again = relu(feature_map_ii)"
   ]
  },
  {
   "cell_type": "code",
   "execution_count": 27,
   "id": "9bf4cdcb-f710-411f-8cda-a29b43b6cdb4",
   "metadata": {},
   "outputs": [
    {
     "name": "stdout",
     "output_type": "stream",
     "text": [
      "(4, 12, 12)\n"
     ]
    }
   ],
   "source": [
    "print(relued_again.shape)"
   ]
  },
  {
   "cell_type": "code",
   "execution_count": null,
   "id": "3fadaf31-e17a-44b6-b562-baeb65753982",
   "metadata": {},
   "outputs": [],
   "source": []
  },
  {
   "cell_type": "code",
   "execution_count": null,
   "id": "66f5850d-d838-4bb7-ba23-0f8ad08b0ee3",
   "metadata": {},
   "outputs": [],
   "source": []
  },
  {
   "cell_type": "code",
   "execution_count": null,
   "id": "e1c67afb-1c4f-472f-bba7-db034dd50340",
   "metadata": {},
   "outputs": [],
   "source": []
  },
  {
   "cell_type": "code",
   "execution_count": 28,
   "id": "7952b61f-8b68-4f47-a850-416786aced70",
   "metadata": {},
   "outputs": [
    {
     "name": "stdout",
     "output_type": "stream",
     "text": [
      "[[[ 7059.  8338.  6817.  7060.  7089.  5583.]\n",
      "  [ 9134.  9134.  8321.  8368.  8665.  8083.]\n",
      "  [11119. 12065. 12127. 12123. 12014. 11476.]\n",
      "  [ 9993. 11921. 11913. 11629. 11460. 10508.]\n",
      "  [ 5875.  9698. 10620.  9337.  9525.  8693.]\n",
      "  [ 4376.  6385.  8342.  7390.  7859.  7537.]]\n",
      "\n",
      " [[ 6098.  6532.  5564.  6062.  5699.  4779.]\n",
      "  [ 6764.  6532.  5884.  5898.  6208.  5945.]\n",
      "  [ 9424.  9686.  9697.  9749.  9608.  8603.]\n",
      "  [ 9208.  9728.  9525.  9477.  9171.  8617.]\n",
      "  [ 5905.  8913.  8305.  7971.  7740.  6964.]\n",
      "  [ 3424.  6074.  6934.  6267.  6506.  5886.]]\n",
      "\n",
      " [[ 3756.  3711.  2872.  3169.  3068.  2972.]\n",
      "  [ 4514.  4165.  4085.  4201.  4298.  3910.]\n",
      "  [ 5433.  5693.  5717.  5679.  5573.  5116.]\n",
      "  [ 5003.  5597.  5453.  5374.  5195.  4900.]\n",
      "  [ 3010.  4547.  4605.  4409.  4335.  4027.]\n",
      "  [ 2039.  3271.  3670.  3581.  3765.  3318.]]\n",
      "\n",
      " [[ 6853.  7302.  5824.  6547.  6409.  5252.]\n",
      "  [ 7968.  8088.  7220.  7298.  7595.  6915.]\n",
      "  [10414. 10874. 10897. 10950. 10771. 10075.]\n",
      "  [ 9803. 10817. 10542. 10472. 10188.  9501.]\n",
      "  [ 5820.  9549.  9360.  8691.  8653.  7805.]\n",
      "  [ 3930.  6547.  7890.  6888.  7205.  6517.]]]\n",
      "(4, 6, 6)\n"
     ]
    }
   ],
   "source": [
    "max_pool_ii = np.ones((4, 6, 6))\n",
    "for k in range(4):\n",
    "    a = 0\n",
    "    for i in range(0, 12, 2):\n",
    "        b = 0\n",
    "        for j in range(0, 12, 2):\n",
    "            max_pool_ii[k][a][b] = max(relued_again[k][i][j], relued_again[k][i][j+1], relued_again[k][i+1][j], relued_again[k][i+1][j+1])\n",
    "            b += 1\n",
    "        a += 1\n",
    "\n",
    "print(max_pool_ii)\n",
    "print(max_pool_ii.shape)"
   ]
  },
  {
   "cell_type": "code",
   "execution_count": null,
   "id": "7daa592d-c7f5-4055-8512-c09ebe68dbbf",
   "metadata": {},
   "outputs": [],
   "source": []
  },
  {
   "cell_type": "code",
   "execution_count": null,
   "id": "418eb437-14bd-4a4d-b4cf-35838a771cb1",
   "metadata": {},
   "outputs": [],
   "source": []
  },
  {
   "cell_type": "code",
   "execution_count": null,
   "id": "377af426-339d-4e75-9df6-26348cb0f15a",
   "metadata": {},
   "outputs": [],
   "source": []
  },
  {
   "cell_type": "code",
   "execution_count": null,
   "id": "5fb35699-2ff7-4f1f-85cb-1ffab35a2a0b",
   "metadata": {},
   "outputs": [],
   "source": []
  },
  {
   "cell_type": "code",
   "execution_count": null,
   "id": "6bb241a9-5960-47a0-ad16-64e7a4fcb46f",
   "metadata": {},
   "outputs": [],
   "source": []
  },
  {
   "cell_type": "code",
   "execution_count": null,
   "id": "efd88a44-283a-447b-8b27-f564c4a2e7a3",
   "metadata": {},
   "outputs": [],
   "source": []
  },
  {
   "cell_type": "code",
   "execution_count": null,
   "id": "bd495d93-2561-4038-b67f-0c09b98df66b",
   "metadata": {},
   "outputs": [],
   "source": []
  },
  {
   "cell_type": "code",
   "execution_count": 29,
   "id": "c7017b79-a0f1-4ce4-b830-a66b976ef6e0",
   "metadata": {},
   "outputs": [
    {
     "name": "stdout",
     "output_type": "stream",
     "text": [
      "(144,)\n"
     ]
    }
   ],
   "source": [
    "#now we flatten the layers\n",
    "\n",
    "flattened = max_pool_ii.flatten()\n",
    "print(flattened.shape)"
   ]
  },
  {
   "cell_type": "code",
   "execution_count": 30,
   "id": "74bf4840-e8c0-45b1-9624-d192f22cb1b1",
   "metadata": {},
   "outputs": [
    {
     "name": "stdout",
     "output_type": "stream",
     "text": [
      "(144, 1)\n"
     ]
    }
   ],
   "source": [
    "flattened = flattened.reshape(144, 1)\n",
    "print(flattened.shape)"
   ]
  },
  {
   "cell_type": "code",
   "execution_count": null,
   "id": "20a5943c-e265-4742-9d40-63116da653b1",
   "metadata": {},
   "outputs": [],
   "source": []
  },
  {
   "cell_type": "code",
   "execution_count": null,
   "id": "3c1773af-a43e-40ea-baf1-7f1e6be5fff5",
   "metadata": {},
   "outputs": [],
   "source": []
  },
  {
   "cell_type": "code",
   "execution_count": null,
   "id": "26f5ba48-8c0e-40e2-a5f5-99bc5c916489",
   "metadata": {},
   "outputs": [],
   "source": []
  },
  {
   "cell_type": "code",
   "execution_count": 31,
   "id": "a95bf51f-a263-426c-95aa-bbfb1bc67861",
   "metadata": {},
   "outputs": [
    {
     "name": "stdout",
     "output_type": "stream",
     "text": [
      "[4]\n"
     ]
    }
   ],
   "source": [
    "#here's the vanilla neural network part of the CNN\n",
    "\n",
    "w1 = np.random.rand(50, 144)-1 #decreased 1 since the softmax value was causing errors\n",
    "b1 = np.random.rand(50, 1)-1\n",
    "w2 = np.random.rand(50, 10)-1\n",
    "b2 = np.random.rand(10, 1)-1\n",
    "\n",
    "def relu(z):\n",
    "    return np.maximum(0, z)\n",
    "\n",
    "def softmax(z):\n",
    "    probs = np.exp(z) / sum(np.exp(z))\n",
    "    return probs\n",
    "\n",
    "def forward(w1, b1, w2, b2, data):\n",
    "    z1 = np.dot(w1, data) + b1\n",
    "    a1 = relu(z1)\n",
    "    z2 = np.dot(w2.T, a1) + b2\n",
    "    a2 = softmax(z2)\n",
    "    return a2, z1, a1, z2\n",
    "\n",
    "the_val, z1, a1, z2 = forward(w1, b1, w2, b2, flattened)\n",
    "\n",
    "print(np.argmax(the_val, 0))"
   ]
  },
  {
   "cell_type": "code",
   "execution_count": 32,
   "id": "4f8c0a95-e453-4490-8362-83ed2669de70",
   "metadata": {},
   "outputs": [
    {
     "name": "stdout",
     "output_type": "stream",
     "text": [
      "<class 'numpy.ndarray'>\n",
      "[4]\n",
      "4\n",
      "<class 'numpy.int64'>\n"
     ]
    }
   ],
   "source": [
    "prediction_num = np.argmax(the_val, 0)\n",
    "print(type(prediction_num))\n",
    "print(prediction_num)\n",
    "a = prediction_num[0]\n",
    "print(a)\n",
    "print(type(a))"
   ]
  },
  {
   "cell_type": "code",
   "execution_count": 33,
   "id": "b33b4878-c034-4c1a-a9f6-1ab1cc47615f",
   "metadata": {},
   "outputs": [
    {
     "name": "stdout",
     "output_type": "stream",
     "text": [
      "deer\n"
     ]
    }
   ],
   "source": [
    "def the_value(label):\n",
    "    labels = ['airplane', 'automobile', 'bird', 'cat', 'deer', 'dog', 'frog', 'horse', 'ship', 'truck']\n",
    "    return labels[label]\n",
    "\n",
    "predicted_num = np.argmax(the_val, 0)\n",
    "predicted_int = predicted_num[0]\n",
    "prediction = the_value(predicted_int)\n",
    "print(prediction)"
   ]
  },
  {
   "cell_type": "markdown",
   "id": "37c04e60-fda0-48ea-8a17-4404cab0de4a",
   "metadata": {},
   "source": [
    "### We've successfully implemented the forward propagation part of the CNN. Now it's time for backward prop."
   ]
  },
  {
   "cell_type": "code",
   "execution_count": null,
   "id": "05ba1cf4-98fa-4628-befb-114618385cac",
   "metadata": {},
   "outputs": [],
   "source": []
  },
  {
   "cell_type": "code",
   "execution_count": null,
   "id": "6863bde4-52f7-454d-a45e-746582548f52",
   "metadata": {},
   "outputs": [],
   "source": []
  },
  {
   "cell_type": "code",
   "execution_count": null,
   "id": "bad10f2c-9130-424e-b40f-4abf181c1397",
   "metadata": {},
   "outputs": [],
   "source": []
  },
  {
   "cell_type": "code",
   "execution_count": null,
   "id": "d60bf25e-14ad-49a1-8dac-5b3d6f1ae278",
   "metadata": {},
   "outputs": [],
   "source": []
  },
  {
   "cell_type": "code",
   "execution_count": null,
   "id": "dc256b5b-fad8-4da4-a3ee-6776eef4477a",
   "metadata": {},
   "outputs": [],
   "source": []
  },
  {
   "cell_type": "markdown",
   "id": "468b6f24-628b-4bfe-85a7-110340362080",
   "metadata": {},
   "source": [
    "# Now we propagate backwards"
   ]
  },
  {
   "cell_type": "code",
   "execution_count": null,
   "id": "c801078b-cfd0-4a5b-bf87-e56d2d3fe8a7",
   "metadata": {},
   "outputs": [],
   "source": []
  },
  {
   "cell_type": "code",
   "execution_count": null,
   "id": "570a5f35-490f-46c2-9822-9c64199cc9ea",
   "metadata": {},
   "outputs": [],
   "source": []
  },
  {
   "cell_type": "markdown",
   "id": "f0653cb0-2c0f-4b04-bbdb-134905a3de2f",
   "metadata": {},
   "source": [
    "### One Hot Encoding"
   ]
  },
  {
   "cell_type": "code",
   "execution_count": 34,
   "id": "7342c71d-af56-4845-884b-8b2dfd57160d",
   "metadata": {},
   "outputs": [],
   "source": [
    "#we should perhaps preform One hot encoding to transform our label classes into the form that is usable in training process\n",
    "\n",
    "total_classes = 10\n",
    "\n",
    "hot_encoded_arr = np.zeros((total_classes, 1))\n",
    "hot_encoded_arr[the_label[64][0]] = 1  # put the corresponding value in the hot_encoded_arr as 1"
   ]
  },
  {
   "cell_type": "code",
   "execution_count": 35,
   "id": "1ef33bba-b296-4d6a-ae66-89793ebc2c33",
   "metadata": {},
   "outputs": [
    {
     "name": "stdout",
     "output_type": "stream",
     "text": [
      "[[0.]\n",
      " [1.]\n",
      " [0.]\n",
      " [0.]\n",
      " [0.]\n",
      " [0.]\n",
      " [0.]\n",
      " [0.]\n",
      " [0.]\n",
      " [0.]]\n"
     ]
    }
   ],
   "source": [
    "print(hot_encoded_arr)"
   ]
  },
  {
   "cell_type": "code",
   "execution_count": null,
   "id": "97157ae6-b9fb-41ec-9e8b-cb62dc4f1e2e",
   "metadata": {},
   "outputs": [],
   "source": []
  },
  {
   "cell_type": "code",
   "execution_count": null,
   "id": "808273b7-38f0-4b49-af68-c48060dc2008",
   "metadata": {},
   "outputs": [],
   "source": []
  },
  {
   "cell_type": "code",
   "execution_count": null,
   "id": "8ba2b4e0-6d81-44d2-ade9-e02acadd30eb",
   "metadata": {},
   "outputs": [],
   "source": []
  },
  {
   "cell_type": "markdown",
   "id": "116ac795-1a34-4d1d-a4f8-27c366ba9490",
   "metadata": {},
   "source": [
    "### Backwards propagation in the Neural network part of the CNN."
   ]
  },
  {
   "cell_type": "code",
   "execution_count": 36,
   "id": "e1debebc-0914-4478-a7bb-dee8742ceeb0",
   "metadata": {},
   "outputs": [
    {
     "name": "stdout",
     "output_type": "stream",
     "text": [
      "[[-0.07824379]\n",
      " [ 0.89533523]\n",
      " [-0.09819011]\n",
      " [-0.0758603 ]\n",
      " [-0.14166216]\n",
      " [-0.11816574]\n",
      " [-0.08358583]\n",
      " [-0.09844508]\n",
      " [-0.13661849]\n",
      " [-0.06456372]]\n",
      "(10, 1)\n"
     ]
    }
   ],
   "source": [
    "#we will be skipping the gradient calculation for softmax function as it won't affect the learning that much, or so as I heard\n",
    "dz2 = hot_encoded_arr - the_val\n",
    "print(dz2)\n",
    "print(dz2.shape)"
   ]
  },
  {
   "cell_type": "code",
   "execution_count": 37,
   "id": "31018fe7-60e0-457f-a30a-b7c2f215840a",
   "metadata": {},
   "outputs": [],
   "source": [
    "num_data = 10"
   ]
  },
  {
   "cell_type": "code",
   "execution_count": 38,
   "id": "8fb5019d-b40c-4589-8d11-f1aea21b6f88",
   "metadata": {},
   "outputs": [],
   "source": [
    "dw2 = 1/num_data * dz2.dot(a1.T)\n",
    "db2 = 1/num_data * np.sum(dz2)"
   ]
  },
  {
   "cell_type": "code",
   "execution_count": null,
   "id": "aa2c06e1-4f3d-45f1-ad0b-70ccc8882950",
   "metadata": {},
   "outputs": [],
   "source": []
  },
  {
   "cell_type": "code",
   "execution_count": 39,
   "id": "5b6326b9-e14e-4d88-ad79-1281c9efc724",
   "metadata": {},
   "outputs": [],
   "source": [
    "def diff_relu(z):\n",
    "    return z > 0"
   ]
  },
  {
   "cell_type": "code",
   "execution_count": 40,
   "id": "9a155ce6-ce67-4c1b-870a-4b71bfd39bfb",
   "metadata": {
    "scrolled": true
   },
   "outputs": [
    {
     "name": "stdout",
     "output_type": "stream",
     "text": [
      "[[ 0.]\n",
      " [-0.]\n",
      " [-0.]\n",
      " [ 0.]\n",
      " [ 0.]\n",
      " [ 0.]\n",
      " [ 0.]\n",
      " [ 0.]\n",
      " [ 0.]\n",
      " [ 0.]\n",
      " [-0.]\n",
      " [-0.]\n",
      " [ 0.]\n",
      " [ 0.]\n",
      " [ 0.]\n",
      " [-0.]\n",
      " [ 0.]\n",
      " [-0.]\n",
      " [ 0.]\n",
      " [ 0.]\n",
      " [-0.]\n",
      " [ 0.]\n",
      " [ 0.]\n",
      " [ 0.]\n",
      " [ 0.]\n",
      " [ 0.]\n",
      " [ 0.]\n",
      " [-0.]\n",
      " [-0.]\n",
      " [-0.]\n",
      " [-0.]\n",
      " [-0.]\n",
      " [-0.]\n",
      " [-0.]\n",
      " [-0.]\n",
      " [-0.]\n",
      " [-0.]\n",
      " [-0.]\n",
      " [-0.]\n",
      " [-0.]\n",
      " [-0.]\n",
      " [-0.]\n",
      " [-0.]\n",
      " [ 0.]\n",
      " [ 0.]\n",
      " [ 0.]\n",
      " [-0.]\n",
      " [-0.]\n",
      " [ 0.]\n",
      " [ 0.]]\n",
      "(50, 1)\n"
     ]
    }
   ],
   "source": [
    "dz1 = w2.dot(dz2)*diff_relu(z1)\n",
    "print(dz1)\n",
    "print(dz1.shape)"
   ]
  },
  {
   "cell_type": "code",
   "execution_count": 41,
   "id": "1eb9a2b5-3548-4b64-8aac-5fb5f28ed793",
   "metadata": {},
   "outputs": [],
   "source": [
    "dw1 = 1/num_data * dz1.dot(flattened.T)\n",
    "db1 = 1/num_data * np.sum(dz1)"
   ]
  },
  {
   "cell_type": "code",
   "execution_count": 42,
   "id": "488c4569-8eef-4ba1-9a78-a29b01740fb3",
   "metadata": {},
   "outputs": [
    {
     "name": "stdout",
     "output_type": "stream",
     "text": [
      "(50, 1)\n",
      "(50, 144)\n",
      "()\n"
     ]
    }
   ],
   "source": [
    "print(dz1.shape)\n",
    "print(dw1.shape)\n",
    "print(db1.shape)"
   ]
  },
  {
   "cell_type": "code",
   "execution_count": 43,
   "id": "0392c849-2338-4511-8aa4-8b13e2d6ef4c",
   "metadata": {},
   "outputs": [
    {
     "name": "stdout",
     "output_type": "stream",
     "text": [
      "0.0\n"
     ]
    }
   ],
   "source": [
    "print(db1)"
   ]
  },
  {
   "cell_type": "code",
   "execution_count": null,
   "id": "f3ce25ae-fbce-4a4a-ab11-979bbddae92f",
   "metadata": {},
   "outputs": [],
   "source": []
  },
  {
   "cell_type": "code",
   "execution_count": null,
   "id": "c72f8bdc-ee87-42c5-b150-43f83f567ba3",
   "metadata": {},
   "outputs": [],
   "source": []
  },
  {
   "cell_type": "code",
   "execution_count": null,
   "id": "5eb658e2-0444-4f18-93cb-e7d7386d9885",
   "metadata": {},
   "outputs": [],
   "source": []
  },
  {
   "cell_type": "code",
   "execution_count": null,
   "id": "8038f749-e101-4c7e-a3c8-85fa33ee21a8",
   "metadata": {},
   "outputs": [],
   "source": []
  },
  {
   "cell_type": "markdown",
   "id": "8e86d0c4-9ec2-4f09-bf2a-a34b7fba82e0",
   "metadata": {},
   "source": [
    "### For the second convolutional layer of the CNN"
   ]
  },
  {
   "cell_type": "code",
   "execution_count": 44,
   "id": "86b2006f-2e93-4c71-98f4-d7daadbc0a20",
   "metadata": {},
   "outputs": [
    {
     "name": "stdout",
     "output_type": "stream",
     "text": [
      "(144, 1)\n"
     ]
    }
   ],
   "source": [
    "df = dw1.T.dot(dz1)\n",
    "print(df.shape) #hopefully its shape is (144, 1)"
   ]
  },
  {
   "cell_type": "code",
   "execution_count": 45,
   "id": "f8e847a1-ebeb-4254-ae75-0290a5aef102",
   "metadata": {},
   "outputs": [],
   "source": [
    "#now we have to reshape df array into the shape that it requires to be in the shape of pooling layer from previous layer\n",
    "dp2 = df.reshape((4, 6, 6)) #gradient for pooling layer"
   ]
  },
  {
   "cell_type": "code",
   "execution_count": 59,
   "id": "188dcba0-f44f-4f61-90b7-bc87ca09e315",
   "metadata": {},
   "outputs": [
    {
     "name": "stdout",
     "output_type": "stream",
     "text": [
      "(4, 12, 12)\n"
     ]
    }
   ],
   "source": [
    "def max_pool_backward(dp2, relued_again):\n",
    "    d_relued_again = np.zeros_like(relued_again)\n",
    "    #for each maximum number, find its position and assign the particular gradient to it!\n",
    "    for k in range(4):\n",
    "        a = 0\n",
    "        for i in range(0, 12, 2):\n",
    "            b = 0\n",
    "            for j in range(0, 12, 2):\n",
    "                #now we get the indice of the maximum element from the given filter inspection\n",
    "                the_max = max(relued_again[k][i][j], relued_again[k][i][j+1], relued_again[k][i+1][j], relued_again[k][i+1][j+1])\n",
    "                #fuck it. I just can't find the function to find the index of the maximum array or my brain isn't working rn, so m gonna use if here\n",
    "                if the_max == relued_again[k][i][j]:\n",
    "                    i_is = i\n",
    "                    j_is = j\n",
    "                elif the_max == relued_again[k][i][j+1]:\n",
    "                    i_is = i\n",
    "                    j_is = j+1\n",
    "                elif the_max == relued_again[k][i+1][j]:\n",
    "                    i_is = i+1\n",
    "                    j_is = j\n",
    "                else:\n",
    "                    i_is = i+1\n",
    "                    j_is = j+1\n",
    "                d_relued_again[k][i_is][j_is] = dp2[k][a][b] #put gradient in the position at the exact position of the maximum element\n",
    "                b += 1\n",
    "            a += 1\n",
    "    return d_relued_again\n",
    "\n",
    "d_relued_again = max_pool_backward(dp2, relued_again)\n",
    "# print(d_relued_again)\n",
    "print(d_relued_again.shape)"
   ]
  },
  {
   "cell_type": "markdown",
   "id": "e5cbfc5f-d45c-447a-966a-632ec86d374e",
   "metadata": {},
   "source": [
    "### I have tried doing this back-propagation in max-pooling layer to the best of my ability but I don't quite know if this has been performed correctly or not. Would have to double check things after I start getting positive gradients or any gradients at all!"
   ]
  },
  {
   "cell_type": "code",
   "execution_count": null,
   "id": "55f38cd3-e1e5-4b01-bee8-2614a6242cf3",
   "metadata": {},
   "outputs": [],
   "source": []
  },
  {
   "cell_type": "code",
   "execution_count": null,
   "id": "22cd02e1-418c-4d8c-9884-0c6f572310b2",
   "metadata": {},
   "outputs": [],
   "source": []
  },
  {
   "cell_type": "code",
   "execution_count": null,
   "id": "ee28e5cc-e00a-4f30-9270-67df0f5c8984",
   "metadata": {},
   "outputs": [],
   "source": []
  },
  {
   "cell_type": "markdown",
   "id": "913019c7-2af8-420f-b930-c7c2502456b9",
   "metadata": {},
   "source": [
    "### For the gradient calculation of the relu of the second convolutional layer, we'll be using the already built diff_relu function"
   ]
  },
  {
   "cell_type": "code",
   "execution_count": 60,
   "id": "944c90eb-ae81-4f34-83f6-1a96dded218a",
   "metadata": {
    "scrolled": true
   },
   "outputs": [
    {
     "name": "stdout",
     "output_type": "stream",
     "text": [
      "(4, 12, 12)\n",
      "[[[0. 0. 0. 0. 0. 0. 0. 0. 0. 0. 0. 0.]\n",
      "  [0. 0. 0. 0. 0. 0. 0. 0. 0. 0. 0. 0.]\n",
      "  [0. 0. 0. 0. 0. 0. 0. 0. 0. 0. 0. 0.]\n",
      "  [0. 0. 0. 0. 0. 0. 0. 0. 0. 0. 0. 0.]\n",
      "  [0. 0. 0. 0. 0. 0. 0. 0. 0. 0. 0. 0.]\n",
      "  [0. 0. 0. 0. 0. 0. 0. 0. 0. 0. 0. 0.]\n",
      "  [0. 0. 0. 0. 0. 0. 0. 0. 0. 0. 0. 0.]\n",
      "  [0. 0. 0. 0. 0. 0. 0. 0. 0. 0. 0. 0.]\n",
      "  [0. 0. 0. 0. 0. 0. 0. 0. 0. 0. 0. 0.]\n",
      "  [0. 0. 0. 0. 0. 0. 0. 0. 0. 0. 0. 0.]\n",
      "  [0. 0. 0. 0. 0. 0. 0. 0. 0. 0. 0. 0.]\n",
      "  [0. 0. 0. 0. 0. 0. 0. 0. 0. 0. 0. 0.]]\n",
      "\n",
      " [[0. 0. 0. 0. 0. 0. 0. 0. 0. 0. 0. 0.]\n",
      "  [0. 0. 0. 0. 0. 0. 0. 0. 0. 0. 0. 0.]\n",
      "  [0. 0. 0. 0. 0. 0. 0. 0. 0. 0. 0. 0.]\n",
      "  [0. 0. 0. 0. 0. 0. 0. 0. 0. 0. 0. 0.]\n",
      "  [0. 0. 0. 0. 0. 0. 0. 0. 0. 0. 0. 0.]\n",
      "  [0. 0. 0. 0. 0. 0. 0. 0. 0. 0. 0. 0.]\n",
      "  [0. 0. 0. 0. 0. 0. 0. 0. 0. 0. 0. 0.]\n",
      "  [0. 0. 0. 0. 0. 0. 0. 0. 0. 0. 0. 0.]\n",
      "  [0. 0. 0. 0. 0. 0. 0. 0. 0. 0. 0. 0.]\n",
      "  [0. 0. 0. 0. 0. 0. 0. 0. 0. 0. 0. 0.]\n",
      "  [0. 0. 0. 0. 0. 0. 0. 0. 0. 0. 0. 0.]\n",
      "  [0. 0. 0. 0. 0. 0. 0. 0. 0. 0. 0. 0.]]\n",
      "\n",
      " [[0. 0. 0. 0. 0. 0. 0. 0. 0. 0. 0. 0.]\n",
      "  [0. 0. 0. 0. 0. 0. 0. 0. 0. 0. 0. 0.]\n",
      "  [0. 0. 0. 0. 0. 0. 0. 0. 0. 0. 0. 0.]\n",
      "  [0. 0. 0. 0. 0. 0. 0. 0. 0. 0. 0. 0.]\n",
      "  [0. 0. 0. 0. 0. 0. 0. 0. 0. 0. 0. 0.]\n",
      "  [0. 0. 0. 0. 0. 0. 0. 0. 0. 0. 0. 0.]\n",
      "  [0. 0. 0. 0. 0. 0. 0. 0. 0. 0. 0. 0.]\n",
      "  [0. 0. 0. 0. 0. 0. 0. 0. 0. 0. 0. 0.]\n",
      "  [0. 0. 0. 0. 0. 0. 0. 0. 0. 0. 0. 0.]\n",
      "  [0. 0. 0. 0. 0. 0. 0. 0. 0. 0. 0. 0.]\n",
      "  [0. 0. 0. 0. 0. 0. 0. 0. 0. 0. 0. 0.]\n",
      "  [0. 0. 0. 0. 0. 0. 0. 0. 0. 0. 0. 0.]]\n",
      "\n",
      " [[0. 0. 0. 0. 0. 0. 0. 0. 0. 0. 0. 0.]\n",
      "  [0. 0. 0. 0. 0. 0. 0. 0. 0. 0. 0. 0.]\n",
      "  [0. 0. 0. 0. 0. 0. 0. 0. 0. 0. 0. 0.]\n",
      "  [0. 0. 0. 0. 0. 0. 0. 0. 0. 0. 0. 0.]\n",
      "  [0. 0. 0. 0. 0. 0. 0. 0. 0. 0. 0. 0.]\n",
      "  [0. 0. 0. 0. 0. 0. 0. 0. 0. 0. 0. 0.]\n",
      "  [0. 0. 0. 0. 0. 0. 0. 0. 0. 0. 0. 0.]\n",
      "  [0. 0. 0. 0. 0. 0. 0. 0. 0. 0. 0. 0.]\n",
      "  [0. 0. 0. 0. 0. 0. 0. 0. 0. 0. 0. 0.]\n",
      "  [0. 0. 0. 0. 0. 0. 0. 0. 0. 0. 0. 0.]\n",
      "  [0. 0. 0. 0. 0. 0. 0. 0. 0. 0. 0. 0.]\n",
      "  [0. 0. 0. 0. 0. 0. 0. 0. 0. 0. 0. 0.]]]\n"
     ]
    }
   ],
   "source": [
    "# We'll just pass the relued_again to the differentation calculator of relu function. That's the only step required here I suppose and we should\n",
    "# be okay using the relued_again array in the convolutional layer now.\n",
    "\n",
    "diff_relu(d_relued_again)\n",
    "print(d_relued_again.shape)\n",
    "# print(d_relued_again)"
   ]
  },
  {
   "cell_type": "code",
   "execution_count": null,
   "id": "5d21de0b-57d1-4ee3-b393-1ef90e88ca34",
   "metadata": {},
   "outputs": [],
   "source": []
  },
  {
   "cell_type": "code",
   "execution_count": null,
   "id": "063a777a-64c7-4880-b9fc-a0616fd9f8d1",
   "metadata": {},
   "outputs": [],
   "source": []
  },
  {
   "cell_type": "code",
   "execution_count": null,
   "id": "824e2a19-17f4-4f94-a59d-b661bc0a4bad",
   "metadata": {},
   "outputs": [],
   "source": []
  },
  {
   "cell_type": "code",
   "execution_count": null,
   "id": "473582ac-90b9-4e44-8123-be42e5356222",
   "metadata": {},
   "outputs": [],
   "source": []
  },
  {
   "cell_type": "markdown",
   "id": "4b516853-d3a9-4d3e-9af9-fe16690a9c17",
   "metadata": {},
   "source": [
    "## Now it's the endgame innit? I haven't yet idea how we're going to do it and what exactly to do. I just can solve things in pen and paper but I don't quite know what it'll be like in the real solution in terms of code.\n",
    "\n",
    "### As per the theory I recall that the gradient for the filter K = convolution(X, dz)  where, X = input from previous layer and dz is the gradient that has been received from the previous layer.\n",
    "\n",
    "### In our case the gradient is d_relued_again and the value of X is 'max_pool' variable. Another problem that we have here is that we have a bigger filter size, so its not gonna be that easy or feasible to perform the convolution operation like we did in the forward passing taking only 3*3 pixel values at a time. We have to be smarter with our code usage if we don't want to perform errors or repeat code. The total 'IMAGE' to convolve over is of size (4, 15, 15) and the 'FILTER' that we'll be using to convolve will be of size (4, 12, 12) and this should result in a gradient for the filter of size (4, 3, 3) which should be usable to backpropagate the filter."
   ]
  },
  {
   "cell_type": "code",
   "execution_count": null,
   "id": "38ae9008-6e26-4d40-bd37-a6649415eedf",
   "metadata": {},
   "outputs": [],
   "source": []
  },
  {
   "cell_type": "code",
   "execution_count": null,
   "id": "801abeb1-6bd2-4527-9893-f9df4b483090",
   "metadata": {},
   "outputs": [],
   "source": [
    "d_fliter = np.zeros((4, 3, 3))\n",
    "for filter_num in range(4):\n",
    "    for i in range(3):\n",
    "        for j in range(3):\n",
    "            added_value = 0\n",
    "            #add the sum of convolution layer\n",
    "            for k in range(12):\n",
    "                for l in range(12):\n",
    "                    added_value += max_pool[][k][l] * d_relued_again[filter_num][k][l]\n",
    "            d_filter[filter_num][i][j] = added_value"
   ]
  }
 ],
 "metadata": {
  "kernelspec": {
   "display_name": "Python 3 (ipykernel)",
   "language": "python",
   "name": "python3"
  },
  "language_info": {
   "codemirror_mode": {
    "name": "ipython",
    "version": 3
   },
   "file_extension": ".py",
   "mimetype": "text/x-python",
   "name": "python",
   "nbconvert_exporter": "python",
   "pygments_lexer": "ipython3",
   "version": "3.12.3"
  }
 },
 "nbformat": 4,
 "nbformat_minor": 5
}
